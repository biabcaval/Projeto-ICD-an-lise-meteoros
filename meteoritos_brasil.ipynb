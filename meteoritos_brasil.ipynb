{
 "cells": [
  {
   "cell_type": "code",
   "execution_count": 1,
   "id": "c78ce344",
   "metadata": {},
   "outputs": [],
   "source": [
    "# notebook para análise de arquivo csv obtido via web scraping\n",
    "# o site fonte é o Meteoritical Bulletin Database, da The Meteoritical Society, e conta atualmente com\n",
    "# 100 registros de meteoritos no Brasil (link: https://www.lpi.usra.edu/meteor/)"
   ]
  },
  {
   "cell_type": "code",
   "execution_count": 2,
   "id": "d03d95c7",
   "metadata": {},
   "outputs": [],
   "source": [
    "####### faltando:\n",
    "# inserir descrição das colunas e unidades usadas(se numérico) - do DataBase\n",
    "# detalhar fonte do dataset"
   ]
  },
  {
   "cell_type": "code",
   "execution_count": 1,
   "id": "28235fed",
   "metadata": {},
   "outputs": [],
   "source": [
    "import pandas as pd\n",
    "import numpy as np\n",
    "import matplotlib.pyplot as plt\n",
    "from math import log, e\n",
    "import seaborn as sns"
   ]
  },
  {
   "cell_type": "code",
   "execution_count": 2,
   "id": "3021af01",
   "metadata": {},
   "outputs": [
    {
     "data": {
      "text/html": [
       "<div>\n",
       "<style scoped>\n",
       "    .dataframe tbody tr th:only-of-type {\n",
       "        vertical-align: middle;\n",
       "    }\n",
       "\n",
       "    .dataframe tbody tr th {\n",
       "        vertical-align: top;\n",
       "    }\n",
       "\n",
       "    .dataframe thead th {\n",
       "        text-align: right;\n",
       "    }\n",
       "</style>\n",
       "<table border=\"1\" class=\"dataframe\">\n",
       "  <thead>\n",
       "    <tr style=\"text-align: right;\">\n",
       "      <th></th>\n",
       "      <th>web-scraper-order</th>\n",
       "      <th>web-scraper-start-url</th>\n",
       "      <th>Name</th>\n",
       "      <th>Status</th>\n",
       "      <th>Fall</th>\n",
       "      <th>Year</th>\n",
       "      <th>Place</th>\n",
       "      <th>Type</th>\n",
       "      <th>Mass</th>\n",
       "      <th>MetBull</th>\n",
       "    </tr>\n",
       "  </thead>\n",
       "  <tbody>\n",
       "    <tr>\n",
       "      <th>0</th>\n",
       "      <td>1685536964-1</td>\n",
       "      <td>https://www.lpi.usra.edu/meteor/metbull.php?se...</td>\n",
       "      <td>Angra dos Reis (stone)</td>\n",
       "      <td>Official</td>\n",
       "      <td>Y</td>\n",
       "      <td>1869</td>\n",
       "      <td>Rio de Janeiro, Brazil</td>\n",
       "      <td>Angrite</td>\n",
       "      <td>1500 g</td>\n",
       "      <td>NaN</td>\n",
       "    </tr>\n",
       "    <tr>\n",
       "      <th>1</th>\n",
       "      <td>1685536964-2</td>\n",
       "      <td>https://www.lpi.usra.edu/meteor/metbull.php?se...</td>\n",
       "      <td>Araguainha **</td>\n",
       "      <td>Crater</td>\n",
       "      <td>NaN</td>\n",
       "      <td>254.7 ± 2.5 Ma</td>\n",
       "      <td>Mato Grosso, Brazil</td>\n",
       "      <td>Impact Crater</td>\n",
       "      <td>NaN</td>\n",
       "      <td>NaN</td>\n",
       "    </tr>\n",
       "    <tr>\n",
       "      <th>2</th>\n",
       "      <td>1685536964-3</td>\n",
       "      <td>https://www.lpi.usra.edu/meteor/metbull.php?se...</td>\n",
       "      <td>Arraias **</td>\n",
       "      <td>Official</td>\n",
       "      <td>NaN</td>\n",
       "      <td>2015</td>\n",
       "      <td>Tocantins, Brazil</td>\n",
       "      <td>Iron, IIAB</td>\n",
       "      <td>25 kg</td>\n",
       "      <td>108.0</td>\n",
       "    </tr>\n",
       "  </tbody>\n",
       "</table>\n",
       "</div>"
      ],
      "text/plain": [
       "  web-scraper-order                              web-scraper-start-url  \\\n",
       "0      1685536964-1  https://www.lpi.usra.edu/meteor/metbull.php?se...   \n",
       "1      1685536964-2  https://www.lpi.usra.edu/meteor/metbull.php?se...   \n",
       "2      1685536964-3  https://www.lpi.usra.edu/meteor/metbull.php?se...   \n",
       "\n",
       "                     Name    Status Fall            Year  \\\n",
       "0  Angra dos Reis (stone)  Official    Y            1869   \n",
       "1           Araguainha **    Crater  NaN  254.7 ± 2.5 Ma   \n",
       "2              Arraias **  Official  NaN            2015   \n",
       "\n",
       "                    Place           Type    Mass  MetBull  \n",
       "0  Rio de Janeiro, Brazil        Angrite  1500 g      NaN  \n",
       "1     Mato Grosso, Brazil  Impact Crater     NaN      NaN  \n",
       "2       Tocantins, Brazil     Iron, IIAB   25 kg    108.0  "
      ]
     },
     "execution_count": 2,
     "metadata": {},
     "output_type": "execute_result"
    }
   ],
   "source": [
    "df = pd.read_csv('datasets/meteoritos_brasil.csv')\n",
    "df.head(3)"
   ]
  },
  {
   "cell_type": "code",
   "execution_count": 3,
   "id": "3f42a332",
   "metadata": {},
   "outputs": [],
   "source": [
    "df = df.drop(columns=['web-scraper-order','web-scraper-start-url'])"
   ]
  },
  {
   "cell_type": "code",
   "execution_count": 6,
   "id": "b475b6c6",
   "metadata": {},
   "outputs": [
    {
     "data": {
      "text/html": [
       "<div>\n",
       "<style scoped>\n",
       "    .dataframe tbody tr th:only-of-type {\n",
       "        vertical-align: middle;\n",
       "    }\n",
       "\n",
       "    .dataframe tbody tr th {\n",
       "        vertical-align: top;\n",
       "    }\n",
       "\n",
       "    .dataframe thead th {\n",
       "        text-align: right;\n",
       "    }\n",
       "</style>\n",
       "<table border=\"1\" class=\"dataframe\">\n",
       "  <thead>\n",
       "    <tr style=\"text-align: right;\">\n",
       "      <th></th>\n",
       "      <th>Name</th>\n",
       "      <th>Status</th>\n",
       "      <th>Fall</th>\n",
       "      <th>Year</th>\n",
       "      <th>Place</th>\n",
       "      <th>Type</th>\n",
       "      <th>Mass</th>\n",
       "      <th>MetBull</th>\n",
       "    </tr>\n",
       "  </thead>\n",
       "  <tbody>\n",
       "    <tr>\n",
       "      <th>0</th>\n",
       "      <td>Angra dos Reis (stone)</td>\n",
       "      <td>Official</td>\n",
       "      <td>Y</td>\n",
       "      <td>1869</td>\n",
       "      <td>Rio de Janeiro, Brazil</td>\n",
       "      <td>Angrite</td>\n",
       "      <td>1500 g</td>\n",
       "      <td>NaN</td>\n",
       "    </tr>\n",
       "    <tr>\n",
       "      <th>1</th>\n",
       "      <td>Araguainha **</td>\n",
       "      <td>Crater</td>\n",
       "      <td>NaN</td>\n",
       "      <td>254.7 ± 2.5 Ma</td>\n",
       "      <td>Mato Grosso, Brazil</td>\n",
       "      <td>Impact Crater</td>\n",
       "      <td>NaN</td>\n",
       "      <td>NaN</td>\n",
       "    </tr>\n",
       "    <tr>\n",
       "      <th>2</th>\n",
       "      <td>Arraias **</td>\n",
       "      <td>Official</td>\n",
       "      <td>NaN</td>\n",
       "      <td>2015</td>\n",
       "      <td>Tocantins, Brazil</td>\n",
       "      <td>Iron, IIAB</td>\n",
       "      <td>25 kg</td>\n",
       "      <td>108.0</td>\n",
       "    </tr>\n",
       "    <tr>\n",
       "      <th>3</th>\n",
       "      <td>Augusto Pestana **</td>\n",
       "      <td>Official</td>\n",
       "      <td>NaN</td>\n",
       "      <td>1977</td>\n",
       "      <td>Rio Grande do Sul, Brazil</td>\n",
       "      <td>Iron, IIIE</td>\n",
       "      <td>24 kg</td>\n",
       "      <td>111.0</td>\n",
       "    </tr>\n",
       "    <tr>\n",
       "      <th>4</th>\n",
       "      <td>Avanhandava</td>\n",
       "      <td>Official</td>\n",
       "      <td>Y</td>\n",
       "      <td>1952</td>\n",
       "      <td>Sao Paulo, Brazil</td>\n",
       "      <td>H4</td>\n",
       "      <td>9.33 kg</td>\n",
       "      <td>NaN</td>\n",
       "    </tr>\n",
       "    <tr>\n",
       "      <th>5</th>\n",
       "      <td>Balsas **</td>\n",
       "      <td>Official</td>\n",
       "      <td>NaN</td>\n",
       "      <td>1974</td>\n",
       "      <td>Maranhao, Brazil</td>\n",
       "      <td>Iron, IIIAB</td>\n",
       "      <td>41 kg</td>\n",
       "      <td>82.0</td>\n",
       "    </tr>\n",
       "    <tr>\n",
       "      <th>6</th>\n",
       "      <td>Barbacena</td>\n",
       "      <td>Official</td>\n",
       "      <td>NaN</td>\n",
       "      <td>1918</td>\n",
       "      <td>Minas Gerais, Brazil</td>\n",
       "      <td>Iron, ungrouped</td>\n",
       "      <td>9.03 kg</td>\n",
       "      <td>NaN</td>\n",
       "    </tr>\n",
       "    <tr>\n",
       "      <th>7</th>\n",
       "      <td>Bendegó</td>\n",
       "      <td>Official</td>\n",
       "      <td>NaN</td>\n",
       "      <td>1784</td>\n",
       "      <td>Bahia, Brazil</td>\n",
       "      <td>Iron, IC</td>\n",
       "      <td>5.36 t</td>\n",
       "      <td>NaN</td>\n",
       "    </tr>\n",
       "    <tr>\n",
       "      <th>8</th>\n",
       "      <td>Bezerros</td>\n",
       "      <td>Doubtful</td>\n",
       "      <td>Y</td>\n",
       "      <td>1915</td>\n",
       "      <td>Pernambuco, Brazil</td>\n",
       "      <td>Doubtful Iron</td>\n",
       "      <td>NaN</td>\n",
       "      <td>NaN</td>\n",
       "    </tr>\n",
       "    <tr>\n",
       "      <th>9</th>\n",
       "      <td>Blumenau **</td>\n",
       "      <td>Official</td>\n",
       "      <td>NaN</td>\n",
       "      <td>1986</td>\n",
       "      <td>Santa Catarina, Brazil</td>\n",
       "      <td>Iron, IVA</td>\n",
       "      <td>NaN</td>\n",
       "      <td>82.0</td>\n",
       "    </tr>\n",
       "  </tbody>\n",
       "</table>\n",
       "</div>"
      ],
      "text/plain": [
       "                     Name    Status Fall            Year  \\\n",
       "0  Angra dos Reis (stone)  Official    Y            1869   \n",
       "1           Araguainha **    Crater  NaN  254.7 ± 2.5 Ma   \n",
       "2              Arraias **  Official  NaN            2015   \n",
       "3      Augusto Pestana **  Official  NaN            1977   \n",
       "4             Avanhandava  Official    Y            1952   \n",
       "5               Balsas **  Official  NaN            1974   \n",
       "6               Barbacena  Official  NaN            1918   \n",
       "7                 Bendegó  Official  NaN            1784   \n",
       "8                Bezerros  Doubtful    Y            1915   \n",
       "9             Blumenau **  Official  NaN            1986   \n",
       "\n",
       "                       Place             Type     Mass  MetBull  \n",
       "0     Rio de Janeiro, Brazil          Angrite   1500 g      NaN  \n",
       "1        Mato Grosso, Brazil    Impact Crater      NaN      NaN  \n",
       "2          Tocantins, Brazil       Iron, IIAB    25 kg    108.0  \n",
       "3  Rio Grande do Sul, Brazil       Iron, IIIE    24 kg    111.0  \n",
       "4          Sao Paulo, Brazil               H4  9.33 kg      NaN  \n",
       "5           Maranhao, Brazil      Iron, IIIAB    41 kg     82.0  \n",
       "6       Minas Gerais, Brazil  Iron, ungrouped  9.03 kg      NaN  \n",
       "7              Bahia, Brazil         Iron, IC   5.36 t      NaN  \n",
       "8         Pernambuco, Brazil    Doubtful Iron      NaN      NaN  \n",
       "9     Santa Catarina, Brazil        Iron, IVA      NaN     82.0  "
      ]
     },
     "execution_count": 6,
     "metadata": {},
     "output_type": "execute_result"
    }
   ],
   "source": [
    "df.head(10)"
   ]
  },
  {
   "cell_type": "code",
   "execution_count": 7,
   "id": "4927ce17",
   "metadata": {},
   "outputs": [
    {
     "data": {
      "text/plain": [
       "(100, 8)"
      ]
     },
     "execution_count": 7,
     "metadata": {},
     "output_type": "execute_result"
    }
   ],
   "source": [
    "np.shape(df) #verificando no. de registros do dataset"
   ]
  },
  {
   "cell_type": "markdown",
   "id": "a13a0213",
   "metadata": {},
   "source": [
    "#### Massa média dos meteoros que atingem o Brasil\n",
    "- A coluna Mass apresenta dados não homogeneizados, as unidades encontradas são g, kg e t. Também apresenta registros de massa desconhecida (algumas são crateras)"
   ]
  },
  {
   "cell_type": "code",
   "execution_count": 8,
   "id": "b8887e46",
   "metadata": {},
   "outputs": [],
   "source": [
    "def converter_em_gramas(massa):\n",
    "    \"recebe uma massa em string e converte para um float (em gramas)\"\n",
    "    if massa != massa:  # é verdadeiro para NaN, caso das crateras\n",
    "        return massa\n",
    "    valor, unidade = massa.split(' ')\n",
    "    valor = float(valor) # casting da magnitude\n",
    "    if unidade == \"g\":    \n",
    "        return valor\n",
    "    if unidade == \"kg\": # 1kg = 1000g\n",
    "        return valor * 1000\n",
    "    if unidade == \"t\": # 1t = 1000000g\n",
    "        return valor * 1000000\n"
   ]
  },
  {
   "cell_type": "code",
   "execution_count": 9,
   "id": "18889a59",
   "metadata": {},
   "outputs": [
    {
     "data": {
      "text/plain": [
       "1500.0"
      ]
     },
     "execution_count": 9,
     "metadata": {},
     "output_type": "execute_result"
    }
   ],
   "source": [
    "converter_em_gramas(df['Mass'][0])"
   ]
  },
  {
   "cell_type": "code",
   "execution_count": 10,
   "id": "a0f0dbe5",
   "metadata": {},
   "outputs": [
    {
     "data": {
      "text/plain": [
       "nan"
      ]
     },
     "execution_count": 10,
     "metadata": {},
     "output_type": "execute_result"
    }
   ],
   "source": [
    "converter_em_gramas(df['Mass'][1]) # testando valores das crateras"
   ]
  },
  {
   "cell_type": "code",
   "execution_count": 11,
   "id": "9a1e6989",
   "metadata": {},
   "outputs": [],
   "source": [
    "# Homogeneizando coluna da Mass (os valores devem ser em gramas ou nan)\n",
    "mass_g = [converter_em_gramas(m) for m in df['Mass']]\n",
    "df['Mass'] = mass_g"
   ]
  },
  {
   "cell_type": "code",
   "execution_count": 12,
   "id": "d1995395",
   "metadata": {},
   "outputs": [
    {
     "data": {
      "text/plain": [
       "224876.70229885058"
      ]
     },
     "execution_count": 12,
     "metadata": {},
     "output_type": "execute_result"
    }
   ],
   "source": [
    "# análise descritiva da massa dos meteoritos\n",
    "mean_mass = np.mean(df['Mass'])\n",
    "mean_mass"
   ]
  },
  {
   "cell_type": "code",
   "execution_count": 13,
   "id": "b0f88c7e",
   "metadata": {},
   "outputs": [
    {
     "data": {
      "text/plain": [
       "count    8.700000e+01\n",
       "mean     2.248767e+05\n",
       "std      9.754596e+05\n",
       "min      1.500000e+01\n",
       "25%      9.515000e+02\n",
       "50%      7.000000e+03\n",
       "75%      4.450000e+04\n",
       "max      7.000000e+06\n",
       "Name: Mass, dtype: float64"
      ]
     },
     "execution_count": 13,
     "metadata": {},
     "output_type": "execute_result"
    }
   ],
   "source": [
    "df['Mass'].describe()"
   ]
  },
  {
   "cell_type": "code",
   "execution_count": 14,
   "id": "dd313b78",
   "metadata": {},
   "outputs": [
    {
     "data": {
      "text/plain": [
       "940584355487.5277"
      ]
     },
     "execution_count": 14,
     "metadata": {},
     "output_type": "execute_result"
    }
   ],
   "source": [
    "var_mass = np.var(df['Mass']); var_mass"
   ]
  },
  {
   "cell_type": "code",
   "execution_count": 15,
   "id": "28a5e69b",
   "metadata": {},
   "outputs": [
    {
     "data": {
      "text/plain": [
       "969837.2829952083"
      ]
     },
     "execution_count": 15,
     "metadata": {},
     "output_type": "execute_result"
    }
   ],
   "source": [
    "std_mass = np.std(df['Mass']); std_mass"
   ]
  },
  {
   "cell_type": "markdown",
   "id": "ae88245c",
   "metadata": {},
   "source": [
    "Obtemos que a massa média dos meteoritos brasileiros é cerca de 224.9 kg. Este dado não reflete bem os valores observados, pois possuem uma perceptível distorção em magnitude: enquanto algumas rochas apresentam algumas gramas, outras são melhor medidas em toneladas. Em termos numéricos, temos que a desvio-padrão da Mass é grande(std_mass). Será usada outra medida de centralidade, a mediana."
   ]
  },
  {
   "cell_type": "markdown",
   "id": "9382f120",
   "metadata": {},
   "source": [
    "[\"Vale ressaltar que a mediana é a medida de tendência central mais indicada quando os dados possuem distribuição assimétrica, uma vez que a média aritmética é influenciada pelos valores extremos.\"](https://statplace.com.br/blog/como-interpretar-um-boxplot/)"
   ]
  },
  {
   "cell_type": "code",
   "execution_count": 16,
   "id": "7abd622d",
   "metadata": {},
   "outputs": [
    {
     "data": {
      "text/plain": [
       "7000.0"
      ]
     },
     "execution_count": 16,
     "metadata": {},
     "output_type": "execute_result"
    }
   ],
   "source": [
    "median_mass = np.median(df['Mass'].dropna())\n",
    "median_mass"
   ]
  },
  {
   "cell_type": "markdown",
   "id": "15b66e03",
   "metadata": {},
   "source": [
    "A mediana das massas é 7kg. O que é um valor mais aproximada para os meteoritos menores que se apresentam em maior quantidade que meteoritos gigantes.  Outra forma usada para observar o comportamento da massa será o boxplot, para termos uma visão mais ampla dos valores apresentados:"
   ]
  },
  {
   "cell_type": "code",
   "execution_count": 17,
   "id": "30e563e6",
   "metadata": {},
   "outputs": [
    {
     "data": {
      "text/html": [
       "<div>\n",
       "<style scoped>\n",
       "    .dataframe tbody tr th:only-of-type {\n",
       "        vertical-align: middle;\n",
       "    }\n",
       "\n",
       "    .dataframe tbody tr th {\n",
       "        vertical-align: top;\n",
       "    }\n",
       "\n",
       "    .dataframe thead th {\n",
       "        text-align: right;\n",
       "    }\n",
       "</style>\n",
       "<table border=\"1\" class=\"dataframe\">\n",
       "  <thead>\n",
       "    <tr style=\"text-align: right;\">\n",
       "      <th></th>\n",
       "      <th>Name</th>\n",
       "      <th>Status</th>\n",
       "      <th>Fall</th>\n",
       "      <th>Year</th>\n",
       "      <th>Place</th>\n",
       "      <th>Type</th>\n",
       "      <th>Mass</th>\n",
       "      <th>MetBull</th>\n",
       "      <th>log_Mass</th>\n",
       "    </tr>\n",
       "  </thead>\n",
       "  <tbody>\n",
       "    <tr>\n",
       "      <th>0</th>\n",
       "      <td>Angra dos Reis (stone)</td>\n",
       "      <td>Official</td>\n",
       "      <td>Y</td>\n",
       "      <td>1869</td>\n",
       "      <td>Rio de Janeiro, Brazil</td>\n",
       "      <td>Angrite</td>\n",
       "      <td>1500.0</td>\n",
       "      <td>NaN</td>\n",
       "      <td>7.313220</td>\n",
       "    </tr>\n",
       "    <tr>\n",
       "      <th>1</th>\n",
       "      <td>Araguainha **</td>\n",
       "      <td>Crater</td>\n",
       "      <td>NaN</td>\n",
       "      <td>254.7 ± 2.5 Ma</td>\n",
       "      <td>Mato Grosso, Brazil</td>\n",
       "      <td>Impact Crater</td>\n",
       "      <td>NaN</td>\n",
       "      <td>NaN</td>\n",
       "      <td>NaN</td>\n",
       "    </tr>\n",
       "    <tr>\n",
       "      <th>2</th>\n",
       "      <td>Arraias **</td>\n",
       "      <td>Official</td>\n",
       "      <td>NaN</td>\n",
       "      <td>2015</td>\n",
       "      <td>Tocantins, Brazil</td>\n",
       "      <td>Iron, IIAB</td>\n",
       "      <td>25000.0</td>\n",
       "      <td>108.0</td>\n",
       "      <td>10.126631</td>\n",
       "    </tr>\n",
       "  </tbody>\n",
       "</table>\n",
       "</div>"
      ],
      "text/plain": [
       "                     Name    Status Fall            Year  \\\n",
       "0  Angra dos Reis (stone)  Official    Y            1869   \n",
       "1           Araguainha **    Crater  NaN  254.7 ± 2.5 Ma   \n",
       "2              Arraias **  Official  NaN            2015   \n",
       "\n",
       "                    Place           Type     Mass  MetBull   log_Mass  \n",
       "0  Rio de Janeiro, Brazil        Angrite   1500.0      NaN   7.313220  \n",
       "1     Mato Grosso, Brazil  Impact Crater      NaN      NaN        NaN  \n",
       "2       Tocantins, Brazil     Iron, IIAB  25000.0    108.0  10.126631  "
      ]
     },
     "execution_count": 17,
     "metadata": {},
     "output_type": "execute_result"
    }
   ],
   "source": [
    "#df.boxplot(column=['Mass']) # apresenta valores distantes entre si, boxplot compactado em linha\n",
    "# criando nova coluna para Mass, utilizando função logarítmica\n",
    "log_mass = [log(m) for m in df['Mass']]\n",
    "df['log_Mass'] = log_mass # adicionando coluna ao dataset\n",
    "df.head(3)"
   ]
  },
  {
   "cell_type": "code",
   "execution_count": 18,
   "id": "c3ef4c11",
   "metadata": {},
   "outputs": [
    {
     "data": {
      "text/plain": [
       "count    87.000000\n",
       "mean      8.809842\n",
       "std       2.708725\n",
       "min       2.708050\n",
       "25%       6.857708\n",
       "50%       8.853665\n",
       "75%      10.700142\n",
       "max      15.761421\n",
       "Name: log_Mass, dtype: float64"
      ]
     },
     "execution_count": 18,
     "metadata": {},
     "output_type": "execute_result"
    }
   ],
   "source": [
    "df['log_Mass'].describe()"
   ]
  },
  {
   "cell_type": "code",
   "execution_count": 19,
   "id": "6b818d1d",
   "metadata": {},
   "outputs": [
    {
     "data": {
      "text/plain": [
       "<Axes: >"
      ]
     },
     "execution_count": 19,
     "metadata": {},
     "output_type": "execute_result"
    },
    {
     "data": {
      "image/png": "[encoded data removed]",
      "text/plain": [
       "<Figure size 640x480 with 1 Axes>"
      ]
     },
     "metadata": {},
     "output_type": "display_data"
    }
   ],
   "source": [
    "df.boxplot(column=['log_Mass'])"
   ]
  },
  {
   "cell_type": "markdown",
   "id": "a052b55b",
   "metadata": {},
   "source": [
    "Algumas observações - leitura do Boxplot log_Mass:\n",
    "- A  massa dos meteoritos registrados varia entre e**(2.708725) e e**(15.761421)\n",
    "- O 1o quartil (do mínimo até 25% dos valores da amostra, excetuando outliers) está entre e**(2.708725) e e**(6.857708)\n",
    "- O 2o quartil (de 25% até 50% dos valores) está entre e**(6.857708) e e**(8.853665)\n",
    "- A mediana dos valores é 8.85366542803745\n",
    "- O 3o quartil (de 50% até 75% dos valores) está entre e**(8.853665) e e**(10.700142)\n",
    "- O 4o quartil (de 75% ao máximo, excetuando outliers) está entre e**(10.700142) e e**(15.761421) \n",
    "- Não são encontrados outliers\n",
    "------\n",
    "- A dispersão entre os dados(log da massa) é observada pela diferença entre o 3o e 1o quartis\n",
    "- a dispersão desta coluna é aproximadamente simétrica. A coluna Mass é assimétrica (?).\n"
   ]
  },
  {
   "cell_type": "code",
   "execution_count": 20,
   "id": "054b47db",
   "metadata": {},
   "outputs": [
    {
     "data": {
      "text/plain": [
       "15.010125399386798"
      ]
     },
     "execution_count": 20,
     "metadata": {},
     "output_type": "execute_result"
    }
   ],
   "source": [
    "e**(2.708725)"
   ]
  },
  {
   "cell_type": "code",
   "execution_count": 21,
   "id": "2b09c028",
   "metadata": {},
   "outputs": [
    {
     "data": {
      "text/plain": [
       "951.18445240487"
      ]
     },
     "execution_count": 21,
     "metadata": {},
     "output_type": "execute_result"
    }
   ],
   "source": [
    "e**(6.857708)"
   ]
  },
  {
   "cell_type": "code",
   "execution_count": 22,
   "id": "069d3e2a",
   "metadata": {},
   "outputs": [
    {
     "data": {
      "text/plain": [
       "6999.997003738482"
      ]
     },
     "execution_count": 22,
     "metadata": {},
     "output_type": "execute_result"
    }
   ],
   "source": [
    "e**(8.853665)"
   ]
  },
  {
   "cell_type": "code",
   "execution_count": 23,
   "id": "14d0de59",
   "metadata": {},
   "outputs": [
    {
     "data": {
      "text/plain": [
       "44362.15410894323"
      ]
     },
     "execution_count": 23,
     "metadata": {},
     "output_type": "execute_result"
    }
   ],
   "source": [
    "e**(10.700142)"
   ]
  },
  {
   "cell_type": "code",
   "execution_count": 24,
   "id": "27b957b5",
   "metadata": {},
   "outputs": [
    {
     "data": {
      "text/plain": [
       "7000002.050863185"
      ]
     },
     "execution_count": 24,
     "metadata": {},
     "output_type": "execute_result"
    }
   ],
   "source": [
    "e**(15.761421)"
   ]
  },
  {
   "cell_type": "markdown",
   "id": "427bdb82",
   "metadata": {},
   "source": [
    "Portanto, temos que 25% dos meteoritos registrados que atingiram o Brasil tinham massa inferior a 1kg (entre 15g e 951g).\n",
    "Metade dos meteoritos registrados a atingirem o Brasil tinham massa entre 951g e 44.4kg.\n",
    "Os outros 25% possuem massa superior a 44.4kg, registrando um valor extremo de 7000kg (7 toneladas)."
   ]
  },
  {
   "cell_type": "markdown",
   "id": "7675ca9c",
   "metadata": {},
   "source": [
    "#### Maiores meteoritos a atingir o Brasil"
   ]
  },
  {
   "cell_type": "code",
   "execution_count": 25,
   "id": "ad719a45",
   "metadata": {},
   "outputs": [
    {
     "data": {
      "text/html": [
       "<div>\n",
       "<style scoped>\n",
       "    .dataframe tbody tr th:only-of-type {\n",
       "        vertical-align: middle;\n",
       "    }\n",
       "\n",
       "    .dataframe tbody tr th {\n",
       "        vertical-align: top;\n",
       "    }\n",
       "\n",
       "    .dataframe thead th {\n",
       "        text-align: right;\n",
       "    }\n",
       "</style>\n",
       "<table border=\"1\" class=\"dataframe\">\n",
       "  <thead>\n",
       "    <tr style=\"text-align: right;\">\n",
       "      <th></th>\n",
       "      <th>Name</th>\n",
       "      <th>Status</th>\n",
       "      <th>Fall</th>\n",
       "      <th>Year</th>\n",
       "      <th>Place</th>\n",
       "      <th>Type</th>\n",
       "      <th>Mass</th>\n",
       "      <th>MetBull</th>\n",
       "      <th>log_Mass</th>\n",
       "    </tr>\n",
       "  </thead>\n",
       "  <tbody>\n",
       "    <tr>\n",
       "      <th>73</th>\n",
       "      <td>Santa Catharina</td>\n",
       "      <td>Official</td>\n",
       "      <td>NaN</td>\n",
       "      <td>1875</td>\n",
       "      <td>Santa Catarina, Brazil</td>\n",
       "      <td>Iron, IAB-ung</td>\n",
       "      <td>7000000.0</td>\n",
       "      <td>NaN</td>\n",
       "      <td>15.761421</td>\n",
       "    </tr>\n",
       "    <tr>\n",
       "      <th>7</th>\n",
       "      <td>Bendegó</td>\n",
       "      <td>Official</td>\n",
       "      <td>NaN</td>\n",
       "      <td>1784</td>\n",
       "      <td>Bahia, Brazil</td>\n",
       "      <td>Iron, IC</td>\n",
       "      <td>5360000.0</td>\n",
       "      <td>NaN</td>\n",
       "      <td>15.494475</td>\n",
       "    </tr>\n",
       "    <tr>\n",
       "      <th>14</th>\n",
       "      <td>Campinorte **</td>\n",
       "      <td>Official</td>\n",
       "      <td>NaN</td>\n",
       "      <td>1992</td>\n",
       "      <td>Goias, Brazil</td>\n",
       "      <td>Iron, ungrouped</td>\n",
       "      <td>2000000.0</td>\n",
       "      <td>99.0</td>\n",
       "      <td>14.508658</td>\n",
       "    </tr>\n",
       "    <tr>\n",
       "      <th>75</th>\n",
       "      <td>Santa Luzia</td>\n",
       "      <td>Official</td>\n",
       "      <td>NaN</td>\n",
       "      <td>1921</td>\n",
       "      <td>Goias, Brazil</td>\n",
       "      <td>Iron, IIAB</td>\n",
       "      <td>1920000.0</td>\n",
       "      <td>NaN</td>\n",
       "      <td>14.467836</td>\n",
       "    </tr>\n",
       "    <tr>\n",
       "      <th>35</th>\n",
       "      <td>Itapuranga **</td>\n",
       "      <td>Official</td>\n",
       "      <td>NaN</td>\n",
       "      <td>NaN</td>\n",
       "      <td>Goias, Brazil</td>\n",
       "      <td>Iron, IAB-MG</td>\n",
       "      <td>628000.0</td>\n",
       "      <td>58.0</td>\n",
       "      <td>13.350295</td>\n",
       "    </tr>\n",
       "    <tr>\n",
       "      <th>50</th>\n",
       "      <td>Nova Petropolis **</td>\n",
       "      <td>Official</td>\n",
       "      <td>NaN</td>\n",
       "      <td>1967</td>\n",
       "      <td>Rio Grande do Sul, Brazil</td>\n",
       "      <td>Iron, IIIAB</td>\n",
       "      <td>305000.0</td>\n",
       "      <td>62.0</td>\n",
       "      <td>12.628067</td>\n",
       "    </tr>\n",
       "    <tr>\n",
       "      <th>66</th>\n",
       "      <td>Putinga</td>\n",
       "      <td>Official</td>\n",
       "      <td>Y</td>\n",
       "      <td>1937</td>\n",
       "      <td>Rio Grande do Sul, Brazil</td>\n",
       "      <td>L6</td>\n",
       "      <td>300000.0</td>\n",
       "      <td>NaN</td>\n",
       "      <td>12.611538</td>\n",
       "    </tr>\n",
       "    <tr>\n",
       "      <th>71</th>\n",
       "      <td>Sanclerlandia **</td>\n",
       "      <td>Official</td>\n",
       "      <td>NaN</td>\n",
       "      <td>1971</td>\n",
       "      <td>Goias, Brazil</td>\n",
       "      <td>Iron, IIIAB</td>\n",
       "      <td>279000.0</td>\n",
       "      <td>58.0</td>\n",
       "      <td>12.538967</td>\n",
       "    </tr>\n",
       "    <tr>\n",
       "      <th>65</th>\n",
       "      <td>Porto Alegre **</td>\n",
       "      <td>Official</td>\n",
       "      <td>NaN</td>\n",
       "      <td>2005</td>\n",
       "      <td>Rio Grande do Sul, Brazil</td>\n",
       "      <td>Iron, IIIE</td>\n",
       "      <td>200000.0</td>\n",
       "      <td>99.0</td>\n",
       "      <td>12.206073</td>\n",
       "    </tr>\n",
       "  </tbody>\n",
       "</table>\n",
       "</div>"
      ],
      "text/plain": [
       "                  Name    Status Fall  Year                      Place  \\\n",
       "73     Santa Catharina  Official  NaN  1875     Santa Catarina, Brazil   \n",
       "7              Bendegó  Official  NaN  1784              Bahia, Brazil   \n",
       "14       Campinorte **  Official  NaN  1992              Goias, Brazil   \n",
       "75         Santa Luzia  Official  NaN  1921              Goias, Brazil   \n",
       "35       Itapuranga **  Official  NaN   NaN              Goias, Brazil   \n",
       "50  Nova Petropolis **  Official  NaN  1967  Rio Grande do Sul, Brazil   \n",
       "66             Putinga  Official    Y  1937  Rio Grande do Sul, Brazil   \n",
       "71    Sanclerlandia **  Official  NaN  1971              Goias, Brazil   \n",
       "65     Porto Alegre **  Official  NaN  2005  Rio Grande do Sul, Brazil   \n",
       "\n",
       "               Type       Mass  MetBull   log_Mass  \n",
       "73    Iron, IAB-ung  7000000.0      NaN  15.761421  \n",
       "7          Iron, IC  5360000.0      NaN  15.494475  \n",
       "14  Iron, ungrouped  2000000.0     99.0  14.508658  \n",
       "75       Iron, IIAB  1920000.0      NaN  14.467836  \n",
       "35     Iron, IAB-MG   628000.0     58.0  13.350295  \n",
       "50      Iron, IIIAB   305000.0     62.0  12.628067  \n",
       "66               L6   300000.0      NaN  12.611538  \n",
       "71      Iron, IIIAB   279000.0     58.0  12.538967  \n",
       "65       Iron, IIIE   200000.0     99.0  12.206073  "
      ]
     },
     "execution_count": 25,
     "metadata": {},
     "output_type": "execute_result"
    }
   ],
   "source": [
    "top_meteorites = df.sort_values(by=['Mass'],ascending=False,na_position='last')\n",
    "top_meteorites.iloc[0:9]"
   ]
  },
  {
   "cell_type": "markdown",
   "id": "7bf1fbdd",
   "metadata": {},
   "source": [
    "Conforme identificado no limite da massa, o maior meteorito pesa 7t. Dos 10 maiores meteoritos, 90% foram encontrados nas regiões Sudeste e Centro-Oeste do Brasil. No Nordeste, o meteorito de Bendegó ocupa 2ª posição do ranking."
   ]
  },
  {
   "cell_type": "markdown",
   "id": "17acbd80",
   "metadata": {},
   "source": [
    "### Contabilizar meteoritos por ano\n",
    "Verificarmos os registros de meteoritos a cada ano a partir de uma visualização gráfica\n",
    "Como verificado, os valores dos anos também se apresentam em string. Alguns registros datam com terminação de tempo geológico, como Ma. Essa sigla é usada na Geologia para representar \"mega annum\" e quantifica um milhão de anos antes da data presente (Fonte: [Digital Atlas of Ancient Life](https://www.digitalatlasofancientlife.org/learn/geological-time/#:~:text=Abbreviating%20geological%20time&text=Similarly%2C%20one%2Dmillion%20years%20is,or%20millions%20of%20years%20ago.)). Outros, pois dois anos, indicando incongruências entre os boletins de onde foram extraídos. Como não há possibilidade de determinação precisa desses anos, optou-se por analisar apenas os registros datados em 4 dígitos para o ano."
   ]
  },
  {
   "cell_type": "code",
   "execution_count": 26,
   "id": "b6386ea8",
   "metadata": {},
   "outputs": [
    {
     "data": {
      "text/plain": [
       "str"
      ]
     },
     "execution_count": 26,
     "metadata": {},
     "output_type": "execute_result"
    }
   ],
   "source": [
    "type(df['Year'][0])"
   ]
  },
  {
   "cell_type": "code",
   "execution_count": 27,
   "id": "e29db7e2",
   "metadata": {},
   "outputs": [
    {
     "data": {
      "text/plain": [
       "count       97\n",
       "unique      70\n",
       "top       1960\n",
       "freq         4\n",
       "Name: Year, dtype: object"
      ]
     },
     "execution_count": 27,
     "metadata": {},
     "output_type": "execute_result"
    }
   ],
   "source": [
    "df['Year'].describe() # há 70 anos únicos 3 não datados"
   ]
  },
  {
   "cell_type": "code",
   "execution_count": 26,
   "id": "48e3d465",
   "metadata": {},
   "outputs": [],
   "source": [
    "def validar_ano(ano):\n",
    "    \"\"\"receebe um ano em string e retorna se ele tem formato AAAA\"\"\"\n",
    "    if ano != ano:\n",
    "        return False\n",
    "    return len(ano)==4\n",
    "valid_years = [a for a in df['Year'] if validar_ano(a)]\n",
    "# def label_anos(anos):\n",
    "#     \"\"\"Cria os valores de ano para o eixo x\"\"\"\n",
    "#     unique_anos = []\n",
    "#     for ano in anos:\n",
    "#         ano = int(ano)\n",
    "#         if ano in unique_anos:\n",
    "#             continue\n",
    "#         else:\n",
    "#             unique_anos += ano\n",
    "#     return unique_anos\n",
    "# anos = label_anos(valid_years)\n"
   ]
  },
  {
   "cell_type": "code",
   "execution_count": 38,
   "id": "9a5fed1b",
   "metadata": {},
   "outputs": [
    {
     "data": {
      "text/html": [
       "<div>\n",
       "<style scoped>\n",
       "    .dataframe tbody tr th:only-of-type {\n",
       "        vertical-align: middle;\n",
       "    }\n",
       "\n",
       "    .dataframe tbody tr th {\n",
       "        vertical-align: top;\n",
       "    }\n",
       "\n",
       "    .dataframe thead th {\n",
       "        text-align: right;\n",
       "    }\n",
       "</style>\n",
       "<table border=\"1\" class=\"dataframe\">\n",
       "  <thead>\n",
       "    <tr style=\"text-align: right;\">\n",
       "      <th></th>\n",
       "      <th>Name</th>\n",
       "      <th>Status</th>\n",
       "      <th>Fall</th>\n",
       "      <th>Year</th>\n",
       "      <th>Place</th>\n",
       "      <th>Type</th>\n",
       "      <th>Mass</th>\n",
       "      <th>MetBull</th>\n",
       "    </tr>\n",
       "  </thead>\n",
       "  <tbody>\n",
       "    <tr>\n",
       "      <th>7</th>\n",
       "      <td>Bendegó</td>\n",
       "      <td>Official</td>\n",
       "      <td>NaN</td>\n",
       "      <td>1784</td>\n",
       "      <td>Bahia, Brazil</td>\n",
       "      <td>Iron, IC</td>\n",
       "      <td>5.36 t</td>\n",
       "      <td>NaN</td>\n",
       "    </tr>\n",
       "    <tr>\n",
       "      <th>25</th>\n",
       "      <td>Curvello</td>\n",
       "      <td>Doubtful</td>\n",
       "      <td>Y</td>\n",
       "      <td>1833</td>\n",
       "      <td>Minas Gerais, Brazil</td>\n",
       "      <td>Doubtful meteorite</td>\n",
       "      <td>218 g</td>\n",
       "      <td>NaN</td>\n",
       "    </tr>\n",
       "    <tr>\n",
       "      <th>38</th>\n",
       "      <td>Macau</td>\n",
       "      <td>Official</td>\n",
       "      <td>Y</td>\n",
       "      <td>1836</td>\n",
       "      <td>Rio Grande do Norte, Brazil</td>\n",
       "      <td>H5</td>\n",
       "      <td>1500 g</td>\n",
       "      <td>NaN</td>\n",
       "    </tr>\n",
       "    <tr>\n",
       "      <th>62</th>\n",
       "      <td>Ponta Grossa</td>\n",
       "      <td>Doubtful</td>\n",
       "      <td>Y</td>\n",
       "      <td>1846</td>\n",
       "      <td>Parana, Brazil</td>\n",
       "      <td>Doubtful stone</td>\n",
       "      <td>667 g</td>\n",
       "      <td>NaN</td>\n",
       "    </tr>\n",
       "    <tr>\n",
       "      <th>0</th>\n",
       "      <td>Angra dos Reis (stone)</td>\n",
       "      <td>Official</td>\n",
       "      <td>Y</td>\n",
       "      <td>1869</td>\n",
       "      <td>Rio de Janeiro, Brazil</td>\n",
       "      <td>Angrite</td>\n",
       "      <td>1500 g</td>\n",
       "      <td>NaN</td>\n",
       "    </tr>\n",
       "  </tbody>\n",
       "</table>\n",
       "</div>"
      ],
      "text/plain": [
       "                      Name    Status Fall  Year                        Place  \\\n",
       "7                  Bendegó  Official  NaN  1784                Bahia, Brazil   \n",
       "25                Curvello  Doubtful    Y  1833         Minas Gerais, Brazil   \n",
       "38                   Macau  Official    Y  1836  Rio Grande do Norte, Brazil   \n",
       "62            Ponta Grossa  Doubtful    Y  1846               Parana, Brazil   \n",
       "0   Angra dos Reis (stone)  Official    Y  1869       Rio de Janeiro, Brazil   \n",
       "\n",
       "                  Type    Mass  MetBull  \n",
       "7             Iron, IC  5.36 t      NaN  \n",
       "25  Doubtful meteorite   218 g      NaN  \n",
       "38                  H5  1500 g      NaN  \n",
       "62      Doubtful stone   667 g      NaN  \n",
       "0              Angrite  1500 g      NaN  "
      ]
     },
     "execution_count": 38,
     "metadata": {},
     "output_type": "execute_result"
    }
   ],
   "source": [
    "df_valid_years = df[df['Year'].isin(valid_years)] # filtra o dataset para anos válidos\n",
    "# ordena as ocorrências pela data\n",
    "df_valid_years = df_valid_years.sort_values(by=\"Year\", ascending=True, ignore_index=False) \n",
    "df_valid_years.head(5)"
   ]
  },
  {
   "cell_type": "code",
   "execution_count": 30,
   "id": "61ddebe1",
   "metadata": {},
   "outputs": [],
   "source": [
    "#def converter_em_int(ano):\n",
    "#    \"\"\"Faz o casting do ano recebido como string em int (AAAA)\"\"\"\n",
    "#   return int(ano)"
   ]
  },
  {
   "cell_type": "code",
   "execution_count": 39,
   "id": "a951e42d",
   "metadata": {},
   "outputs": [
    {
     "data": {
      "text/plain": [
       "(89, 8)"
      ]
     },
     "execution_count": 39,
     "metadata": {},
     "output_type": "execute_result"
    }
   ],
   "source": [
    "# convertendo ano de string para int\n",
    "df_valid_years['Year'] = [int(a) for a in df_valid_years['Year']]\n",
    "np.shape(df_valid_years)"
   ]
  },
  {
   "cell_type": "code",
   "execution_count": 94,
   "id": "3e299a35",
   "metadata": {},
   "outputs": [
    {
     "data": {
      "text/plain": [
       "numpy.int64"
      ]
     },
     "execution_count": 94,
     "metadata": {},
     "output_type": "execute_result"
    }
   ],
   "source": [
    "type(df_valid_years['Year'][0])"
   ]
  },
  {
   "cell_type": "code",
   "execution_count": 77,
   "id": "f9dcb20a",
   "metadata": {},
   "outputs": [],
   "source": [
    "#df_year = df_year.groupby(['Year']).count(); df_year\n",
    "#df_group_year.rename(columns={'Name': 'Count'}, inplace = True)\n",
    "#df_group_year.head(5)\n",
    "#sns.displot(data=df_valid_years, x='Name', binwidth=10)"
   ]
  },
  {
   "cell_type": "code",
   "execution_count": 50,
   "id": "92055d18",
   "metadata": {},
   "outputs": [
    {
     "data": {
      "image/png": "[encoded data removed]",
      "text/plain": [
       "<Figure size 1200x800 with 1 Axes>"
      ]
     },
     "metadata": {},
     "output_type": "display_data"
    }
   ],
   "source": [
    "g = sns.histplot(data=df_valid_years, x=\"Year\", bins=30, hue=\"Status\")\n",
    "#g.set_xticklabels(g.get_xticklabels(), rotation=90)\n",
    "#g.tick_params(axis='x', labelrotation = 90)\n",
    "#g.set_yticklabels(labels= [1, 2, 3])\n",
    "g.figure.set_size_inches(12, 8)"
   ]
  },
  {
   "cell_type": "markdown",
   "id": "69e367d6",
   "metadata": {},
   "source": [
    "Quando observados indivudualmente, os registros anuais de meteoritos do Brasil contabilizam de 1 a 4. Assim, foi adotado um agrupamento de contagem a cada 30 anos. Pode-se perceber um maior número de meteoritos registrados entre 1900 até os dias atuais, de modo que o século XXI apresenta o maior número. Outra observação é que, através da legenda, obtém-se o status do meteorito. \n",
    "\n",
    "Obs2.: a coloração roxa foi uma mistura de duas classificações(?)\n",
    "Obs3.: Os anos vão de 1732 a 2021."
   ]
  },
  {
   "cell_type": "markdown",
   "id": "f680e7d4",
   "metadata": {},
   "source": [
    "#### Explorando a idade de alguns outros meteoritos \n",
    "Dos 100 registros observados, 11 não foram contabilizados como entradas para a análise da quantidade de meteoritos/ano. Vamos observá-los:"
   ]
  },
  {
   "cell_type": "code",
   "execution_count": null,
   "id": "cee41bee",
   "metadata": {},
   "outputs": [],
   "source": []
  },
  {
   "cell_type": "code",
   "execution_count": null,
   "id": "4c96b51c",
   "metadata": {},
   "outputs": [],
   "source": []
  }
 ],
 "metadata": {
  "kernelspec": {
   "display_name": "Python 3 (ipykernel)",
   "language": "python",
   "name": "python3"
  },
  "language_info": {
   "codemirror_mode": {
    "name": "ipython",
    "version": 3
   },
   "file_extension": ".py",
   "mimetype": "text/x-python",
   "name": "python",
   "nbconvert_exporter": "python",
   "pygments_lexer": "ipython3",
   "version": "3.11.1"
  }
 },
 "nbformat": 4,
 "nbformat_minor": 5
}
