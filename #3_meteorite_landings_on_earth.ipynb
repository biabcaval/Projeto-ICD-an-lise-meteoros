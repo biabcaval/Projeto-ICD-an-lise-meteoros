{
  "nbformat": 4,
  "nbformat_minor": 0,
  "metadata": {
    "colab": {
      "provenance": []
    },
    "kernelspec": {
      "name": "python3",
      "display_name": "Python 3"
    },
    "language_info": {
      "name": "python"
    }
  },
  "cells": [
    {
      "cell_type": "code",
      "source": [
        "# Notebook para exploração inicial do dataset \"Meteorite Landings on Earth\"\n",
        "import pandas as pd\n",
        "import numpy as np\n",
        "import statistics\n",
        "import seaborn as sns"
      ],
      "metadata": {
        "id": "CohxtJikVqEz"
      },
      "execution_count": 11,
      "outputs": []
    },
    {
      "cell_type": "code",
      "source": [
        "df = pd.read_csv(\"datasets/meteorite_landings_on_earth.csv\", on_bad_lines='warn')\n",
        "df.head(3)"
      ],
      "metadata": {
        "id": "QZ0ar5h0aRMn",
        "colab": {
          "base_uri": "https://localhost:8080/",
          "height": 225
        },
        "outputId": "9c839446-f565-46b4-91e3-f3ffa4c52e74"
      },
      "execution_count": 12,
      "outputs": [
        {
          "output_type": "execute_result",
          "data": {
            "text/plain": [
              "   Unnamed: 0  id meteorite_name nametype recclass  fall    year      mass  \\\n",
              "0           1   1         Aachen    Valid       L5  Fell  1880.0      21.0   \n",
              "1           2   2         Aarhus    Valid       H6  Fell  1951.0     720.0   \n",
              "2           3   6           Abee    Valid      EH4  Fell  1952.0  107000.0   \n",
              "\n",
              "  location location_code location_type  distance  latitude  longitude  \\\n",
              "0  Germany            DE          land       0.0   50.7750     6.0833   \n",
              "1  Denmark            DK          land       0.0   56.1833    10.2333   \n",
              "2   Canada            CA          land       0.0   54.2167  -113.0000   \n",
              "\n",
              "           lat_lng  \n",
              "0    50.775,6.0833  \n",
              "1  56.1833,10.2333  \n",
              "2     54.2167,-113  "
            ],
            "text/html": [
              "\n",
              "  <div id=\"df-23cedde0-2e4e-47a3-8606-956c9c474682\">\n",
              "    <div class=\"colab-df-container\">\n",
              "      <div>\n",
              "<style scoped>\n",
              "    .dataframe tbody tr th:only-of-type {\n",
              "        vertical-align: middle;\n",
              "    }\n",
              "\n",
              "    .dataframe tbody tr th {\n",
              "        vertical-align: top;\n",
              "    }\n",
              "\n",
              "    .dataframe thead th {\n",
              "        text-align: right;\n",
              "    }\n",
              "</style>\n",
              "<table border=\"1\" class=\"dataframe\">\n",
              "  <thead>\n",
              "    <tr style=\"text-align: right;\">\n",
              "      <th></th>\n",
              "      <th>Unnamed: 0</th>\n",
              "      <th>id</th>\n",
              "      <th>meteorite_name</th>\n",
              "      <th>nametype</th>\n",
              "      <th>recclass</th>\n",
              "      <th>fall</th>\n",
              "      <th>year</th>\n",
              "      <th>mass</th>\n",
              "      <th>location</th>\n",
              "      <th>location_code</th>\n",
              "      <th>location_type</th>\n",
              "      <th>distance</th>\n",
              "      <th>latitude</th>\n",
              "      <th>longitude</th>\n",
              "      <th>lat_lng</th>\n",
              "    </tr>\n",
              "  </thead>\n",
              "  <tbody>\n",
              "    <tr>\n",
              "      <th>0</th>\n",
              "      <td>1</td>\n",
              "      <td>1</td>\n",
              "      <td>Aachen</td>\n",
              "      <td>Valid</td>\n",
              "      <td>L5</td>\n",
              "      <td>Fell</td>\n",
              "      <td>1880.0</td>\n",
              "      <td>21.0</td>\n",
              "      <td>Germany</td>\n",
              "      <td>DE</td>\n",
              "      <td>land</td>\n",
              "      <td>0.0</td>\n",
              "      <td>50.7750</td>\n",
              "      <td>6.0833</td>\n",
              "      <td>50.775,6.0833</td>\n",
              "    </tr>\n",
              "    <tr>\n",
              "      <th>1</th>\n",
              "      <td>2</td>\n",
              "      <td>2</td>\n",
              "      <td>Aarhus</td>\n",
              "      <td>Valid</td>\n",
              "      <td>H6</td>\n",
              "      <td>Fell</td>\n",
              "      <td>1951.0</td>\n",
              "      <td>720.0</td>\n",
              "      <td>Denmark</td>\n",
              "      <td>DK</td>\n",
              "      <td>land</td>\n",
              "      <td>0.0</td>\n",
              "      <td>56.1833</td>\n",
              "      <td>10.2333</td>\n",
              "      <td>56.1833,10.2333</td>\n",
              "    </tr>\n",
              "    <tr>\n",
              "      <th>2</th>\n",
              "      <td>3</td>\n",
              "      <td>6</td>\n",
              "      <td>Abee</td>\n",
              "      <td>Valid</td>\n",
              "      <td>EH4</td>\n",
              "      <td>Fell</td>\n",
              "      <td>1952.0</td>\n",
              "      <td>107000.0</td>\n",
              "      <td>Canada</td>\n",
              "      <td>CA</td>\n",
              "      <td>land</td>\n",
              "      <td>0.0</td>\n",
              "      <td>54.2167</td>\n",
              "      <td>-113.0000</td>\n",
              "      <td>54.2167,-113</td>\n",
              "    </tr>\n",
              "  </tbody>\n",
              "</table>\n",
              "</div>\n",
              "      <button class=\"colab-df-convert\" onclick=\"convertToInteractive('df-23cedde0-2e4e-47a3-8606-956c9c474682')\"\n",
              "              title=\"Convert this dataframe to an interactive table.\"\n",
              "              style=\"display:none;\">\n",
              "        \n",
              "  <svg xmlns=\"http://www.w3.org/2000/svg\" height=\"24px\"viewBox=\"0 0 24 24\"\n",
              "       width=\"24px\">\n",
              "    <path d=\"M0 0h24v24H0V0z\" fill=\"none\"/>\n",
              "    <path d=\"M18.56 5.44l.94 2.06.94-2.06 2.06-.94-2.06-.94-.94-2.06-.94 2.06-2.06.94zm-11 1L8.5 8.5l.94-2.06 2.06-.94-2.06-.94L8.5 2.5l-.94 2.06-2.06.94zm10 10l.94 2.06.94-2.06 2.06-.94-2.06-.94-.94-2.06-.94 2.06-2.06.94z\"/><path d=\"M17.41 7.96l-1.37-1.37c-.4-.4-.92-.59-1.43-.59-.52 0-1.04.2-1.43.59L10.3 9.45l-7.72 7.72c-.78.78-.78 2.05 0 2.83L4 21.41c.39.39.9.59 1.41.59.51 0 1.02-.2 1.41-.59l7.78-7.78 2.81-2.81c.8-.78.8-2.07 0-2.86zM5.41 20L4 18.59l7.72-7.72 1.47 1.35L5.41 20z\"/>\n",
              "  </svg>\n",
              "      </button>\n",
              "      \n",
              "  <style>\n",
              "    .colab-df-container {\n",
              "      display:flex;\n",
              "      flex-wrap:wrap;\n",
              "      gap: 12px;\n",
              "    }\n",
              "\n",
              "    .colab-df-convert {\n",
              "      background-color: #E8F0FE;\n",
              "      border: none;\n",
              "      border-radius: 50%;\n",
              "      cursor: pointer;\n",
              "      display: none;\n",
              "      fill: #1967D2;\n",
              "      height: 32px;\n",
              "      padding: 0 0 0 0;\n",
              "      width: 32px;\n",
              "    }\n",
              "\n",
              "    .colab-df-convert:hover {\n",
              "      background-color: #E2EBFA;\n",
              "      box-shadow: 0px 1px 2px rgba(60, 64, 67, 0.3), 0px 1px 3px 1px rgba(60, 64, 67, 0.15);\n",
              "      fill: #174EA6;\n",
              "    }\n",
              "\n",
              "    [theme=dark] .colab-df-convert {\n",
              "      background-color: #3B4455;\n",
              "      fill: #D2E3FC;\n",
              "    }\n",
              "\n",
              "    [theme=dark] .colab-df-convert:hover {\n",
              "      background-color: #434B5C;\n",
              "      box-shadow: 0px 1px 3px 1px rgba(0, 0, 0, 0.15);\n",
              "      filter: drop-shadow(0px 1px 2px rgba(0, 0, 0, 0.3));\n",
              "      fill: #FFFFFF;\n",
              "    }\n",
              "  </style>\n",
              "\n",
              "      <script>\n",
              "        const buttonEl =\n",
              "          document.querySelector('#df-23cedde0-2e4e-47a3-8606-956c9c474682 button.colab-df-convert');\n",
              "        buttonEl.style.display =\n",
              "          google.colab.kernel.accessAllowed ? 'block' : 'none';\n",
              "\n",
              "        async function convertToInteractive(key) {\n",
              "          const element = document.querySelector('#df-23cedde0-2e4e-47a3-8606-956c9c474682');\n",
              "          const dataTable =\n",
              "            await google.colab.kernel.invokeFunction('convertToInteractive',\n",
              "                                                     [key], {});\n",
              "          if (!dataTable) return;\n",
              "\n",
              "          const docLinkHtml = 'Like what you see? Visit the ' +\n",
              "            '<a target=\"_blank\" href=https://colab.research.google.com/notebooks/data_table.ipynb>data table notebook</a>'\n",
              "            + ' to learn more about interactive tables.';\n",
              "          element.innerHTML = '';\n",
              "          dataTable['output_type'] = 'display_data';\n",
              "          await google.colab.output.renderOutput(dataTable, element);\n",
              "          const docLink = document.createElement('div');\n",
              "          docLink.innerHTML = docLinkHtml;\n",
              "          element.appendChild(docLink);\n",
              "        }\n",
              "      </script>\n",
              "    </div>\n",
              "  </div>\n",
              "  "
            ]
          },
          "metadata": {},
          "execution_count": 12
        }
      ]
    },
    {
      "cell_type": "code",
      "source": [
        "df.loc[703,'year'] = 861\n",
        "df.loc[16356,'year'] = -300\n",
        "df.loc[30679,'year'] = 2010\n",
        "df.loc[38188, 'year'] = -2500 \n",
        "df.loc[38301,'year'] = -600"
      ],
      "metadata": {
        "id": "_9P6AQl_UjTI"
      },
      "execution_count": 13,
      "outputs": []
    },
    {
      "cell_type": "markdown",
      "source": [
        "\n",
        "\n",
        "---\n",
        "\n",
        "\n",
        "# **Medidas de Centralidade**\n",
        "\n",
        "\n",
        "## Variável 'Year'\n",
        "\n",
        "\n",
        "Média:\n",
        "\n"
      ],
      "metadata": {
        "id": "4hf238CrD2gn"
      }
    },
    {
      "cell_type": "code",
      "source": [
        "anos_media = int(np.nanmean(df['year']))\n",
        "anos_media "
      ],
      "metadata": {
        "colab": {
          "base_uri": "https://localhost:8080/"
        },
        "id": "VF5anDkiEr-6",
        "outputId": "26c2119a-46bb-4714-96a1-e2f199d705ce"
      },
      "execution_count": 14,
      "outputs": [
        {
          "output_type": "execute_result",
          "data": {
            "text/plain": [
              "1991"
            ]
          },
          "metadata": {},
          "execution_count": 14
        }
      ]
    },
    {
      "cell_type": "markdown",
      "source": [
        "Mediana:"
      ],
      "metadata": {
        "id": "HgWNNdHUFoZe"
      }
    },
    {
      "cell_type": "code",
      "source": [
        "anos_mediana= statistics.median(df['year'])\n",
        "anos_mediana"
      ],
      "metadata": {
        "colab": {
          "base_uri": "https://localhost:8080/"
        },
        "id": "b3F5vZ-NFrQq",
        "outputId": "1949c634-b020-4638-bf5f-4c99cd6035c3"
      },
      "execution_count": 15,
      "outputs": [
        {
          "output_type": "execute_result",
          "data": {
            "text/plain": [
              "2006.0"
            ]
          },
          "metadata": {},
          "execution_count": 15
        }
      ]
    },
    {
      "cell_type": "markdown",
      "source": [
        "Moda:"
      ],
      "metadata": {
        "id": "n0jOtlgSGFiw"
      }
    },
    {
      "cell_type": "code",
      "source": [
        "anos_moda = statistics.mode(df['year'])\n",
        "anos_moda"
      ],
      "metadata": {
        "colab": {
          "base_uri": "https://localhost:8080/"
        },
        "id": "emFiEpb8GKC4",
        "outputId": "34a48408-437a-4640-cd61-e24a751d103d"
      },
      "execution_count": 16,
      "outputs": [
        {
          "output_type": "execute_result",
          "data": {
            "text/plain": [
              "2003.0"
            ]
          },
          "metadata": {},
          "execution_count": 16
        }
      ]
    },
    {
      "cell_type": "markdown",
      "source": [
        "\n",
        "\n",
        "---\n",
        "\n",
        "## Variável 'Location'\n",
        "Moda:\n"
      ],
      "metadata": {
        "id": "tei4VxtZGiUr"
      }
    },
    {
      "cell_type": "code",
      "source": [
        "local_moda = statistics.mode(df['location'])   \n",
        "local_moda"
      ],
      "metadata": {
        "colab": {
          "base_uri": "https://localhost:8080/",
          "height": 35
        },
        "id": "mf56vCYpHeVD",
        "outputId": "8b6cbfa5-9a77-4866-b33d-b8aec514bf04"
      },
      "execution_count": 17,
      "outputs": [
        {
          "output_type": "execute_result",
          "data": {
            "text/plain": [
              "'Antarctica'"
            ],
            "application/vnd.google.colaboratory.intrinsic+json": {
              "type": "string"
            }
          },
          "metadata": {},
          "execution_count": 17
        }
      ]
    },
    {
      "cell_type": "markdown",
      "source": [
        "\n",
        "\n",
        "---\n",
        "## Variável 'Location Type'\n",
        "Moda:\n"
      ],
      "metadata": {
        "id": "bdU9LChEKUea"
      }
    },
    {
      "cell_type": "code",
      "source": [
        "tipoloc_moda = statistics.mode(df['location_type'])\n",
        "tipoloc_moda"
      ],
      "metadata": {
        "colab": {
          "base_uri": "https://localhost:8080/",
          "height": 35
        },
        "id": "UlpvC3gbL6Q0",
        "outputId": "30abdb33-1eb5-4bc7-d337-8f6306f8dbd8"
      },
      "execution_count": 18,
      "outputs": [
        {
          "output_type": "execute_result",
          "data": {
            "text/plain": [
              "'land'"
            ],
            "application/vnd.google.colaboratory.intrinsic+json": {
              "type": "string"
            }
          },
          "metadata": {},
          "execution_count": 18
        }
      ]
    },
    {
      "cell_type": "markdown",
      "source": [
        "\n",
        "\n",
        "---\n",
        "## Variável 'Mass'\n",
        "Média:\n"
      ],
      "metadata": {
        "id": "CDpLqTW3MlCK"
      }
    },
    {
      "cell_type": "code",
      "source": [
        "massa_media = int(np.nanmean(df['mass']))\n",
        "massa_media"
      ],
      "metadata": {
        "colab": {
          "base_uri": "https://localhost:8080/"
        },
        "id": "6IaM92y3M0Yr",
        "outputId": "3d014c33-db43-4193-f0e6-3db2e97902b1"
      },
      "execution_count": 19,
      "outputs": [
        {
          "output_type": "execute_result",
          "data": {
            "text/plain": [
              "13278"
            ]
          },
          "metadata": {},
          "execution_count": 19
        }
      ]
    },
    {
      "cell_type": "markdown",
      "source": [
        "Mediana:"
      ],
      "metadata": {
        "id": "H2iT-cK5NL8X"
      }
    },
    {
      "cell_type": "code",
      "source": [
        "massa_mediana = statistics.median(df['mass'])\n",
        "massa_mediana"
      ],
      "metadata": {
        "colab": {
          "base_uri": "https://localhost:8080/"
        },
        "id": "Gee6KYd-NOWw",
        "outputId": "5427ef56-bd0f-4a96-ab64-101a5ca13899"
      },
      "execution_count": 20,
      "outputs": [
        {
          "output_type": "execute_result",
          "data": {
            "text/plain": [
              "13.1"
            ]
          },
          "metadata": {},
          "execution_count": 20
        }
      ]
    },
    {
      "cell_type": "markdown",
      "source": [
        "Moda:"
      ],
      "metadata": {
        "id": "NCMjL2uhNZyx"
      }
    },
    {
      "cell_type": "code",
      "source": [
        "massa_moda = statistics.mode(df['mass'])\n",
        "massa_moda"
      ],
      "metadata": {
        "colab": {
          "base_uri": "https://localhost:8080/"
        },
        "id": "4WPz2tADNbhq",
        "outputId": "ee131fd1-a15e-4ed2-b1ba-24560fae117b"
      },
      "execution_count": 21,
      "outputs": [
        {
          "output_type": "execute_result",
          "data": {
            "text/plain": [
              "1.3"
            ]
          },
          "metadata": {},
          "execution_count": 21
        }
      ]
    },
    {
      "cell_type": "markdown",
      "source": [
        "\n",
        "\n",
        "---\n",
        "# **Médias de Dispersão de Variáveis**\n",
        "## Variável 'Year'\n",
        "Variância:\n"
      ],
      "metadata": {
        "id": "kvQcZzKiOhsW"
      }
    },
    {
      "cell_type": "code",
      "source": [
        "ano_varia = np.var(df['year'])\n",
        "ano_varia"
      ],
      "metadata": {
        "colab": {
          "base_uri": "https://localhost:8080/"
        },
        "id": "pZgrdNBvPMA1",
        "outputId": "623cbf50-c78f-40d4-d579-b5fcab3c704b"
      },
      "execution_count": 22,
      "outputs": [
        {
          "output_type": "execute_result",
          "data": {
            "text/plain": [
              "1334.87558056314"
            ]
          },
          "metadata": {},
          "execution_count": 22
        }
      ]
    },
    {
      "cell_type": "markdown",
      "source": [
        "Desvio Padrão:"
      ],
      "metadata": {
        "id": "m9u0hf3oQwCH"
      }
    },
    {
      "cell_type": "code",
      "source": [
        "ano_desv = np.std(df['year'])\n",
        "ano_desv"
      ],
      "metadata": {
        "colab": {
          "base_uri": "https://localhost:8080/"
        },
        "id": "Ylk_Jz5vQ08Z",
        "outputId": "a8d33ccb-0ba1-4942-c561-801ad21f9912"
      },
      "execution_count": null,
      "outputs": [
        {
          "output_type": "execute_result",
          "data": {
            "text/plain": [
              "27.180948105954354"
            ]
          },
          "metadata": {},
          "execution_count": 32
        }
      ]
    },
    {
      "cell_type": "markdown",
      "source": [
        "\n",
        "\n",
        " ---\n",
        "## Variável 'Mass'\n",
        "Variância:\n"
      ],
      "metadata": {
        "id": "x2xamsPTRG1e"
      }
    },
    {
      "cell_type": "code",
      "source": [
        "massa_varia = np.var(df['mass'])\n",
        "massa_varia"
      ],
      "metadata": {
        "colab": {
          "base_uri": "https://localhost:8080/"
        },
        "id": "7M1pS3coRR_Y",
        "outputId": "c8280f30-5c6b-488f-f55d-b2d222ad6b30"
      },
      "execution_count": null,
      "outputs": [
        {
          "output_type": "execute_result",
          "data": {
            "text/plain": [
              "330604955342.3177"
            ]
          },
          "metadata": {},
          "execution_count": 34
        }
      ]
    },
    {
      "cell_type": "markdown",
      "source": [
        "Desvio Padrão:"
      ],
      "metadata": {
        "id": "v2LqJ6cqRSgf"
      }
    },
    {
      "cell_type": "code",
      "source": [
        "massa_desv = np.std(df['year'])\n",
        "massa_desv"
      ],
      "metadata": {
        "id": "s0fYByWTRVPB"
      },
      "execution_count": null,
      "outputs": []
    },
    {
      "cell_type": "markdown",
      "source": [
        "\n",
        "\n",
        "---\n",
        "\n",
        "# Boxplot e Seaborn\n",
        "## 'Year'"
      ],
      "metadata": {
        "id": "Ds7DdgLYR7iA"
      }
    },
    {
      "cell_type": "code",
      "source": [
        "df.boxplot(column='year')"
      ],
      "metadata": {
        "colab": {
          "base_uri": "https://localhost:8080/",
          "height": 447
        },
        "id": "gWzapEOESRta",
        "outputId": "508cf131-bca2-41ef-c42a-39088e9137a5"
      },
      "execution_count": null,
      "outputs": [
        {
          "output_type": "execute_result",
          "data": {
            "text/plain": [
              "<Axes: >"
            ]
          },
          "metadata": {},
          "execution_count": 42
        },
        {
          "output_type": "display_data",
          "data": {
            "text/plain": [
              "<Figure size 640x480 with 1 Axes>"
            ],
            "image/png": "[encoded data removed]"
          },
          "metadata": {}
        }
      ]
    },
    {
      "cell_type": "markdown",
      "source": [
        "\n",
        "\n",
        "---\n",
        "\n",
        "## 'Mass'"
      ],
      "metadata": {
        "id": "aRqTQhk1TPYj"
      }
    },
    {
      "cell_type": "code",
      "source": [
        "df.boxplot(column='mass')"
      ],
      "metadata": {
        "colab": {
          "base_uri": "https://localhost:8080/",
          "height": 462
        },
        "id": "jRijTzHdTZkq",
        "outputId": "27272d0e-f820-4d92-8cad-a74c085577d2"
      },
      "execution_count": null,
      "outputs": [
        {
          "output_type": "execute_result",
          "data": {
            "text/plain": [
              "<Axes: >"
            ]
          },
          "metadata": {},
          "execution_count": 37
        },
        {
          "output_type": "display_data",
          "data": {
            "text/plain": [
              "<Figure size 640x480 with 1 Axes>"
            ],
            "image/png": "[encoded data removed]"
          },
          "metadata": {}
        }
      ]
    }
  ]
}