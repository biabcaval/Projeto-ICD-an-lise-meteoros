{
 "cells": [
  {
   "cell_type": "markdown",
   "id": "f92c9973",
   "metadata": {},
   "source": [
    "### #03 - Projeto - Visualização de dados"
   ]
  },
  {
   "cell_type": "code",
   "execution_count": 1,
   "id": "b80ebb5d",
   "metadata": {
    "scrolled": true
   },
   "outputs": [
    {
     "data": {
      "text/html": [
       "<div>\n",
       "<style scoped>\n",
       "    .dataframe tbody tr th:only-of-type {\n",
       "        vertical-align: middle;\n",
       "    }\n",
       "\n",
       "    .dataframe tbody tr th {\n",
       "        vertical-align: top;\n",
       "    }\n",
       "\n",
       "    .dataframe thead th {\n",
       "        text-align: right;\n",
       "    }\n",
       "</style>\n",
       "<table border=\"1\" class=\"dataframe\">\n",
       "  <thead>\n",
       "    <tr style=\"text-align: right;\">\n",
       "      <th></th>\n",
       "      <th>Peak Brightness Date/Time (UT)</th>\n",
       "      <th>Latitude (deg.)</th>\n",
       "      <th>Longitude (deg.)</th>\n",
       "      <th>Altitude (km)</th>\n",
       "      <th>Velocity (km/s)</th>\n",
       "      <th>vx</th>\n",
       "      <th>vy</th>\n",
       "      <th>vz</th>\n",
       "      <th>Total Radiated Energy (J)</th>\n",
       "      <th>Calculated Total Impact Energy (kt)</th>\n",
       "    </tr>\n",
       "  </thead>\n",
       "  <tbody>\n",
       "    <tr>\n",
       "      <th>0</th>\n",
       "      <td>2023-04-15 08:22:01</td>\n",
       "      <td>20.1S</td>\n",
       "      <td>36.0E</td>\n",
       "      <td>41.4</td>\n",
       "      <td>17.2</td>\n",
       "      <td>1.6</td>\n",
       "      <td>-14.7</td>\n",
       "      <td>8.8</td>\n",
       "      <td>3.097000e+12</td>\n",
       "      <td>6.300</td>\n",
       "    </tr>\n",
       "    <tr>\n",
       "      <th>1</th>\n",
       "      <td>2023-04-06 14:47:39</td>\n",
       "      <td>57.4N</td>\n",
       "      <td>109.9E</td>\n",
       "      <td>31.2</td>\n",
       "      <td>22.1</td>\n",
       "      <td>8.6</td>\n",
       "      <td>3.6</td>\n",
       "      <td>-20.0</td>\n",
       "      <td>7.200000e+10</td>\n",
       "      <td>0.230</td>\n",
       "    </tr>\n",
       "    <tr>\n",
       "      <th>2</th>\n",
       "      <td>2023-04-01 00:02:03</td>\n",
       "      <td>16.8S</td>\n",
       "      <td>76.0E</td>\n",
       "      <td>61.8</td>\n",
       "      <td>46.4</td>\n",
       "      <td>21.4</td>\n",
       "      <td>-40.6</td>\n",
       "      <td>7.1</td>\n",
       "      <td>2.400000e+10</td>\n",
       "      <td>0.086</td>\n",
       "    </tr>\n",
       "  </tbody>\n",
       "</table>\n",
       "</div>"
      ],
      "text/plain": [
       "  Peak Brightness Date/Time (UT) Latitude (deg.) Longitude (deg.)  \\\n",
       "0            2023-04-15 08:22:01           20.1S            36.0E   \n",
       "1            2023-04-06 14:47:39           57.4N           109.9E   \n",
       "2            2023-04-01 00:02:03           16.8S            76.0E   \n",
       "\n",
       "   Altitude (km)  Velocity (km/s)    vx    vy    vz  \\\n",
       "0           41.4             17.2   1.6 -14.7   8.8   \n",
       "1           31.2             22.1   8.6   3.6 -20.0   \n",
       "2           61.8             46.4  21.4 -40.6   7.1   \n",
       "\n",
       "   Total Radiated Energy (J)  Calculated Total Impact Energy (kt)  \n",
       "0               3.097000e+12                                6.300  \n",
       "1               7.200000e+10                                0.230  \n",
       "2               2.400000e+10                                0.086  "
      ]
     },
     "execution_count": 1,
     "metadata": {},
     "output_type": "execute_result"
    }
   ],
   "source": [
    "# notebook para visualização de gráficos referentes ao dataset sobre Fireballs\n",
    "'''\n",
    "kt(kiloton): Unidade que serve para avaliar a potência de uma arma nuclear, comparando a energia produzida\n",
    "pela explosão com a energia produzida pela explosão de 1 000 toneladas de trinitrotolueno (ou T. N. T.)\n",
    " \n",
    "altitude: distância em quilômetros (km) entre o evento registrado e a Terra (geoide de referência)\n",
    "----------------------------------------------------------------------------------------------------\n",
    "Sugestões de gráficos:\n",
    "• Gráfico de dispersão para analisar correlação e tendências de duas variáveis\n",
    "• Histograma para entender frequências dos dados\n",
    "• Gráfico de barra ou linha de acordo com o tipo de dado trabalhado\n",
    "'''\n",
    "import numpy as np\n",
    "import pandas as pd\n",
    "import seaborn as sns\n",
    "from math import log\n",
    "import datetime\n",
    "\n",
    "df = pd.read_csv('datasets/cneos_fireball_data.csv', on_bad_lines='warn')\n",
    "df.head(3)"
   ]
  },
  {
   "cell_type": "markdown",
   "id": "ebc551ea",
   "metadata": {},
   "source": [
    "## Analisando correlações entre as variáveis"
   ]
  },
  {
   "cell_type": "code",
   "execution_count": 2,
   "id": "7c07174f",
   "metadata": {},
   "outputs": [
    {
     "data": {
      "text/html": [
       "<div>\n",
       "<style scoped>\n",
       "    .dataframe tbody tr th:only-of-type {\n",
       "        vertical-align: middle;\n",
       "    }\n",
       "\n",
       "    .dataframe tbody tr th {\n",
       "        vertical-align: top;\n",
       "    }\n",
       "\n",
       "    .dataframe thead th {\n",
       "        text-align: right;\n",
       "    }\n",
       "</style>\n",
       "<table border=\"1\" class=\"dataframe\">\n",
       "  <thead>\n",
       "    <tr style=\"text-align: right;\">\n",
       "      <th></th>\n",
       "      <th>Altitude (km)</th>\n",
       "      <th>Velocity (km/s)</th>\n",
       "      <th>vx</th>\n",
       "      <th>vy</th>\n",
       "      <th>vz</th>\n",
       "      <th>Total Radiated Energy (J)</th>\n",
       "      <th>Calculated Total Impact Energy (kt)</th>\n",
       "    </tr>\n",
       "  </thead>\n",
       "  <tbody>\n",
       "    <tr>\n",
       "      <th>Altitude (km)</th>\n",
       "      <td>1.000000</td>\n",
       "      <td>0.158080</td>\n",
       "      <td>-0.042589</td>\n",
       "      <td>-0.011952</td>\n",
       "      <td>-0.058933</td>\n",
       "      <td>-0.071156</td>\n",
       "      <td>-0.078851</td>\n",
       "    </tr>\n",
       "    <tr>\n",
       "      <th>Velocity (km/s)</th>\n",
       "      <td>0.158080</td>\n",
       "      <td>1.000000</td>\n",
       "      <td>0.042015</td>\n",
       "      <td>-0.155725</td>\n",
       "      <td>-0.166425</td>\n",
       "      <td>0.003765</td>\n",
       "      <td>0.002862</td>\n",
       "    </tr>\n",
       "    <tr>\n",
       "      <th>vx</th>\n",
       "      <td>-0.042589</td>\n",
       "      <td>0.042015</td>\n",
       "      <td>1.000000</td>\n",
       "      <td>-0.122349</td>\n",
       "      <td>0.001900</td>\n",
       "      <td>0.081249</td>\n",
       "      <td>0.086136</td>\n",
       "    </tr>\n",
       "    <tr>\n",
       "      <th>vy</th>\n",
       "      <td>-0.011952</td>\n",
       "      <td>-0.155725</td>\n",
       "      <td>-0.122349</td>\n",
       "      <td>1.000000</td>\n",
       "      <td>0.076239</td>\n",
       "      <td>-0.060104</td>\n",
       "      <td>-0.059950</td>\n",
       "    </tr>\n",
       "    <tr>\n",
       "      <th>vz</th>\n",
       "      <td>-0.058933</td>\n",
       "      <td>-0.166425</td>\n",
       "      <td>0.001900</td>\n",
       "      <td>0.076239</td>\n",
       "      <td>1.000000</td>\n",
       "      <td>-0.019473</td>\n",
       "      <td>-0.021706</td>\n",
       "    </tr>\n",
       "    <tr>\n",
       "      <th>Total Radiated Energy (J)</th>\n",
       "      <td>-0.071156</td>\n",
       "      <td>0.003765</td>\n",
       "      <td>0.081249</td>\n",
       "      <td>-0.060104</td>\n",
       "      <td>-0.019473</td>\n",
       "      <td>1.000000</td>\n",
       "      <td>0.998149</td>\n",
       "    </tr>\n",
       "    <tr>\n",
       "      <th>Calculated Total Impact Energy (kt)</th>\n",
       "      <td>-0.078851</td>\n",
       "      <td>0.002862</td>\n",
       "      <td>0.086136</td>\n",
       "      <td>-0.059950</td>\n",
       "      <td>-0.021706</td>\n",
       "      <td>0.998149</td>\n",
       "      <td>1.000000</td>\n",
       "    </tr>\n",
       "  </tbody>\n",
       "</table>\n",
       "</div>"
      ],
      "text/plain": [
       "                                     Altitude (km)  Velocity (km/s)        vx  \\\n",
       "Altitude (km)                             1.000000         0.158080 -0.042589   \n",
       "Velocity (km/s)                           0.158080         1.000000  0.042015   \n",
       "vx                                       -0.042589         0.042015  1.000000   \n",
       "vy                                       -0.011952        -0.155725 -0.122349   \n",
       "vz                                       -0.058933        -0.166425  0.001900   \n",
       "Total Radiated Energy (J)                -0.071156         0.003765  0.081249   \n",
       "Calculated Total Impact Energy (kt)      -0.078851         0.002862  0.086136   \n",
       "\n",
       "                                           vy        vz  \\\n",
       "Altitude (km)                       -0.011952 -0.058933   \n",
       "Velocity (km/s)                     -0.155725 -0.166425   \n",
       "vx                                  -0.122349  0.001900   \n",
       "vy                                   1.000000  0.076239   \n",
       "vz                                   0.076239  1.000000   \n",
       "Total Radiated Energy (J)           -0.060104 -0.019473   \n",
       "Calculated Total Impact Energy (kt) -0.059950 -0.021706   \n",
       "\n",
       "                                     Total Radiated Energy (J)  \\\n",
       "Altitude (km)                                        -0.071156   \n",
       "Velocity (km/s)                                       0.003765   \n",
       "vx                                                    0.081249   \n",
       "vy                                                   -0.060104   \n",
       "vz                                                   -0.019473   \n",
       "Total Radiated Energy (J)                             1.000000   \n",
       "Calculated Total Impact Energy (kt)                   0.998149   \n",
       "\n",
       "                                     Calculated Total Impact Energy (kt)  \n",
       "Altitude (km)                                                  -0.078851  \n",
       "Velocity (km/s)                                                 0.002862  \n",
       "vx                                                              0.086136  \n",
       "vy                                                             -0.059950  \n",
       "vz                                                             -0.021706  \n",
       "Total Radiated Energy (J)                                       0.998149  \n",
       "Calculated Total Impact Energy (kt)                             1.000000  "
      ]
     },
     "execution_count": 2,
     "metadata": {},
     "output_type": "execute_result"
    }
   ],
   "source": [
    "# Verificando a correlação entre as variáveis a partir da matriz de dispersão\n",
    "df.corr(method='pearson', numeric_only=True)"
   ]
  },
  {
   "cell_type": "markdown",
   "id": "9d409f76",
   "metadata": {},
   "source": [
    "Assim observamos:\n",
    "- uma correlação muito forte entre Total Radiated Energy (J) e Calculated Total Impact Energy (kt)\n",
    "- demais pares de variáveis não apresentam corrrelação entre si\n",
    "Para visualizar a correlação, usaremos o gráfico de dispersão"
   ]
  },
  {
   "cell_type": "code",
   "execution_count": 3,
   "id": "78f88eab",
   "metadata": {},
   "outputs": [],
   "source": [
    "radiated_energy_log = np.log10(df['Total Radiated Energy (J)'])\n",
    "df['Total Radiated Energy (J) - log[10]'] = radiated_energy_log\n",
    "\n",
    "#impact_energy_log = np.log10(df['Calculated Total Impact Energy (kt)'])\n",
    "#df['Calculated Total Impact Energy (kt) - log[10]'] = impact_energy_log\n",
    "impact_energy_log = np.array([log(x,100) for x in df['Calculated Total Impact Energy (kt)']])\n",
    "df['Calculated Total Impact Energy (kt) - log[100]'] = impact_energy_log"
   ]
  },
  {
   "cell_type": "code",
   "execution_count": 4,
   "id": "8da70953",
   "metadata": {},
   "outputs": [
    {
     "data": {
      "text/plain": [
       "<Axes: xlabel='Total Radiated Energy (J) - log[10]', ylabel='Calculated Total Impact Energy (kt) - log[100]'>"
      ]
     },
     "execution_count": 4,
     "metadata": {},
     "output_type": "execute_result"
    },
    {
     "data": {
      "image/png": "[encoded data removed]",
      "text/plain": [
       "<Figure size 640x480 with 1 Axes>"
      ]
     },
     "metadata": {},
     "output_type": "display_data"
    }
   ],
   "source": [
    "sns.scatterplot(data=df, y='Calculated Total Impact Energy (kt) - log[100]', x='Total Radiated Energy (J) - log[10]',\n",
    "               alpha=0.3) "
   ]
  },
  {
   "cell_type": "code",
   "execution_count": 5,
   "id": "1e27f7d8",
   "metadata": {},
   "outputs": [
    {
     "data": {
      "text/plain": [
       "<Axes: xlabel='Calculated Total Impact Energy (kt) - log[100]', ylabel='Total Radiated Energy (J) - log[10]'>"
      ]
     },
     "execution_count": 5,
     "metadata": {},
     "output_type": "execute_result"
    },
    {
     "data": {
      "image/png": "[encoded data removed]",
      "text/plain": [
       "<Figure size 640x480 with 2 Axes>"
      ]
     },
     "metadata": {},
     "output_type": "display_data"
    }
   ],
   "source": [
    "# usando o plot do pandas\n",
    "df.plot.scatter(x='Calculated Total Impact Energy (kt) - log[100]',\n",
    "                y='Total Radiated Energy (J) - log[10]',\n",
    "                c='Total Radiated Energy (J) - log[10]',\n",
    "                colormap='viridis')"
   ]
  },
  {
   "cell_type": "markdown",
   "id": "60292415",
   "metadata": {},
   "source": [
    "### Frequência da Altitude"
   ]
  },
  {
   "cell_type": "code",
   "execution_count": 6,
   "id": "3031d6ad",
   "metadata": {},
   "outputs": [
    {
     "data": {
      "text/plain": [
       "<seaborn.axisgrid.FacetGrid at 0x1ce9b875590>"
      ]
     },
     "execution_count": 6,
     "metadata": {},
     "output_type": "execute_result"
    },
    {
     "data": {
      "image/png": "[encoded data removed]",
      "text/plain": [
       "<Figure size 500x500 with 1 Axes>"
      ]
     },
     "metadata": {},
     "output_type": "display_data"
    }
   ],
   "source": [
    "sns.displot(data=df,x='Altitude (km)', binwidth=2)\n",
    "#sns.displot(data=df,x='Altitude (km)', bins=30)"
   ]
  },
  {
   "cell_type": "markdown",
   "id": "d0c4a091",
   "metadata": {},
   "source": [
    "- verificamos que a maior parte das fireballs registradas estava a 26-40 km acima da superfície do planeta "
   ]
  },
  {
   "cell_type": "markdown",
   "id": "6a30943c",
   "metadata": {},
   "source": [
    "### Frequência de Energia de Impacto"
   ]
  },
  {
   "cell_type": "code",
   "execution_count": 7,
   "id": "7c2c89ca",
   "metadata": {},
   "outputs": [
    {
     "data": {
      "text/plain": [
       "<seaborn.axisgrid.FacetGrid at 0x1ce9dbe2390>"
      ]
     },
     "execution_count": 7,
     "metadata": {},
     "output_type": "execute_result"
    },
    {
     "data": {
      "image/png": "[encoded data removed]",
      "text/plain": [
       "<Figure size 500x500 with 1 Axes>"
      ]
     },
     "metadata": {},
     "output_type": "display_data"
    }
   ],
   "source": [
    "sns.displot(data=df,x='Calculated Total Impact Energy (kt) - log[100]', bins=30)\n"
   ]
  },
  {
   "cell_type": "markdown",
   "id": "d8cb4de5",
   "metadata": {},
   "source": [
    "- A maioria dos dos eventos registrava uma energia de impacto abaixo de 1 kiloton\n",
    "- Outro dado destacável no gráfico é o evento de maior energia de impacto registrada, com 440 kilotons (cerca de 1.32 na escala logarítmica de base 100)"
   ]
  },
  {
   "cell_type": "code",
   "execution_count": 8,
   "id": "4dde2a6d",
   "metadata": {},
   "outputs": [
    {
     "data": {
      "text/html": [
       "<div>\n",
       "<style scoped>\n",
       "    .dataframe tbody tr th:only-of-type {\n",
       "        vertical-align: middle;\n",
       "    }\n",
       "\n",
       "    .dataframe tbody tr th {\n",
       "        vertical-align: top;\n",
       "    }\n",
       "\n",
       "    .dataframe thead th {\n",
       "        text-align: right;\n",
       "    }\n",
       "</style>\n",
       "<table border=\"1\" class=\"dataframe\">\n",
       "  <thead>\n",
       "    <tr style=\"text-align: right;\">\n",
       "      <th></th>\n",
       "      <th>Peak Brightness Date/Time (UT)</th>\n",
       "      <th>Latitude (deg.)</th>\n",
       "      <th>Longitude (deg.)</th>\n",
       "      <th>Altitude (km)</th>\n",
       "      <th>Velocity (km/s)</th>\n",
       "      <th>vx</th>\n",
       "      <th>vy</th>\n",
       "      <th>vz</th>\n",
       "      <th>Total Radiated Energy (J)</th>\n",
       "      <th>Calculated Total Impact Energy (kt)</th>\n",
       "      <th>Total Radiated Energy (J) - log[10]</th>\n",
       "      <th>Calculated Total Impact Energy (kt) - log[100]</th>\n",
       "    </tr>\n",
       "  </thead>\n",
       "  <tbody>\n",
       "    <tr>\n",
       "      <th>369</th>\n",
       "      <td>2013-02-15 03:20:33</td>\n",
       "      <td>54.8N</td>\n",
       "      <td>61.1E</td>\n",
       "      <td>23.3</td>\n",
       "      <td>18.6</td>\n",
       "      <td>12.8</td>\n",
       "      <td>-13.3</td>\n",
       "      <td>-2.4</td>\n",
       "      <td>3.750000e+14</td>\n",
       "      <td>440.0</td>\n",
       "      <td>14.574031</td>\n",
       "      <td>1.321726</td>\n",
       "    </tr>\n",
       "  </tbody>\n",
       "</table>\n",
       "</div>"
      ],
      "text/plain": [
       "    Peak Brightness Date/Time (UT) Latitude (deg.) Longitude (deg.)  \\\n",
       "369            2013-02-15 03:20:33           54.8N            61.1E   \n",
       "\n",
       "     Altitude (km)  Velocity (km/s)    vx    vy   vz  \\\n",
       "369           23.3             18.6  12.8 -13.3 -2.4   \n",
       "\n",
       "     Total Radiated Energy (J)  Calculated Total Impact Energy (kt)  \\\n",
       "369               3.750000e+14                                440.0   \n",
       "\n",
       "     Total Radiated Energy (J) - log[10]  \\\n",
       "369                            14.574031   \n",
       "\n",
       "     Calculated Total Impact Energy (kt) - log[100]  \n",
       "369                                        1.321726  "
      ]
     },
     "execution_count": 8,
     "metadata": {},
     "output_type": "execute_result"
    }
   ],
   "source": [
    "# buscando evento no dataset com o valor em log[100] da sua Energia de Impacto (kt)\n",
    "maior_impacto = df[df['Calculated Total Impact Energy (kt) - log[100]'] > 1.25]; maior_impacto"
   ]
  },
  {
   "cell_type": "markdown",
   "id": "6e27fef2",
   "metadata": {},
   "source": [
    "* Este evento atingiu a Rússia em fevereiro de 2013. Estima-se o peso de cerca de 13t. A rocha se desintegrou antes de atingir o solo, causando danos em edifícios e deixando quase mil feridos. Fonte: [Meteoro de Chelyabinsk (G1)](http://glo.bo/HKfp26). Registros em vídeo do meteoro podem ser encontrados em: [Meteor Hits Russia Feb 15, 2013](https://youtu.be/dpmXyJrs7iU)"
   ]
  },
  {
   "cell_type": "code",
   "execution_count": null,
   "id": "e8cefad8",
   "metadata": {},
   "outputs": [],
   "source": [
    "# em termos de energia emitida (), o registro de Chelyabinsk não se classifica como bólido? ### verificar"
   ]
  },
  {
   "cell_type": "markdown",
   "id": "9826238d",
   "metadata": {},
   "source": [
    "### Frequência de Velocidade"
   ]
  },
  {
   "cell_type": "code",
   "execution_count": 9,
   "id": "200dd666",
   "metadata": {},
   "outputs": [
    {
     "data": {
      "text/plain": [
       "<seaborn.axisgrid.FacetGrid at 0x1ce9daeefd0>"
      ]
     },
     "execution_count": 9,
     "metadata": {},
     "output_type": "execute_result"
    },
    {
     "data": {
      "image/png": "[encoded data removed]",
      "text/plain": [
       "<Figure size 500x500 with 1 Axes>"
      ]
     },
     "metadata": {},
     "output_type": "display_data"
    }
   ],
   "source": [
    "sns.displot(data=df,x='Velocity (km/s)', bins=50)"
   ]
  },
  {
   "cell_type": "markdown",
   "id": "b973cac9",
   "metadata": {},
   "source": [
    "- a velocidade da maioria dos meteoros registrados, antes de atingir o solo, está entre 10 e 25 km/s"
   ]
  },
  {
   "cell_type": "markdown",
   "id": "4cfd1213",
   "metadata": {},
   "source": [
    "### Verificar datação \n",
    "- Buscar o intervalo de tempo dos eventos registrados"
   ]
  },
  {
   "cell_type": "code",
   "execution_count": 11,
   "id": "58c62909",
   "metadata": {},
   "outputs": [
    {
     "data": {
      "text/plain": [
       "'1988-04-15 03:03:10'"
      ]
     },
     "execution_count": 11,
     "metadata": {},
     "output_type": "execute_result"
    }
   ],
   "source": [
    "df['Peak Brightness Date/Time (UT)'].min()"
   ]
  },
  {
   "cell_type": "code",
   "execution_count": 16,
   "id": "e1f94248",
   "metadata": {},
   "outputs": [
    {
     "data": {
      "text/html": [
       "<div>\n",
       "<style scoped>\n",
       "    .dataframe tbody tr th:only-of-type {\n",
       "        vertical-align: middle;\n",
       "    }\n",
       "\n",
       "    .dataframe tbody tr th {\n",
       "        vertical-align: top;\n",
       "    }\n",
       "\n",
       "    .dataframe thead th {\n",
       "        text-align: right;\n",
       "    }\n",
       "</style>\n",
       "<table border=\"1\" class=\"dataframe\">\n",
       "  <thead>\n",
       "    <tr style=\"text-align: right;\">\n",
       "      <th></th>\n",
       "      <th>Peak Brightness Date/Time (UT)</th>\n",
       "      <th>Latitude (deg.)</th>\n",
       "      <th>Longitude (deg.)</th>\n",
       "      <th>Altitude (km)</th>\n",
       "      <th>Velocity (km/s)</th>\n",
       "      <th>vx</th>\n",
       "      <th>vy</th>\n",
       "      <th>vz</th>\n",
       "      <th>Total Radiated Energy (J)</th>\n",
       "      <th>Calculated Total Impact Energy (kt)</th>\n",
       "      <th>Total Radiated Energy (J) - log[10]</th>\n",
       "      <th>Calculated Total Impact Energy (kt) - log[100]</th>\n",
       "    </tr>\n",
       "  </thead>\n",
       "  <tbody>\n",
       "    <tr>\n",
       "      <th>0</th>\n",
       "      <td>2023-04-15 08:22:01</td>\n",
       "      <td>20.1S</td>\n",
       "      <td>36.0E</td>\n",
       "      <td>41.4</td>\n",
       "      <td>17.2</td>\n",
       "      <td>1.6</td>\n",
       "      <td>-14.7</td>\n",
       "      <td>8.8</td>\n",
       "      <td>3.097000e+12</td>\n",
       "      <td>6.300</td>\n",
       "      <td>12.490941</td>\n",
       "      <td>0.399670</td>\n",
       "    </tr>\n",
       "    <tr>\n",
       "      <th>1</th>\n",
       "      <td>2023-04-06 14:47:39</td>\n",
       "      <td>57.4N</td>\n",
       "      <td>109.9E</td>\n",
       "      <td>31.2</td>\n",
       "      <td>22.1</td>\n",
       "      <td>8.6</td>\n",
       "      <td>3.6</td>\n",
       "      <td>-20.0</td>\n",
       "      <td>7.200000e+10</td>\n",
       "      <td>0.230</td>\n",
       "      <td>10.857332</td>\n",
       "      <td>-0.319136</td>\n",
       "    </tr>\n",
       "    <tr>\n",
       "      <th>2</th>\n",
       "      <td>2023-04-01 00:02:03</td>\n",
       "      <td>16.8S</td>\n",
       "      <td>76.0E</td>\n",
       "      <td>61.8</td>\n",
       "      <td>46.4</td>\n",
       "      <td>21.4</td>\n",
       "      <td>-40.6</td>\n",
       "      <td>7.1</td>\n",
       "      <td>2.400000e+10</td>\n",
       "      <td>0.086</td>\n",
       "      <td>10.380211</td>\n",
       "      <td>-0.532751</td>\n",
       "    </tr>\n",
       "    <tr>\n",
       "      <th>3</th>\n",
       "      <td>2023-03-20 06:53:23</td>\n",
       "      <td>23.7S</td>\n",
       "      <td>132.6E</td>\n",
       "      <td>34.8</td>\n",
       "      <td>NaN</td>\n",
       "      <td>NaN</td>\n",
       "      <td>NaN</td>\n",
       "      <td>NaN</td>\n",
       "      <td>2.700000e+10</td>\n",
       "      <td>0.095</td>\n",
       "      <td>10.431364</td>\n",
       "      <td>-0.511138</td>\n",
       "    </tr>\n",
       "    <tr>\n",
       "      <th>4</th>\n",
       "      <td>2023-03-11 08:21:28</td>\n",
       "      <td>74.7S</td>\n",
       "      <td>79.5E</td>\n",
       "      <td>32.0</td>\n",
       "      <td>NaN</td>\n",
       "      <td>NaN</td>\n",
       "      <td>NaN</td>\n",
       "      <td>NaN</td>\n",
       "      <td>4.440000e+11</td>\n",
       "      <td>1.100</td>\n",
       "      <td>11.647383</td>\n",
       "      <td>0.020696</td>\n",
       "    </tr>\n",
       "    <tr>\n",
       "      <th>...</th>\n",
       "      <td>...</td>\n",
       "      <td>...</td>\n",
       "      <td>...</td>\n",
       "      <td>...</td>\n",
       "      <td>...</td>\n",
       "      <td>...</td>\n",
       "      <td>...</td>\n",
       "      <td>...</td>\n",
       "      <td>...</td>\n",
       "      <td>...</td>\n",
       "      <td>...</td>\n",
       "      <td>...</td>\n",
       "    </tr>\n",
       "    <tr>\n",
       "      <th>948</th>\n",
       "      <td>1993-11-29 17:48:41</td>\n",
       "      <td>26.5N</td>\n",
       "      <td>78.3E</td>\n",
       "      <td>NaN</td>\n",
       "      <td>NaN</td>\n",
       "      <td>NaN</td>\n",
       "      <td>NaN</td>\n",
       "      <td>NaN</td>\n",
       "      <td>2.600000e+10</td>\n",
       "      <td>0.092</td>\n",
       "      <td>10.414973</td>\n",
       "      <td>-0.518106</td>\n",
       "    </tr>\n",
       "    <tr>\n",
       "      <th>949</th>\n",
       "      <td>1993-10-31 03:39:27</td>\n",
       "      <td>51.3N</td>\n",
       "      <td>100.9W</td>\n",
       "      <td>NaN</td>\n",
       "      <td>NaN</td>\n",
       "      <td>NaN</td>\n",
       "      <td>NaN</td>\n",
       "      <td>NaN</td>\n",
       "      <td>4.000000e+10</td>\n",
       "      <td>0.130</td>\n",
       "      <td>10.602060</td>\n",
       "      <td>-0.443028</td>\n",
       "    </tr>\n",
       "    <tr>\n",
       "      <th>950</th>\n",
       "      <td>1991-10-04 09:22:47</td>\n",
       "      <td>78.7N</td>\n",
       "      <td>6.3E</td>\n",
       "      <td>NaN</td>\n",
       "      <td>NaN</td>\n",
       "      <td>NaN</td>\n",
       "      <td>NaN</td>\n",
       "      <td>NaN</td>\n",
       "      <td>5.500000e+11</td>\n",
       "      <td>1.400</td>\n",
       "      <td>11.740363</td>\n",
       "      <td>0.073064</td>\n",
       "    </tr>\n",
       "    <tr>\n",
       "      <th>951</th>\n",
       "      <td>1990-10-01 03:51:47</td>\n",
       "      <td>7.5N</td>\n",
       "      <td>142.8E</td>\n",
       "      <td>NaN</td>\n",
       "      <td>NaN</td>\n",
       "      <td>NaN</td>\n",
       "      <td>NaN</td>\n",
       "      <td>NaN</td>\n",
       "      <td>2.500000e+12</td>\n",
       "      <td>5.200</td>\n",
       "      <td>12.397940</td>\n",
       "      <td>0.358002</td>\n",
       "    </tr>\n",
       "    <tr>\n",
       "      <th>952</th>\n",
       "      <td>1988-04-15 03:03:10</td>\n",
       "      <td>4.1S</td>\n",
       "      <td>124.3E</td>\n",
       "      <td>NaN</td>\n",
       "      <td>NaN</td>\n",
       "      <td>NaN</td>\n",
       "      <td>NaN</td>\n",
       "      <td>NaN</td>\n",
       "      <td>7.580000e+12</td>\n",
       "      <td>14.000</td>\n",
       "      <td>12.879669</td>\n",
       "      <td>0.573064</td>\n",
       "    </tr>\n",
       "  </tbody>\n",
       "</table>\n",
       "<p>953 rows × 12 columns</p>\n",
       "</div>"
      ],
      "text/plain": [
       "    Peak Brightness Date/Time (UT) Latitude (deg.) Longitude (deg.)  \\\n",
       "0              2023-04-15 08:22:01           20.1S            36.0E   \n",
       "1              2023-04-06 14:47:39           57.4N           109.9E   \n",
       "2              2023-04-01 00:02:03           16.8S            76.0E   \n",
       "3              2023-03-20 06:53:23           23.7S           132.6E   \n",
       "4              2023-03-11 08:21:28           74.7S            79.5E   \n",
       "..                             ...             ...              ...   \n",
       "948            1993-11-29 17:48:41           26.5N            78.3E   \n",
       "949            1993-10-31 03:39:27           51.3N           100.9W   \n",
       "950            1991-10-04 09:22:47           78.7N             6.3E   \n",
       "951            1990-10-01 03:51:47            7.5N           142.8E   \n",
       "952            1988-04-15 03:03:10            4.1S           124.3E   \n",
       "\n",
       "     Altitude (km)  Velocity (km/s)    vx    vy    vz  \\\n",
       "0             41.4             17.2   1.6 -14.7   8.8   \n",
       "1             31.2             22.1   8.6   3.6 -20.0   \n",
       "2             61.8             46.4  21.4 -40.6   7.1   \n",
       "3             34.8              NaN   NaN   NaN   NaN   \n",
       "4             32.0              NaN   NaN   NaN   NaN   \n",
       "..             ...              ...   ...   ...   ...   \n",
       "948            NaN              NaN   NaN   NaN   NaN   \n",
       "949            NaN              NaN   NaN   NaN   NaN   \n",
       "950            NaN              NaN   NaN   NaN   NaN   \n",
       "951            NaN              NaN   NaN   NaN   NaN   \n",
       "952            NaN              NaN   NaN   NaN   NaN   \n",
       "\n",
       "     Total Radiated Energy (J)  Calculated Total Impact Energy (kt)  \\\n",
       "0                 3.097000e+12                                6.300   \n",
       "1                 7.200000e+10                                0.230   \n",
       "2                 2.400000e+10                                0.086   \n",
       "3                 2.700000e+10                                0.095   \n",
       "4                 4.440000e+11                                1.100   \n",
       "..                         ...                                  ...   \n",
       "948               2.600000e+10                                0.092   \n",
       "949               4.000000e+10                                0.130   \n",
       "950               5.500000e+11                                1.400   \n",
       "951               2.500000e+12                                5.200   \n",
       "952               7.580000e+12                               14.000   \n",
       "\n",
       "     Total Radiated Energy (J) - log[10]  \\\n",
       "0                              12.490941   \n",
       "1                              10.857332   \n",
       "2                              10.380211   \n",
       "3                              10.431364   \n",
       "4                              11.647383   \n",
       "..                                   ...   \n",
       "948                            10.414973   \n",
       "949                            10.602060   \n",
       "950                            11.740363   \n",
       "951                            12.397940   \n",
       "952                            12.879669   \n",
       "\n",
       "     Calculated Total Impact Energy (kt) - log[100]  \n",
       "0                                          0.399670  \n",
       "1                                         -0.319136  \n",
       "2                                         -0.532751  \n",
       "3                                         -0.511138  \n",
       "4                                          0.020696  \n",
       "..                                              ...  \n",
       "948                                       -0.518106  \n",
       "949                                       -0.443028  \n",
       "950                                        0.073064  \n",
       "951                                        0.358002  \n",
       "952                                        0.573064  \n",
       "\n",
       "[953 rows x 12 columns]"
      ]
     },
     "execution_count": 16,
     "metadata": {},
     "output_type": "execute_result"
    }
   ],
   "source": [
    "df.sort_values('Peak Brightness Date/Time (UT)', ascending=False) # do mais recente ao mais antigo"
   ]
  },
  {
   "cell_type": "markdown",
   "id": "d9365378",
   "metadata": {},
   "source": [
    "- Os registros vão de abril de 1988 até abril de 2023 "
   ]
  },
  {
   "cell_type": "code",
   "execution_count": null,
   "id": "7fd696d5",
   "metadata": {},
   "outputs": [],
   "source": []
  }
 ],
 "metadata": {
  "kernelspec": {
   "display_name": "Python 3 (ipykernel)",
   "language": "python",
   "name": "python3"
  },
  "language_info": {
   "codemirror_mode": {
    "name": "ipython",
    "version": 3
   },
   "file_extension": ".py",
   "mimetype": "text/x-python",
   "name": "python",
   "nbconvert_exporter": "python",
   "pygments_lexer": "ipython3",
   "version": "3.11.1"
  }
 },
 "nbformat": 4,
 "nbformat_minor": 5
}
