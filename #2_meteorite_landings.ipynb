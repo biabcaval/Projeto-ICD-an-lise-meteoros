{
 "cells": [
  {
   "cell_type": "code",
   "execution_count": 5,
   "id": "051a3c51",
   "metadata": {},
   "outputs": [
    {
     "data": {
      "text/html": [
       "<div>\n",
       "<style scoped>\n",
       "    .dataframe tbody tr th:only-of-type {\n",
       "        vertical-align: middle;\n",
       "    }\n",
       "\n",
       "    .dataframe tbody tr th {\n",
       "        vertical-align: top;\n",
       "    }\n",
       "\n",
       "    .dataframe thead th {\n",
       "        text-align: right;\n",
       "    }\n",
       "</style>\n",
       "<table border=\"1\" class=\"dataframe\">\n",
       "  <thead>\n",
       "    <tr style=\"text-align: right;\">\n",
       "      <th></th>\n",
       "      <th>name</th>\n",
       "      <th>id</th>\n",
       "      <th>nametype</th>\n",
       "      <th>recclass</th>\n",
       "      <th>mass</th>\n",
       "      <th>fall</th>\n",
       "      <th>year</th>\n",
       "      <th>reclat</th>\n",
       "      <th>reclong</th>\n",
       "      <th>GeoLocation</th>\n",
       "    </tr>\n",
       "  </thead>\n",
       "  <tbody>\n",
       "    <tr>\n",
       "      <th>0</th>\n",
       "      <td>Aachen</td>\n",
       "      <td>1</td>\n",
       "      <td>Valid</td>\n",
       "      <td>L5</td>\n",
       "      <td>21.0</td>\n",
       "      <td>Fell</td>\n",
       "      <td>1880.0</td>\n",
       "      <td>50.77500</td>\n",
       "      <td>6.08333</td>\n",
       "      <td>(50.775000, 6.083330)</td>\n",
       "    </tr>\n",
       "    <tr>\n",
       "      <th>1</th>\n",
       "      <td>Aarhus</td>\n",
       "      <td>2</td>\n",
       "      <td>Valid</td>\n",
       "      <td>H6</td>\n",
       "      <td>720.0</td>\n",
       "      <td>Fell</td>\n",
       "      <td>1951.0</td>\n",
       "      <td>56.18333</td>\n",
       "      <td>10.23333</td>\n",
       "      <td>(56.183330, 10.233330)</td>\n",
       "    </tr>\n",
       "    <tr>\n",
       "      <th>2</th>\n",
       "      <td>Abee</td>\n",
       "      <td>6</td>\n",
       "      <td>Valid</td>\n",
       "      <td>EH4</td>\n",
       "      <td>107000.0</td>\n",
       "      <td>Fell</td>\n",
       "      <td>1952.0</td>\n",
       "      <td>54.21667</td>\n",
       "      <td>-113.00000</td>\n",
       "      <td>(54.216670, -113.000000)</td>\n",
       "    </tr>\n",
       "  </tbody>\n",
       "</table>\n",
       "</div>"
      ],
      "text/plain": [
       "     name  id nametype recclass      mass  fall    year    reclat    reclong   \n",
       "0  Aachen   1    Valid       L5      21.0  Fell  1880.0  50.77500    6.08333  \\\n",
       "1  Aarhus   2    Valid       H6     720.0  Fell  1951.0  56.18333   10.23333   \n",
       "2    Abee   6    Valid      EH4  107000.0  Fell  1952.0  54.21667 -113.00000   \n",
       "\n",
       "                GeoLocation  \n",
       "0     (50.775000, 6.083330)  \n",
       "1    (56.183330, 10.233330)  \n",
       "2  (54.216670, -113.000000)  "
      ]
     },
     "execution_count": 5,
     "metadata": {},
     "output_type": "execute_result"
    }
   ],
   "source": [
    "# Notebook para exploração inicial dos datasets \"Meteorite Landings\" e \"Meteorite Landings on Earth\"\n",
    "import pandas as pd\n",
    "import numpy as np\n",
    "import math\n",
    "\n",
    "df1 = pd.read_csv(\"datasets/meteorite_landings.csv\", on_bad_lines='warn') # Dataset 1: Meteorite Landings\n",
    "df1.head(3) # pra vcs checarem as variáveis"
   ]
  },
  {
   "cell_type": "code",
   "execution_count": 2,
   "id": "c5885ba9",
   "metadata": {},
   "outputs": [
    {
     "data": {
      "text/html": [
       "<div>\n",
       "<style scoped>\n",
       "    .dataframe tbody tr th:only-of-type {\n",
       "        vertical-align: middle;\n",
       "    }\n",
       "\n",
       "    .dataframe tbody tr th {\n",
       "        vertical-align: top;\n",
       "    }\n",
       "\n",
       "    .dataframe thead th {\n",
       "        text-align: right;\n",
       "    }\n",
       "</style>\n",
       "<table border=\"1\" class=\"dataframe\">\n",
       "  <thead>\n",
       "    <tr style=\"text-align: right;\">\n",
       "      <th></th>\n",
       "      <th>Unnamed: 0</th>\n",
       "      <th>id</th>\n",
       "      <th>meteorite_name</th>\n",
       "      <th>nametype</th>\n",
       "      <th>recclass</th>\n",
       "      <th>fall</th>\n",
       "      <th>year</th>\n",
       "      <th>mass</th>\n",
       "      <th>location</th>\n",
       "      <th>location_code</th>\n",
       "      <th>location_type</th>\n",
       "      <th>distance</th>\n",
       "      <th>latitude</th>\n",
       "      <th>longitude</th>\n",
       "      <th>lat_lng</th>\n",
       "    </tr>\n",
       "  </thead>\n",
       "  <tbody>\n",
       "    <tr>\n",
       "      <th>0</th>\n",
       "      <td>1</td>\n",
       "      <td>1</td>\n",
       "      <td>Aachen</td>\n",
       "      <td>Valid</td>\n",
       "      <td>L5</td>\n",
       "      <td>Fell</td>\n",
       "      <td>1880.0</td>\n",
       "      <td>21.0</td>\n",
       "      <td>Germany</td>\n",
       "      <td>DE</td>\n",
       "      <td>land</td>\n",
       "      <td>0.0</td>\n",
       "      <td>50.7750</td>\n",
       "      <td>6.0833</td>\n",
       "      <td>50.775,6.0833</td>\n",
       "    </tr>\n",
       "    <tr>\n",
       "      <th>1</th>\n",
       "      <td>2</td>\n",
       "      <td>2</td>\n",
       "      <td>Aarhus</td>\n",
       "      <td>Valid</td>\n",
       "      <td>H6</td>\n",
       "      <td>Fell</td>\n",
       "      <td>1951.0</td>\n",
       "      <td>720.0</td>\n",
       "      <td>Denmark</td>\n",
       "      <td>DK</td>\n",
       "      <td>land</td>\n",
       "      <td>0.0</td>\n",
       "      <td>56.1833</td>\n",
       "      <td>10.2333</td>\n",
       "      <td>56.1833,10.2333</td>\n",
       "    </tr>\n",
       "    <tr>\n",
       "      <th>2</th>\n",
       "      <td>3</td>\n",
       "      <td>6</td>\n",
       "      <td>Abee</td>\n",
       "      <td>Valid</td>\n",
       "      <td>EH4</td>\n",
       "      <td>Fell</td>\n",
       "      <td>1952.0</td>\n",
       "      <td>107000.0</td>\n",
       "      <td>Canada</td>\n",
       "      <td>CA</td>\n",
       "      <td>land</td>\n",
       "      <td>0.0</td>\n",
       "      <td>54.2167</td>\n",
       "      <td>-113.0000</td>\n",
       "      <td>54.2167,-113</td>\n",
       "    </tr>\n",
       "  </tbody>\n",
       "</table>\n",
       "</div>"
      ],
      "text/plain": [
       "   Unnamed: 0  id meteorite_name nametype recclass  fall    year      mass   \n",
       "0           1   1         Aachen    Valid       L5  Fell  1880.0      21.0  \\\n",
       "1           2   2         Aarhus    Valid       H6  Fell  1951.0     720.0   \n",
       "2           3   6           Abee    Valid      EH4  Fell  1952.0  107000.0   \n",
       "\n",
       "  location location_code location_type  distance  latitude  longitude   \n",
       "0  Germany            DE          land       0.0   50.7750     6.0833  \\\n",
       "1  Denmark            DK          land       0.0   56.1833    10.2333   \n",
       "2   Canada            CA          land       0.0   54.2167  -113.0000   \n",
       "\n",
       "           lat_lng  \n",
       "0    50.775,6.0833  \n",
       "1  56.1833,10.2333  \n",
       "2     54.2167,-113  "
      ]
     },
     "execution_count": 2,
     "metadata": {},
     "output_type": "execute_result"
    }
   ],
   "source": [
    "df2 = pd.read_csv(\"datasets/meteorite_landings_on_earth.csv\", on_bad_lines='warn') # Dataset 2: Meteorite Landings on Earth\n",
    "df2.head(3)"
   ]
  },
  {
   "attachments": {},
   "cell_type": "markdown",
   "id": "307e054a",
   "metadata": {},
   "source": [
    "- Aqui faremos uma verificação do ano em que o meteorito foi descoberto, pois existem algumas incoerências. \n",
    "  \n",
    "  Faremos essa verificação utilizando como base o site [The Meteoritical Society](https://www.lpi.usra.edu/meteor/metbull.php).\n",
    "  "
   ]
  },
  {
   "cell_type": "code",
   "execution_count": 15,
   "id": "3b0b9e32",
   "metadata": {},
   "outputs": [
    {
     "name": "stdout",
     "output_type": "stream",
     "text": [
      "['Nogata', 'Havana', 'Northwest Africa 7701', 'Ur', 'Wietrzno-Bobrka']\n"
     ]
    },
    {
     "data": {
      "text/plain": [
       "[703, 16356, 30679, 38188, 38301]"
      ]
     },
     "execution_count": 15,
     "metadata": {},
     "output_type": "execute_result"
    }
   ],
   "source": [
    "\n",
    "years_bug = [i for i in df1['year'] if i >= 2016 or i <= 860 ] # pega os anos incoerentes\n",
    "\n",
    "index_bug = [i for i in df1.index if df1.loc[i, 'year'] in years_bug] # pega os índices dos elementos problemáticos \n",
    "\n",

    "name_years_bug = [df1['name'].loc[i] for i in df1.index if df1.loc[i, 'year'] in years_bug] # pega o nome dos elementos para a verificação no site\n",

    "\n",
    "print(name_years_bug)\n",
    "index_bug\n"
   ]
  },
  {
   "attachments": {},
   "cell_type": "markdown",
   "id": "9ead816b",
   "metadata": {},
   "source": [
    "- Agora vamos corrigir as informações no dataframe:"
   ]
  },
  {
   "cell_type": "code",
   "execution_count": 16,
   "id": "fd4940b3",
   "metadata": {},
   "outputs": [],
   "source": [
    "df1.loc[703,'year'] = 861\n",
    "df1.loc[16356,'year'] = -300\n",
    "df1.loc[30679,'year'] = 2010\n",
    "df1.loc[38188, 'year'] = -2500 # '-' possivelmente significa antes de cristo\n",
    "df1.loc[38301,'year'] = -600\n",
    "\n",
    "# De acordo com os autores do dataset, esses anos são \"anos antes de cristo\""
   ]
  },
  {
   "attachments": {},
   "cell_type": "markdown",
   "id": "8cf95683",
   "metadata": {},
   "source": [
    "### Calculando as medidas de centralidade da variável 'mass'"
   ]
  },
  {
   "attachments": {},
   "cell_type": "markdown",
   "id": "70b5b13f",
   "metadata": {},
   "source": [
    "- Media"
   ]
  },
  {
   "cell_type": "code",
   "execution_count": null,
   "id": "3ee2a34b",
   "metadata": {},
   "outputs": [
    {
     "data": {
      "text/plain": [
       "13278.078548601516"
      ]
     },
     "execution_count": 98,
     "metadata": {},
     "output_type": "execute_result"
    }
   ],
   "source": [
    "#remove os valores nan antes de calcular a média na coluna 'mass'\n",
    "np.nanmean(df1['mass'])"
   ]
  },
  {
   "attachments": {},
   "cell_type": "markdown",
   "id": "b204de4b",
   "metadata": {},
   "source": [
    "- Mediana"
   ]
  },
  {
   "cell_type": "code",
   "execution_count": 101,
   "id": "3214661d",
   "metadata": {},
   "outputs": [
    {
     "data": {
      "text/plain": [
       "32.6"
      ]
     },
     "execution_count": 101,
     "metadata": {},
     "output_type": "execute_result"
    }
   ],
   "source": [
    "np.nanmedian(df1['mass'])"
   ]
  },
  {
   "attachments": {},
   "cell_type": "markdown",
   "id": "3eb78cee",
   "metadata": {},
   "source": [
    "### Agora calculando as medidas de dispersão da variável 'mass'"
   ]
  },
  {
   "attachments": {},
   "cell_type": "markdown",
   "id": "d35b8075",
   "metadata": {},
   "source": [
    "- Variância"
   ]
  },
  {
   "cell_type": "code",
   "execution_count": 4,
   "id": "92c66552",
   "metadata": {},
   "outputs": [
    {
     "data": {
      "text/plain": [
       "330604955342.3177"
      ]
     },
     "execution_count": 4,
     "metadata": {},
     "output_type": "execute_result"
    }
   ],
   "source": [
    "variancia_massa = np.var(df1['mass'])\n",
    "\n",
    "variancia_massa"
   ]
  },
  {
   "attachments": {},
   "cell_type": "markdown",
   "id": "82756e7a",
   "metadata": {},
   "source": [
    "- Desvio Padrão"
   ]
  },
  {
   "cell_type": "code",
   "execution_count": 12,
   "id": "04da09e8",
   "metadata": {},
   "outputs": [
    {
     "data": {
      "text/plain": [
       "574982.5695986946"
      ]
     },
     "execution_count": 12,
     "metadata": {},
     "output_type": "execute_result"
    }
   ],
   "source": [
    "desvio_massa = math.sqrt(variancia_massa)\n",
    "desvio_massa"
   ]
  }
 ],
 "metadata": {
  "kernelspec": {
   "display_name": "Python 3 (ipykernel)",
   "language": "python",
   "name": "python3"
  },
  "language_info": {
   "codemirror_mode": {
    "name": "ipython",
    "version": 3
   },
   "file_extension": ".py",
   "mimetype": "text/x-python",
   "name": "python",
   "nbconvert_exporter": "python",
   "pygments_lexer": "ipython3",
   "version": "3.10.6"
  }
 },
 "nbformat": 4,
 "nbformat_minor": 5
}
