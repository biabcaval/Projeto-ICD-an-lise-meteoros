{
  "cells": [
    {
      "cell_type": "code",
      "execution_count": 1,
      "id": "051a3c51",
      "metadata": {
        "colab": {
          "base_uri": "https://localhost:8080/",
          "height": 143
        },
        "id": "051a3c51",
        "outputId": "66e70dab-99e0-4813-fdbb-c5c71e7d871c"
      },
      "outputs": [
        {
          "data": {
            "text/html": [
              "<div>\n",
              "<style scoped>\n",
              "    .dataframe tbody tr th:only-of-type {\n",
              "        vertical-align: middle;\n",
              "    }\n",
              "\n",
              "    .dataframe tbody tr th {\n",
              "        vertical-align: top;\n",
              "    }\n",
              "\n",
              "    .dataframe thead th {\n",
              "        text-align: right;\n",
              "    }\n",
              "</style>\n",
              "<table border=\"1\" class=\"dataframe\">\n",
              "  <thead>\n",
              "    <tr style=\"text-align: right;\">\n",
              "      <th></th>\n",
              "      <th>name</th>\n",
              "      <th>id</th>\n",
              "      <th>nametype</th>\n",
              "      <th>recclass</th>\n",
              "      <th>mass</th>\n",
              "      <th>fall</th>\n",
              "      <th>year</th>\n",
              "      <th>reclat</th>\n",
              "      <th>reclong</th>\n",
              "      <th>GeoLocation</th>\n",
              "    </tr>\n",
              "  </thead>\n",
              "  <tbody>\n",
              "    <tr>\n",
              "      <th>0</th>\n",
              "      <td>Aachen</td>\n",
              "      <td>1</td>\n",
              "      <td>Valid</td>\n",
              "      <td>L5</td>\n",
              "      <td>21.0</td>\n",
              "      <td>Fell</td>\n",
              "      <td>1880.0</td>\n",
              "      <td>50.77500</td>\n",
              "      <td>6.08333</td>\n",
              "      <td>(50.775000, 6.083330)</td>\n",
              "    </tr>\n",
              "    <tr>\n",
              "      <th>1</th>\n",
              "      <td>Aarhus</td>\n",
              "      <td>2</td>\n",
              "      <td>Valid</td>\n",
              "      <td>H6</td>\n",
              "      <td>720.0</td>\n",
              "      <td>Fell</td>\n",
              "      <td>1951.0</td>\n",
              "      <td>56.18333</td>\n",
              "      <td>10.23333</td>\n",
              "      <td>(56.183330, 10.233330)</td>\n",
              "    </tr>\n",
              "    <tr>\n",
              "      <th>2</th>\n",
              "      <td>Abee</td>\n",
              "      <td>6</td>\n",
              "      <td>Valid</td>\n",
              "      <td>EH4</td>\n",
              "      <td>107000.0</td>\n",
              "      <td>Fell</td>\n",
              "      <td>1952.0</td>\n",
              "      <td>54.21667</td>\n",
              "      <td>-113.00000</td>\n",
              "      <td>(54.216670, -113.000000)</td>\n",
              "    </tr>\n",
              "  </tbody>\n",
              "</table>\n",
              "</div>"
            ],
            "text/plain": [
              "     name  id nametype recclass      mass  fall    year    reclat    reclong   \n",
              "0  Aachen   1    Valid       L5      21.0  Fell  1880.0  50.77500    6.08333  \\\n",
              "1  Aarhus   2    Valid       H6     720.0  Fell  1951.0  56.18333   10.23333   \n",
              "2    Abee   6    Valid      EH4  107000.0  Fell  1952.0  54.21667 -113.00000   \n",
              "\n",
              "                GeoLocation  \n",
              "0     (50.775000, 6.083330)  \n",
              "1    (56.183330, 10.233330)  \n",
              "2  (54.216670, -113.000000)  "
            ]
          },
          "execution_count": 1,
          "metadata": {},
          "output_type": "execute_result"
        }
      ],
      "source": [
        "# Notebook para exploração inicial dos datasets \"Meteorite Landings\" e \"Meteorite Landings on Earth\"\n",
        "import pandas as pd\n",
        "import numpy as np\n",
        "import math\n",
        "\n",
        "\n",
        "df1 = pd.read_csv(\"datasets/meteorite_landings.csv\", on_bad_lines='warn') # Dataset 1: Meteorite Landings\n",
        "df1.head(3) # pra vcs checarem as variáveis"
      ]
    },
    {
      "cell_type": "code",
      "execution_count": 84,
      "id": "c5885ba9",
      "metadata": {
        "colab": {
          "base_uri": "https://localhost:8080/",
          "height": 143
        },
        "id": "c5885ba9",
        "outputId": "76be049f-74e3-4fce-cb26-6b931a545a21"
      },
      "outputs": [
        {
          "data": {
            "text/html": [
              "\n",
              "  <div id=\"df-ee441739-4c4d-4c49-81a4-6c40c1c03a89\">\n",
              "    <div class=\"colab-df-container\">\n",
              "      <div>\n",
              "<style scoped>\n",
              "    .dataframe tbody tr th:only-of-type {\n",
              "        vertical-align: middle;\n",
              "    }\n",
              "\n",
              "    .dataframe tbody tr th {\n",
              "        vertical-align: top;\n",
              "    }\n",
              "\n",
              "    .dataframe thead th {\n",
              "        text-align: right;\n",
              "    }\n",
              "</style>\n",
              "<table border=\"1\" class=\"dataframe\">\n",
              "  <thead>\n",
              "    <tr style=\"text-align: right;\">\n",
              "      <th></th>\n",
              "      <th>Unnamed: 0</th>\n",
              "      <th>id</th>\n",
              "      <th>meteorite_name</th>\n",
              "      <th>nametype</th>\n",
              "      <th>recclass</th>\n",
              "      <th>fall</th>\n",
              "      <th>year</th>\n",
              "      <th>mass</th>\n",
              "      <th>location</th>\n",
              "      <th>location_code</th>\n",
              "      <th>location_type</th>\n",
              "      <th>distance</th>\n",
              "      <th>latitude</th>\n",
              "      <th>longitude</th>\n",
              "      <th>lat_lng</th>\n",
              "    </tr>\n",
              "  </thead>\n",
              "  <tbody>\n",
              "    <tr>\n",
              "      <th>0</th>\n",
              "      <td>1</td>\n",
              "      <td>1</td>\n",
              "      <td>Aachen</td>\n",
              "      <td>Valid</td>\n",
              "      <td>L5</td>\n",
              "      <td>Fell</td>\n",
              "      <td>1880.0</td>\n",
              "      <td>21.0</td>\n",
              "      <td>Germany</td>\n",
              "      <td>DE</td>\n",
              "      <td>land</td>\n",
              "      <td>0.0</td>\n",
              "      <td>50.7750</td>\n",
              "      <td>6.0833</td>\n",
              "      <td>50.775,6.0833</td>\n",
              "    </tr>\n",
              "    <tr>\n",
              "      <th>1</th>\n",
              "      <td>2</td>\n",
              "      <td>2</td>\n",
              "      <td>Aarhus</td>\n",
              "      <td>Valid</td>\n",
              "      <td>H6</td>\n",
              "      <td>Fell</td>\n",
              "      <td>1951.0</td>\n",
              "      <td>720.0</td>\n",
              "      <td>Denmark</td>\n",
              "      <td>DK</td>\n",
              "      <td>land</td>\n",
              "      <td>0.0</td>\n",
              "      <td>56.1833</td>\n",
              "      <td>10.2333</td>\n",
              "      <td>56.1833,10.2333</td>\n",
              "    </tr>\n",
              "    <tr>\n",
              "      <th>2</th>\n",
              "      <td>3</td>\n",
              "      <td>6</td>\n",
              "      <td>Abee</td>\n",
              "      <td>Valid</td>\n",
              "      <td>EH4</td>\n",
              "      <td>Fell</td>\n",
              "      <td>1952.0</td>\n",
              "      <td>107000.0</td>\n",
              "      <td>Canada</td>\n",
              "      <td>CA</td>\n",
              "      <td>land</td>\n",
              "      <td>0.0</td>\n",
              "      <td>54.2167</td>\n",
              "      <td>-113.0000</td>\n",
              "      <td>54.2167,-113</td>\n",
              "    </tr>\n",
              "  </tbody>\n",
              "</table>\n",
              "</div>\n",
              "      <button class=\"colab-df-convert\" onclick=\"convertToInteractive('df-ee441739-4c4d-4c49-81a4-6c40c1c03a89')\"\n",
              "              title=\"Convert this dataframe to an interactive table.\"\n",
              "              style=\"display:none;\">\n",
              "        \n",
              "  <svg xmlns=\"http://www.w3.org/2000/svg\" height=\"24px\"viewBox=\"0 0 24 24\"\n",
              "       width=\"24px\">\n",
              "    <path d=\"M0 0h24v24H0V0z\" fill=\"none\"/>\n",
              "    <path d=\"M18.56 5.44l.94 2.06.94-2.06 2.06-.94-2.06-.94-.94-2.06-.94 2.06-2.06.94zm-11 1L8.5 8.5l.94-2.06 2.06-.94-2.06-.94L8.5 2.5l-.94 2.06-2.06.94zm10 10l.94 2.06.94-2.06 2.06-.94-2.06-.94-.94-2.06-.94 2.06-2.06.94z\"/><path d=\"M17.41 7.96l-1.37-1.37c-.4-.4-.92-.59-1.43-.59-.52 0-1.04.2-1.43.59L10.3 9.45l-7.72 7.72c-.78.78-.78 2.05 0 2.83L4 21.41c.39.39.9.59 1.41.59.51 0 1.02-.2 1.41-.59l7.78-7.78 2.81-2.81c.8-.78.8-2.07 0-2.86zM5.41 20L4 18.59l7.72-7.72 1.47 1.35L5.41 20z\"/>\n",
              "  </svg>\n",
              "      </button>\n",
              "      \n",
              "  <style>\n",
              "    .colab-df-container {\n",
              "      display:flex;\n",
              "      flex-wrap:wrap;\n",
              "      gap: 12px;\n",
              "    }\n",
              "\n",
              "    .colab-df-convert {\n",
              "      background-color: #E8F0FE;\n",
              "      border: none;\n",
              "      border-radius: 50%;\n",
              "      cursor: pointer;\n",
              "      display: none;\n",
              "      fill: #1967D2;\n",
              "      height: 32px;\n",
              "      padding: 0 0 0 0;\n",
              "      width: 32px;\n",
              "    }\n",
              "\n",
              "    .colab-df-convert:hover {\n",
              "      background-color: #E2EBFA;\n",
              "      box-shadow: 0px 1px 2px rgba(60, 64, 67, 0.3), 0px 1px 3px 1px rgba(60, 64, 67, 0.15);\n",
              "      fill: #174EA6;\n",
              "    }\n",
              "\n",
              "    [theme=dark] .colab-df-convert {\n",
              "      background-color: #3B4455;\n",
              "      fill: #D2E3FC;\n",
              "    }\n",
              "\n",
              "    [theme=dark] .colab-df-convert:hover {\n",
              "      background-color: #434B5C;\n",
              "      box-shadow: 0px 1px 3px 1px rgba(0, 0, 0, 0.15);\n",
              "      filter: drop-shadow(0px 1px 2px rgba(0, 0, 0, 0.3));\n",
              "      fill: #FFFFFF;\n",
              "    }\n",
              "  </style>\n",
              "\n",
              "      <script>\n",
              "        const buttonEl =\n",
              "          document.querySelector('#df-ee441739-4c4d-4c49-81a4-6c40c1c03a89 button.colab-df-convert');\n",
              "        buttonEl.style.display =\n",
              "          google.colab.kernel.accessAllowed ? 'block' : 'none';\n",
              "\n",
              "        async function convertToInteractive(key) {\n",
              "          const element = document.querySelector('#df-ee441739-4c4d-4c49-81a4-6c40c1c03a89');\n",
              "          const dataTable =\n",
              "            await google.colab.kernel.invokeFunction('convertToInteractive',\n",
              "                                                     [key], {});\n",
              "          if (!dataTable) return;\n",
              "\n",
              "          const docLinkHtml = 'Like what you see? Visit the ' +\n",
              "            '<a target=\"_blank\" href=https://colab.research.google.com/notebooks/data_table.ipynb>data table notebook</a>'\n",
              "            + ' to learn more about interactive tables.';\n",
              "          element.innerHTML = '';\n",
              "          dataTable['output_type'] = 'display_data';\n",
              "          await google.colab.output.renderOutput(dataTable, element);\n",
              "          const docLink = document.createElement('div');\n",
              "          docLink.innerHTML = docLinkHtml;\n",
              "          element.appendChild(docLink);\n",
              "        }\n",
              "      </script>\n",
              "    </div>\n",
              "  </div>\n",
              "  "
            ],
            "text/plain": [
              "   Unnamed: 0  id meteorite_name nametype recclass  fall    year      mass  \\\n",
              "0           1   1         Aachen    Valid       L5  Fell  1880.0      21.0   \n",
              "1           2   2         Aarhus    Valid       H6  Fell  1951.0     720.0   \n",
              "2           3   6           Abee    Valid      EH4  Fell  1952.0  107000.0   \n",
              "\n",
              "  location location_code location_type  distance  latitude  longitude  \\\n",
              "0  Germany            DE          land       0.0   50.7750     6.0833   \n",
              "1  Denmark            DK          land       0.0   56.1833    10.2333   \n",
              "2   Canada            CA          land       0.0   54.2167  -113.0000   \n",
              "\n",
              "           lat_lng  \n",
              "0    50.775,6.0833  \n",
              "1  56.1833,10.2333  \n",
              "2     54.2167,-113  "
            ]
          },
          "execution_count": 84,
          "metadata": {},
          "output_type": "execute_result"
        }
      ],
      "source": [
        "df2 = pd.read_csv(\"datasets/meteorite_landings_on_earth.csv\", on_bad_lines='warn') # Dataset 2: Meteorite Landings on Earth\n",
        "df2.head(3)"
      ]
    },
    {
      "cell_type": "markdown",
      "id": "307e054a",
      "metadata": {
        "id": "307e054a"
      },
      "source": [
        "- Aqui faremos uma verificação do ano em que o meteorito foi descoberto, pois existem algumas incoerências. \n",
        "  \n",
        "  Faremos essa verificação utilizando como base o site [The Meteoritical Society](https://www.lpi.usra.edu/meteor/metbull.php).\n",
        "  "
      ]
    },
    {
      "cell_type": "code",
      "execution_count": null,
      "id": "3b0b9e32",
      "metadata": {
        "id": "3b0b9e32",
        "outputId": "59cc1e7f-79b3-4c80-f003-3bd7819ebec7"
      },
      "outputs": [
        {
          "name": "stdout",
          "output_type": "stream",
          "text": [
            "['Nogata', 'Havana', 'Northwest Africa 7701', 'Ur', 'Wietrzno-Bobrka']\n"
          ]
        },
        {
          "data": {
            "text/plain": [
              "[703, 16356, 30679, 38188, 38301]"
            ]
          },
          "execution_count": 4,
          "metadata": {},
          "output_type": "execute_result"
        }
      ],
      "source": [
        "\n",
        "years_bug = [i for i in df1['year'] if i >= 2016 or i <= 860 ] # pega os anos incoerentes\n",
        "\n",
        "index_bug = [i for i in df1.index if df1.loc[i, 'year'] in years_bug] # pega os índices dos elementos problemáticos \n",
        "\n",
        "name_years_bug = [df1['name'].loc[i] for i in df1.index if df1.loc[i, 'year'] in years_bug] # pega o nome dos elementos para a verificação no site\n",
        "\n",
        "print(name_years_bug)\n",
        "index_bug\n"
      ]
    },
    {
      "cell_type": "markdown",
      "id": "9ead816b",
      "metadata": {
        "id": "9ead816b"
      },
      "source": [
        "- Agora vamos corrigir as informações no dataframe:"
      ]
    },
    {
      "cell_type": "code",
      "execution_count": 31,
      "id": "fd4940b3",
      "metadata": {
        "id": "fd4940b3"
      },
      "outputs": [],
      "source": [
        "df1.loc[703,'year'] = 861\n",
        "df1.loc[16356,'year'] = -300\n",
        "df1.loc[30679,'year'] = 2010\n",
        "df1.loc[38188, 'year'] = -2500 # '-' possivelmente significa antes de cristo\n",
        "df1.loc[38301,'year'] = -600\n",
        "\n",
        "# De acordo com os autores do dataset, esses anos são \"anos antes de cristo\""
      ]
    },
    {
      "cell_type": "markdown",
      "id": "74b853a2",
      "metadata": {
        "id": "74b853a2"
      },
      "source": [
        "# Dataset 1"
      ]
    },
    {
      "cell_type": "markdown",
      "id": "eZRPL8x2GoIs",
      "metadata": {
        "id": "eZRPL8x2GoIs"
      },
      "source": [
        "## Variável 'mass'"
      ]
    },
    {
      "cell_type": "markdown",
      "id": "8cf95683",
      "metadata": {
        "id": "8cf95683"
      },
      "source": [
        "### Calculando as medidas de centralidade da variável 'mass'"
      ]
    },
    {
      "cell_type": "markdown",
      "id": "70b5b13f",
      "metadata": {
        "id": "70b5b13f"
      },
      "source": [
        "- Média"
      ]
    },
    {
      "cell_type": "code",
      "execution_count": 13,
      "id": "3ee2a34b",
      "metadata": {
        "colab": {
          "base_uri": "https://localhost:8080/"
        },
        "id": "3ee2a34b",
        "outputId": "9089e7e2-a5a3-4382-dc30-62084a9e624b"
      },
      "outputs": [
        {
          "data": {
            "text/plain": [
              "13278.078548601516"
            ]
          },
          "execution_count": 13,
          "metadata": {},
          "output_type": "execute_result"
        }
      ],
      "source": [
        "#remove os valores nan antes de calcular a média na coluna 'mass'\n",
        "media_massa = np.nanmean(df1['mass'])\n",
        "media_massa"
      ]
    },
    {
      "cell_type": "markdown",
      "id": "b204de4b",
      "metadata": {
        "id": "b204de4b"
      },
      "source": [
        "- Mediana"
      ]
    },
    {
      "cell_type": "code",
      "execution_count": 106,
      "id": "3214661d",
      "metadata": {
        "colab": {
          "base_uri": "https://localhost:8080/"
        },
        "id": "3214661d",
        "outputId": "2dec6f4e-15ea-49cc-ee39-07aff15cd259"
      },
      "outputs": [
        {
          "data": {
            "text/plain": [
              "29.09"
            ]
          },
          "execution_count": 106,
          "metadata": {},
          "output_type": "execute_result"
        }
      ],
      "source": [
        "mediana_massa = np.median(df1.sort_values(by='mass').dropna()['mass'])\n",
        "mediana_massa"
      ]
    },
    {
      "cell_type": "markdown",
      "id": "3eb78cee",
      "metadata": {
        "id": "3eb78cee"
      },
      "source": [
        "### Agora calculando as medidas de dispersão da variável 'mass'"
      ]
    },
    {
      "cell_type": "markdown",
      "id": "d35b8075",
      "metadata": {
        "id": "d35b8075"
      },
      "source": [
        "- Variância"
      ]
    },
    {
      "cell_type": "code",
      "execution_count": 110,
      "id": "92c66552",
      "metadata": {
        "colab": {
          "base_uri": "https://localhost:8080/"
        },
        "id": "92c66552",
        "outputId": "275a263a-2103-4f30-8f25-e900ffc3e19f"
      },
      "outputs": [
        {
          "data": {
            "text/plain": [
              "330604955342.3177"
            ]
          },
          "execution_count": 110,
          "metadata": {},
          "output_type": "execute_result"
        }
      ],
      "source": [
        "var_massa = np.var(df1['mass'])\n",
        "\n",
        "var_massa"
      ]
    },
    {
      "cell_type": "markdown",
      "id": "82756e7a",
      "metadata": {
        "id": "82756e7a"
      },
      "source": [
        "- Desvio Padrão"
      ]
    },
    {
      "cell_type": "code",
      "execution_count": 111,
      "id": "04da09e8",
      "metadata": {
        "colab": {
          "base_uri": "https://localhost:8080/"
        },
        "id": "04da09e8",
        "outputId": "51d27ae7-703f-4858-9971-e0476ef35d13"
      },
      "outputs": [
        {
          "data": {
            "text/plain": [
              "574982.5695986946"
            ]
          },
          "execution_count": 111,
          "metadata": {},
          "output_type": "execute_result"
        }
      ],
      "source": [
        "desvio_massa = math.sqrt(var_massa)\n",
        "desvio_massa"
      ]
    },
    {
      "attachments": {},
      "cell_type": "markdown",
      "id": "9b90c029",
      "metadata": {},
      "source": [
        "- Moda"
      ]
    },
    {
      "cell_type": "code",
      "execution_count": 44,
      "id": "07cad8ea",
      "metadata": {},
      "outputs": [
        {
          "data": {
            "text/plain": [
              "0    1.3\n",
              "Name: mass, dtype: float64"
            ]
          },
          "execution_count": 44,
          "metadata": {},
          "output_type": "execute_result"
        }
      ],
      "source": [
        "moda_massa = df1['mass'].mode()\n",
        "moda_massa"
      ]
    },
    {
      "cell_type": "markdown",
      "id": "84c6a103",
      "metadata": {
        "id": "84c6a103"
      },
      "source": [
        "- Boxplot"
      ]
    },
    {
      "cell_type": "code",
      "execution_count": 89,
      "id": "d23c7016",
      "metadata": {
        "colab": {
          "base_uri": "https://localhost:8080/",
          "height": 462
        },
        "id": "d23c7016",
        "outputId": "8898b599-6e55-48b0-bbf8-4db9abfb0d5c"
      },
      "outputs": [
        {
          "data": {
            "text/plain": [
              "(1.0, 60000000.0)"
            ]
          },
          "execution_count": 89,
          "metadata": {},
          "output_type": "execute_result"
        },
        {
          "data": {
            "image/png": "[encoded data removed]",
            "text/plain": [
              "<Figure size 640x480 with 1 Axes>"
            ]
          },
          "metadata": {},
          "output_type": "display_data"
        }
      ],
      "source": [
        "import matplotlib.pyplot as plt\n",
        "import seaborn as sns\n",
        "# %matplotlib inline   #ainda não resolvido\n",
        "\n",
        "sns.boxplot(df1['mass'])\n",
        "plt.ylim([1, 60000000])\n",
        "\n",
        "\n",
        "\n",
        "\n"
      ]
    },
    {
      "cell_type": "markdown",
      "id": "49268d4d",
      "metadata": {
        "id": "49268d4d"
      },
      "source": [
        "## Variável 'year'"
      ]
    },
    {
      "cell_type": "markdown",
      "id": "68aa9dc3",
      "metadata": {
        "id": "68aa9dc3"
      },
      "source": [
        "### Calculando as medidas de centralidade da variável 'year'"
      ]
    },
    {
      "cell_type": "markdown",
      "id": "3NbAticnEft7",
      "metadata": {
        "id": "3NbAticnEft7"
      },
      "source": [
        "- Média"
      ]
    },
    {
      "cell_type": "code",
      "execution_count": 95,
      "id": "a9f3d8ef",
      "metadata": {
        "colab": {
          "base_uri": "https://localhost:8080/"
        },
        "id": "a9f3d8ef",
        "outputId": "45f66c29-cc2e-4c4a-d056-1542ce8cf492"
      },
      "outputs": [
        {
          "data": {
            "text/plain": [
              "1991"
            ]
          },
          "execution_count": 95,
          "metadata": {},
          "output_type": "execute_result"
        }
      ],
      "source": [
        "media_anos = int(np.nanmean(df1['year']))\n",
        "media_anos\n"
      ]
    },
    {
      "cell_type": "markdown",
      "id": "UQ-oFcFuHgUD",
      "metadata": {
        "id": "UQ-oFcFuHgUD"
      },
      "source": [
        "- Mediana"
      ]
    },
    {
      "cell_type": "code",
      "execution_count": 39,
      "id": "z98TOontHh9f",
      "metadata": {
        "colab": {
          "base_uri": "https://localhost:8080/"
        },
        "id": "z98TOontHh9f",
        "outputId": "c7c724ae-e9fc-4639-cc8f-6f8464bb1312"
      },
      "outputs": [
        {
          "data": {
            "text/plain": [
              "1996.0"
            ]
          },
          "execution_count": 39,
          "metadata": {},
          "output_type": "execute_result"
        }
      ],
      "source": [
        "(df1.sort_values(by='year', ascending=False).dropna()['year']).median()\n",
        "\n"
      ]
    },
    {
      "cell_type": "markdown",
      "id": "85mYnMyrJ1Vt",
      "metadata": {
        "id": "85mYnMyrJ1Vt"
      },
      "source": [
        "- Moda"
      ]
    },
    {
      "cell_type": "code",
      "execution_count": 108,
      "id": "RnhjwK9qJ2mi",
      "metadata": {
        "colab": {
          "base_uri": "https://localhost:8080/"
        },
        "id": "RnhjwK9qJ2mi",
        "outputId": "1624ef77-0b9a-45ba-9e6f-3229906dab6a"
      },
      "outputs": [
        {
          "data": {
            "text/plain": [
              "0    2003.0\n",
              "Name: year, dtype: float64"
            ]
          },
          "execution_count": 108,
          "metadata": {},
          "output_type": "execute_result"
        }
      ],
      "source": [
        "moda_anos = int(df1['year'].mode(dropna='True'))\n",
        "moda_anos"
      ]
    },
    {
      "cell_type": "markdown",
      "id": "Uxn-tep3LxVn",
      "metadata": {
        "id": "Uxn-tep3LxVn"
      },
      "source": [
        "### Calculando as medidas de dispersão da variável 'year'"
      ]
    },
    {
      "cell_type": "markdown",
      "id": "EMpchw1_L8Ik",
      "metadata": {
        "id": "EMpchw1_L8Ik"
      },
      "source": [
        "- Variância"
      ]
    },
    {
      "cell_type": "code",
      "execution_count": 64,
      "id": "TVEDwld6L-Ty",
      "metadata": {
        "colab": {
          "base_uri": "https://localhost:8080/"
        },
        "id": "TVEDwld6L-Ty",
        "outputId": "9286a433-0a9f-4bff-8d47-ca62707d71b5"
      },
      "outputs": [
        {
          "data": {
            "text/plain": [
              "1334.87558056314"
            ]
          },
          "execution_count": 64,
          "metadata": {},
          "output_type": "execute_result"
        }
      ],
      "source": [
        "var_anos = np.var(df1['year'])\n",
        "var_anos "
      ]
    },
    {
      "cell_type": "markdown",
      "id": "Rrvtd8AsMTCi",
      "metadata": {
        "id": "Rrvtd8AsMTCi"
      },
      "source": [
        "- Desvio Padrão"
      ]
    },
    {
      "cell_type": "code",
      "execution_count": 65,
      "id": "XWLp_o5sMVaH",
      "metadata": {
        "colab": {
          "base_uri": "https://localhost:8080/"
        },
        "id": "XWLp_o5sMVaH",
        "outputId": "1655ee8f-2d88-485b-fc23-3dfb56c71033"
      },
      "outputs": [
        {
          "data": {
            "text/plain": [
              "36.535949153718995"
            ]
          },
          "execution_count": 65,
          "metadata": {},
          "output_type": "execute_result"
        }
      ],
      "source": [
        "desvio_anos = math.sqrt(var_anos)\n",
        "desvio_anos "
      ]
    },
    {
      "attachments": {},
      "cell_type": "markdown",
      "id": "086f39a4",
      "metadata": {},
      "source": [
        "Medidas de centralidade do Df1"
      ]
    },
    {
      "attachments": {},
      "cell_type": "markdown",
      "id": "a3e7f420",
      "metadata": {},
      "source": [
        "- Medianas"
      ]
    },
    {
      "cell_type": "code",
      "execution_count": 43,
      "id": "db6de76f",
      "metadata": {},
      "outputs": [
        {
          "name": "stdout",
          "output_type": "stream",
          "text": [
            "1996.0\n",
            "29.09\n"
          ]
        }
      ],
      "source": [
        "print((df1.sort_values(by='year', ascending=False).dropna()['year']).median()) # mediana de 'year'\n",
        "\n",
        "print((df1.sort_values(by='mass', ascending=False).dropna()['mass']).median()) # mediana de 'mass'"
      ]
    },
    {
      "attachments": {},
      "cell_type": "markdown",
      "id": "fc5a5b1a",
      "metadata": {},
      "source": [
        "- Médias"
      ]
    },
    {
      "cell_type": "code",
      "execution_count": 5,
      "id": "8d3d078d",
      "metadata": {},
      "outputs": [
        {
          "data": {
            "text/plain": [
              "id         26889.735104\n",
              "mass       13278.078549\n",
              "year        1991.772189\n",
              "reclat       -39.122580\n",
              "reclong       61.074319\n",
              "dtype: float64"
            ]
          },
          "execution_count": 5,
          "metadata": {},
          "output_type": "execute_result"
        }
      ],
      "source": [
        "df1.mean(numeric_only='True')"
      ]
    },
    {
      "attachments": {},
      "cell_type": "markdown",
      "id": "395291e0",
      "metadata": {},
      "source": [
        "- Modas"
      ]
    },
    {
      "cell_type": "code",
      "execution_count": 13,
      "id": "96f80034",
      "metadata": {},
      "outputs": [
        {
          "data": {
            "text/html": [
              "<div>\n",
              "<style scoped>\n",
              "    .dataframe tbody tr th:only-of-type {\n",
              "        vertical-align: middle;\n",
              "    }\n",
              "\n",
              "    .dataframe tbody tr th {\n",
              "        vertical-align: top;\n",
              "    }\n",
              "\n",
              "    .dataframe thead th {\n",
              "        text-align: right;\n",
              "    }\n",
              "</style>\n",
              "<table border=\"1\" class=\"dataframe\">\n",
              "  <thead>\n",
              "    <tr style=\"text-align: right;\">\n",
              "      <th></th>\n",
              "      <th>mass</th>\n",
              "      <th>year</th>\n",
              "    </tr>\n",
              "  </thead>\n",
              "  <tbody>\n",
              "    <tr>\n",
              "      <th>0</th>\n",
              "      <td>1.3</td>\n",
              "      <td>2003.0</td>\n",
              "    </tr>\n",
              "  </tbody>\n",
              "</table>\n",
              "</div>"
            ],
            "text/plain": [
              "   mass    year\n",
              "0   1.3  2003.0"
            ]
          },
          "execution_count": 13,
          "metadata": {},
          "output_type": "execute_result"
        }
      ],
      "source": [
        "df1.mode(numeric_only='True', dropna='True')[['mass', 'year']].head(1)"
      ]
    },
    {
      "attachments": {},
      "cell_type": "markdown",
      "id": "18da652a",
      "metadata": {},
      "source": [
        "Medidas de Dispersão do Df1"
      ]
    },
    {
      "attachments": {},
      "cell_type": "markdown",
      "id": "84f66791",
      "metadata": {},
      "source": [
        "- Desvio-padrão"
      ]
    },
    {
      "cell_type": "code",
      "execution_count": 66,
      "id": "734331b5",
      "metadata": {},
      "outputs": [
        {
          "data": {
            "text/plain": [
              "id          16860.683030\n",
              "mass       574988.876410\n",
              "year           36.536351\n",
              "reclat         46.378511\n",
              "reclong        80.647298\n",
              "dtype: float64"
            ]
          },
          "execution_count": 66,
          "metadata": {},
          "output_type": "execute_result"
        }
      ],
      "source": [
        "df1.std(numeric_only=True).dropna()"
      ]
    },
    {
      "cell_type": "markdown",
      "id": "090f512b",
      "metadata": {},
      "source": [
        "- Variâncias"
      ]
    },
    {
      "cell_type": "code",
      "execution_count": 60,
      "id": "5eba8373",
      "metadata": {},
      "outputs": [
        {
          "data": {
            "text/plain": [
              "id         2.842826e+08\n",
              "mass       3.306122e+11\n",
              "year       1.334905e+03\n",
              "reclat     2.150966e+03\n",
              "reclong    6.503987e+03\n",
              "dtype: float64"
            ]
          },
          "execution_count": 60,
          "metadata": {},
          "output_type": "execute_result"
        }
      ],
      "source": [
        "df1.var(numeric_only=True).dropna()"
      ]
    }
  ],
  "metadata": {
    "colab": {
      "provenance": []
    },
    "kernelspec": {
      "display_name": "Python 3 (ipykernel)",
      "language": "python",
      "name": "python3"
    },
    "language_info": {
      "codemirror_mode": {
        "name": "ipython",
        "version": 3
      },
      "file_extension": ".py",
      "mimetype": "text/x-python",
      "name": "python",
      "nbconvert_exporter": "python",
      "pygments_lexer": "ipython3",
      "version": "3.10.6"
    }
  },
  "nbformat": 4,
  "nbformat_minor": 5
}
