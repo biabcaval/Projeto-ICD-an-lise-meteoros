{
  "cells": [
    {
      "attachments": {},
      "cell_type": "markdown",
      "id": "ad539840",
      "metadata": {
        "id": "ad539840"
      },
      "source": [
        "# Pouso de meteoritos no planeta terra\n",
        "\n",
        "- Iara Araujo\n",
        "- Beatriz Barreto \n",
        "- Paloma Duarte"
      ]
    },
    {
      "attachments": {},
      "cell_type": "markdown",
      "id": "dfb16a9c",
      "metadata": {
        "id": "dfb16a9c"
      },
      "source": [
        "## Introdução"
      ]
    },
    {
      "attachments": {},
      "cell_type": "markdown",
      "id": "6b86c225",
      "metadata": {
        "id": "6b86c225"
      },
      "source": [
        "### Motivação e objetivo"
      ]
    },
    {
      "attachments": {},
      "cell_type": "markdown",
      "id": "c1fa8bc0",
      "metadata": {
        "id": "c1fa8bc0"
      },
      "source": [
        "## Dados utilizados"
      ]
    },
    {
      "attachments": {},
      "cell_type": "markdown",
      "id": "c2db3d7e",
      "metadata": {
        "id": "c2db3d7e"
      },
      "source": [
        "### Dataset meteorite_landings\n",
        "- Dados coletados pela [meteorical society](https://meteoritical.org/), incluindo localizações, massas,composições e ano de queda \n",
        "para mais de 45.000 meteoritos que caíram no planeta terra.\n",
        "- Variáveis desse dataset:\n",
        "    - **name**: nome do meteorito(geralmente relacionado com a localização onde atingiu a terra).\n",
        "    - **id** : identificador único para o meteorito no dataset.\n",
        "    - **nametype**: classificação do meteorito em **relict** ou **valid**\n",
        "    - **mass** : a massa do meteorito dada em gramas.\n",
        "    - **fell**: classificação do meteorito em:\n",
        "        - _Fall_: se foi identificado durante sua queda.\n",
        "        - _Fell_: se foi identificado após sua queda.\n",
        "    - **year**: ano em que o meteorito foi identificado.\n",
        "    - **reclat**: latitude da posição em que o meteoro foi encontrado.\n",
        "    - **reclong**: longitude da posição em que o meteoro foi encontrado.\n",
        "    - **GeoLocation**: junção da latitude e da longitude em uma variável, separadas por vírgula.    \n",
        "- Observações adicionais\n",
        "    - as variáveis 'reclat' e 'reclong' são \"valores recomendados\", isto é levemente alterados do valor inicialmente dado, isso se deve a uma reclassificação do meteorito ou alteração dos dados originais de sua coleta.\n",
        "    - alguns dados estão incorretos ou com difícil visualização, por isso faremos a limpeza na fase de pré processamento.\n",
        "\n",
        "\n",
        "---\n",
        "### Dataset meteorite_landings_on_earth\n",
        "- Dados coletados e disponibilizados pela [NASA](https://data.nasa.gov/), incluindo registros de 45.000 meteoritos com dados de detalhamento extras, como nome do país/oceano encontrado.\n",
        "- Variáveis do dataset:\n",
        "    - **id** : identificador único para o meteorito dentro do dataset.\n",
        "    - **meteorite_name**: nome do meteorito.\n",
        "    - **nametype**: classificação do meteorito em **relict** ou **valid**\n",
        "    - **recclass**: é o processo de passagem de uma classe, classificação ou categoria para outra.\n",
        "    - **fall**: classificação do meteorito em:\n",
        "        - _Fall_: se foi identificado durante sua queda.\n",
        "        - _Fell_: se foi identificado após sua queda.\n",
        "    - **year**: ano em que o meteorito foi identificado.\n",
        "    - **mass** : a massa do meteorito dada em gramas.\n",
        "    - **location**: nome do país ou oceano em que o meteorito foi encontrado.\n",
        "    - **location_code**: código de identificação do país ou oceano em que o meteorito foi encontrado.\n",
        "    - **location_type**: tipo de localização do local em que o meteoro foi encontrado, classificado em:\n",
        "        - _Land_: se foi identificado na terra.\n",
        "        - _Ocean_: se foi identificado no oceano.\n",
        "        - _Unknown_: se foi identificado em um local que pode ter mudado de classificação de terra para oceano, ou visse-versa, desde sua queda.\n",
        "    - **distance**: deslocamento do meteorito desde sua queda.\n",
        "    - **latitude**: latitude da posição em que o meteorito foi encontrado.\n",
        "    - **longitude**: longitude da posição em que o meteorito foi encontrado.\n",
        "    - **lat_lng**: junção da latitude e da longitude em uma variável, separadas por vírgula."
      ]
    },
    {
      "cell_type": "code",
      "execution_count": 2,
      "id": "dbe69e26",
      "metadata": {
        "id": "dbe69e26"
      },
      "outputs": [],
      "source": [
        "import pandas as pd\n",
        "import numpy as np\n",
        "import math\n",
        "from math import log\n",
        "import statistics\n",
        "import seaborn as sns\n",
        "from scipy.stats import linregress\n",
        "from sklearn.cluster import KMeans\n",
        "import matplotlib.pyplot as plt"
      ]
    },
    {
      "cell_type": "code",
      "execution_count": 3,
      "id": "30a1a5f4",
      "metadata": {
        "id": "30a1a5f4"
      },
      "outputs": [],
      "source": [
        "df1 = pd.read_csv('datasets/meteorite_landings.csv', on_bad_lines='warn')\n",
        "df2 = pd.read_csv('datasets/meteorite_landings_on_earth.csv', on_bad_lines='warn')   #lendo os datasets\n",
        "df3 = pd.read_csv('datasets/cneos_fireball_data.csv', on_bad_lines='warn')"
      ]
    },
    {
      "attachments": {},
      "cell_type": "markdown",
      "id": "2054ba1e",
      "metadata": {},
      "source": [
        "## Pré-processamento dos dados"
      ]
    },
    {
      "attachments": {},
      "cell_type": "markdown",
      "id": "4685a056",
      "metadata": {},
      "source": [
        "### Dataset meteorite_landings"
      ]
    },
    {
      "attachments": {},
      "cell_type": "markdown",
      "id": "220b4d64",
      "metadata": {},
      "source": [
        "#### Corrigindo dados na variável 'year'\n",
        "\n",
        "- Aqui faremos uma verificação do ano em que o meteorito foi descoberto, pois existem algumas incoerências. \n",
        "  \n",
        "  Faremos essa verificação utilizando como base o site [The Meteoritical Society](https://www.lpi.usra.edu/meteor/metbull.php).\n",
        "  "
      ]
    },
    {
      "cell_type": "code",
      "execution_count": 4,
      "id": "32614fb3",
      "metadata": {},
      "outputs": [
        {
          "name": "stdout",
          "output_type": "stream",
          "text": [
            "['Nogata', 'Havana', 'Northwest Africa 7701', 'Ur', 'Wietrzno-Bobrka']\n"
          ]
        },
        {
          "data": {
            "text/plain": [
              "[703, 16356, 30679, 38188, 38301]"
            ]
          },
          "execution_count": 4,
          "metadata": {},
          "output_type": "execute_result"
        }
      ],
      "source": [
        "\n",
        "years_bug = [i for i in df1['year'] if i >= 2016 or i <= 860 ] # pega os anos incoerentes\n",
        "\n",
        "index_bug = [i for i in df1.index if df1.loc[i, 'year'] in years_bug] # pega os índices dos elementos problemáticos \n",
        "\n",
        "name_years_bug = [df1['name'].loc[i] for i in df1.index if df1.loc[i, 'year'] in years_bug] # pega o nome dos elementos para a verificação no site\n",
        "\n",
        "print(name_years_bug)\n",
        "index_bug\n"
      ]
    },
    {
      "attachments": {},
      "cell_type": "markdown",
      "id": "f809c7e3",
      "metadata": {},
      "source": [
        "- Agora vamos corrigir as informações no dataframe:"
      ]
    },
    {
      "cell_type": "code",
      "execution_count": 11,
      "id": "19331db1",
      "metadata": {},
      "outputs": [],
      "source": [
        "years_bug = [i for i in df1['year'] if i >= 2016 or i <= 860 ] # pega os anos incoerentes\n",
        "\n",
        "index_bug = [i for i in df1.index if df1.loc[i, 'year'] in years_bug] # pega os índices dos elementos problemáticos \n",
        "\n",
        "\n",
        "\n",
        "df1 = df1.drop(index_bug) #removendo os rows em que os anos são problemáticos\n"
      ]
    },
    {
      "attachments": {},
      "cell_type": "markdown",
      "id": "c8142086",
      "metadata": {},
      "source": [
        "#### Corrigindo dados das variáveis 'reclat' e 'reclong'"
      ]
    },
    {
      "cell_type": "code",
      "execution_count": 7,
      "id": "7d1b69bc",
      "metadata": {},
      "outputs": [],
      "source": [
        "df1['reclong'] = df1['reclong'].map(lambda x : 61.074319 if (x > 180 or x < - 180) else x) #correção de incoerências das colunas 'reclat' e 'reclong'\n",
        "df1['reclat'] = df1['reclat'].map(lambda x : -39.122580 if (x == 0) else x)"
      ]
    },
    {
      "attachments": {},
      "cell_type": "markdown",
      "id": "0c4e7b4c",
      "metadata": {},
      "source": [
        "#### Criando escala logarítmica para variáveis 'mass' e 'year'"
      ]
    },
    {
      "cell_type": "code",
      "execution_count": 22,
      "id": "bd91834c",
      "metadata": {},
      "outputs": [
        {
          "name": "stderr",
          "output_type": "stream",
          "text": [
            "c:\\ProgramData\\Anaconda3\\lib\\site-packages\\pandas\\core\\arraylike.py:364: RuntimeWarning: divide by zero encountered in log10\n",
            "  result = getattr(ufunc, method)(*inputs, **kwargs)\n"
          ]
        }
      ],
      "source": [
        "df1['log mass'] = np.log10(df1['mass']) #criando a escala em log para diminuir a distorção\n",
        "                                        #ele deu esse erro, mas produziu mesmo assim"
      ]
    },
    {
      "cell_type": "code",
      "execution_count": 17,
      "id": "ec8d1107",
      "metadata": {},
      "outputs": [],
      "source": [
        "year_copy = (df1[df1['year'] > 0]).copy()\n",
        "\n",
        "df1['log year'] = np.log10(year_copy['year'])\n",
        "\n",
        "#sns.boxplot(data=df1, x='log year') #utilizando a escala em log para a variável 'year'.\n"
      ]
    },
    {
      "attachments": {},
      "cell_type": "markdown",
      "id": "c0fbfc0d",
      "metadata": {},
      "source": [
        "## Exploração inicial "
      ]
    },
    {
      "attachments": {},
      "cell_type": "markdown",
      "id": "0bb148f4",
      "metadata": {},
      "source": [
        "### Dataset meteorite_landings"
      ]
    },
    {
      "attachments": {},
      "cell_type": "markdown",
      "id": "2c72a0ce",
      "metadata": {},
      "source": [
        "#### Medidas de centralidade"
      ]
    },
    {
      "attachments": {},
      "cell_type": "markdown",
      "id": "a7fe67d7",
      "metadata": {},
      "source": [
        "- Medianas"
      ]
    },
    {
      "cell_type": "code",
      "execution_count": 8,
      "id": "52ae49df",
      "metadata": {},
      "outputs": [
        {
          "name": "stdout",
          "output_type": "stream",
          "text": [
            "1996.0\n",
            "29.08\n",
            "-71.5\n",
            "35.66667\n"
          ]
        }
      ],
      "source": [
        "print((df1.sort_values(by='year', ascending=False).dropna()['year']).median()) # mediana de 'year'\n",
        "\n",
        "print((df1.sort_values(by='mass', ascending=False).dropna()['mass']).median()) # mediana de 'mass'\n",
        "\n",
        "print((df1.sort_values(by='reclat', ascending=False).dropna()['reclat']).median()) # mediana de 'reclat'\n",
        "\n",
        "print((df1.sort_values(by='reclong', ascending=False).dropna()['reclong']).median()) # mediana de 'reclong'\n"
      ]
    },
    {
      "attachments": {},
      "cell_type": "markdown",
      "id": "777ca8df",
      "metadata": {},
      "source": [
        "- Médias\n"
      ]
    },
    {
      "cell_type": "code",
      "execution_count": 9,
      "id": "c923f394",
      "metadata": {},
      "outputs": [
        {
          "data": {
            "text/plain": [
              "id         26889.736628\n",
              "mass       13278.932641\n",
              "year        1991.851331\n",
              "reclat       -45.690505\n",
              "reclong       61.071807\n",
              "dtype: float64"
            ]
          },
          "execution_count": 9,
          "metadata": {},
          "output_type": "execute_result"
        }
      ],
      "source": [
        "df1.mean(numeric_only='True')"
      ]
    },
    {
      "attachments": {},
      "cell_type": "markdown",
      "id": "225e07fc",
      "metadata": {},
      "source": [
        "- Modas"
      ]
    },
    {
      "cell_type": "code",
      "execution_count": 10,
      "id": "c7d4d0c9",
      "metadata": {},
      "outputs": [
        {
          "data": {
            "text/html": [
              "<div>\n",
              "<style scoped>\n",
              "    .dataframe tbody tr th:only-of-type {\n",
              "        vertical-align: middle;\n",
              "    }\n",
              "\n",
              "    .dataframe tbody tr th {\n",
              "        vertical-align: top;\n",
              "    }\n",
              "\n",
              "    .dataframe thead th {\n",
              "        text-align: right;\n",
              "    }\n",
              "</style>\n",
              "<table border=\"1\" class=\"dataframe\">\n",
              "  <thead>\n",
              "    <tr style=\"text-align: right;\">\n",
              "      <th></th>\n",
              "      <th>mass</th>\n",
              "      <th>year</th>\n",
              "      <th>fall</th>\n",
              "      <th>recclass</th>\n",
              "    </tr>\n",
              "  </thead>\n",
              "  <tbody>\n",
              "    <tr>\n",
              "      <th>0</th>\n",
              "      <td>1.3</td>\n",
              "      <td>2003.0</td>\n",
              "      <td>Found</td>\n",
              "      <td>L6</td>\n",
              "    </tr>\n",
              "  </tbody>\n",
              "</table>\n",
              "</div>"
            ],
            "text/plain": [
              "   mass    year   fall recclass\n",
              "0   1.3  2003.0  Found       L6"
            ]
          },
          "execution_count": 10,
          "metadata": {},
          "output_type": "execute_result"
        }
      ],
      "source": [
        "df1.mode(dropna='True')[['mass', 'year', 'fall', 'recclass']].head(1)"
      ]
    },
    {
      "attachments": {},
      "cell_type": "markdown",
      "id": "6a472938",
      "metadata": {},
      "source": [
        "#### Medidas de dispersão"
      ]
    },
    {
      "attachments": {},
      "cell_type": "markdown",
      "id": "b9a94fa2",
      "metadata": {},
      "source": [
        "- Desvio padrão"
      ]
    },
    {
      "cell_type": "code",
      "execution_count": 9,
      "id": "eb60fad1",
      "metadata": {},
      "outputs": [
        {
          "data": {
            "text/plain": [
              "id          16860.791462\n",
              "mass       575007.788451\n",
              "year           24.478620\n",
              "reclat         43.021263\n",
              "reclong        80.633287\n",
              "dtype: float64"
            ]
          },
          "execution_count": 9,
          "metadata": {},
          "output_type": "execute_result"
        }
      ],
      "source": [
        "df1.std(numeric_only=True).dropna() "
      ]
    },
    {
      "attachments": {},
      "cell_type": "markdown",
      "id": "55651d56",
      "metadata": {},
      "source": [
        "- Variâncias"
      ]
    },
    {
      "cell_type": "code",
      "execution_count": 14,
      "id": "000c0aaa",
      "metadata": {},
      "outputs": [
        {
          "data": {
            "text/plain": [
              "id         2.842863e+08\n",
              "mass       3.306340e+11\n",
              "year       5.992028e+02\n",
              "reclat     1.850829e+03\n",
              "reclong    6.501727e+03\n",
              "dtype: float64"
            ]
          },
          "execution_count": 14,
          "metadata": {},
          "output_type": "execute_result"
        }
      ],
      "source": [
        "df1.var(numeric_only=True).dropna()"
      ]
    },
    {
      "attachments": {},
      "cell_type": "markdown",
      "id": "550c82d2",
      "metadata": {},
      "source": [
        "- Alguns boxplots e visualizações"
      ]
    },
    {
      "cell_type": "code",
      "execution_count": 25,
      "id": "65201f6a",
      "metadata": {},
      "outputs": [
        {
          "data": {
            "text/plain": [
              "<AxesSubplot:xlabel='log mass'>"
            ]
          },
          "execution_count": 25,
          "metadata": {},
          "output_type": "execute_result"
        },
        {
          "data": {
            "image/png": "[encoded data removed]",
            "text/plain": [
              "<Figure size 432x288 with 1 Axes>"
            ]
          },
          "metadata": {
            "needs_background": "light"
          },
          "output_type": "display_data"
        }
      ],
      "source": [
        "sns.boxplot(data=df1, x=\"log mass\") # boxplot da variável 'mass' em escala logarítmica"
      ]
    },
    {
      "cell_type": "code",
      "execution_count": 27,
      "id": "f5c1539b",
      "metadata": {},
      "outputs": [
        {
          "data": {
            "text/plain": [
              "<seaborn.axisgrid.FacetGrid at 0x257da2a7c10>"
            ]
          },
          "execution_count": 27,
          "metadata": {},
          "output_type": "execute_result"
        },
        {
          "data": {
            "image/png": "[encoded data removed]",
            "text/plain": [
              "<Figure size 360x360 with 1 Axes>"
            ]
          },
          "metadata": {
            "needs_background": "light"
          },
          "output_type": "display_data"
        }
      ],
      "source": [
        "sns.displot(data=df1,x='log mass', bins=27) # Histograma da variável 'mass' em escala logarítmica"
      ]
    },
    {
      "cell_type": "code",
      "execution_count": 18,
      "id": "0cc4f418",
      "metadata": {},
      "outputs": [
        {
          "data": {
            "text/plain": [
              "<AxesSubplot:ylabel='Frequency'>"
            ]
          },
          "execution_count": 18,
          "metadata": {},
          "output_type": "execute_result"
        },
        {
          "data": {
            "image/png": "[encoded data removed]",
            "text/plain": [
              "<Figure size 432x288 with 1 Axes>"
            ]
          },
          "metadata": {
            "needs_background": "light"
          },
          "output_type": "display_data"
        }
      ],
      "source": [
        "df1['year'].plot.hist() # Histograma da variável year"
      ]
    },
    {
      "cell_type": "code",
      "execution_count": 20,
      "id": "f4d94b67",
      "metadata": {},
      "outputs": [
        {
          "data": {
            "text/plain": [
              "<AxesSubplot:xlabel='log year'>"
            ]
          },
          "execution_count": 20,
          "metadata": {},
          "output_type": "execute_result"
        },
        {
          "data": {
            "image/png": "[encoded data removed]",
            "text/plain": [
              "<Figure size 432x288 with 1 Axes>"
            ]
          },
          "metadata": {
            "needs_background": "light"
          },
          "output_type": "display_data"
        }
      ],
      "source": [
        "year_copy = (df1[df1['year'] > 0]).copy()\n",
        "\n",
        "df1['log year'] = np.log10(year_copy['year'])\n",
        "\n",
        "sns.boxplot(data=df1, x='log year') #utilizando a escala em logarítmica\n",
        "\n",
        "# Boxplot variável year em escala logarítmica"
      ]
    },
    {
      "cell_type": "code",
      "execution_count": 30,
      "id": "878e775f",
      "metadata": {},
      "outputs": [
        {
          "data": {
            "image/png": "[encoded data removed]",
            "text/plain": [
              "<Figure size 432x288 with 1 Axes>"
            ]
          },
          "metadata": {
            "needs_background": "light"
          },
          "output_type": "display_data"
        }
      ],
      "source": [
        "ax = sns.scatterplot(data=df1, x='reclat',y='reclong', hue='fall') # Gráfico exibindo as localizações onde meteoritos caíram e se foram ou não vistos caindo.\n",
        "sns.move_legend(ax, \"upper left\", bbox_to_anchor=(1,1))"
      ]
    },
    {
      "attachments": {},
      "cell_type": "markdown",
      "id": "8a834952",
      "metadata": {},
      "source": [
        "## Perguntas"
      ]
    },
    {
      "attachments": {},
      "cell_type": "markdown",
      "id": "dc8b9ec1",
      "metadata": {},
      "source": [
        "### Quais os maiores meteoros a atingirem a Terra?"
      ]
    },
    {
      "cell_type": "code",
      "execution_count": 12,
      "id": "2cc39b8e",
      "metadata": {},
      "outputs": [
        {
          "data": {
            "text/html": [
              "<div>\n",
              "<style scoped>\n",
              "    .dataframe tbody tr th:only-of-type {\n",
              "        vertical-align: middle;\n",
              "    }\n",
              "\n",
              "    .dataframe tbody tr th {\n",
              "        vertical-align: top;\n",
              "    }\n",
              "\n",
              "    .dataframe thead th {\n",
              "        text-align: right;\n",
              "    }\n",
              "</style>\n",
              "<table border=\"1\" class=\"dataframe\">\n",
              "  <thead>\n",
              "    <tr style=\"text-align: right;\">\n",
              "      <th></th>\n",
              "      <th>name</th>\n",
              "      <th>mass</th>\n",
              "    </tr>\n",
              "  </thead>\n",
              "  <tbody>\n",
              "    <tr>\n",
              "      <th>16383</th>\n",
              "      <td>Hoba</td>\n",
              "      <td>60000000.0</td>\n",
              "    </tr>\n",
              "    <tr>\n",
              "      <th>5336</th>\n",
              "      <td>Cape York</td>\n",
              "      <td>58200000.0</td>\n",
              "    </tr>\n",
              "    <tr>\n",
              "      <th>5329</th>\n",
              "      <td>Campo del Cielo</td>\n",
              "      <td>50000000.0</td>\n",
              "    </tr>\n",
              "    <tr>\n",
              "      <th>5333</th>\n",
              "      <td>Canyon Diablo</td>\n",
              "      <td>30000000.0</td>\n",
              "    </tr>\n",
              "    <tr>\n",
              "      <th>3433</th>\n",
              "      <td>Armanty</td>\n",
              "      <td>28000000.0</td>\n",
              "    </tr>\n",
              "    <tr>\n",
              "      <th>...</th>\n",
              "      <td>...</td>\n",
              "      <td>...</td>\n",
              "    </tr>\n",
              "    <tr>\n",
              "      <th>31065</th>\n",
              "      <td>Österplana 053</td>\n",
              "      <td>0.0</td>\n",
              "    </tr>\n",
              "    <tr>\n",
              "      <th>31066</th>\n",
              "      <td>Österplana 054</td>\n",
              "      <td>0.0</td>\n",
              "    </tr>\n",
              "    <tr>\n",
              "      <th>31067</th>\n",
              "      <td>Österplana 055</td>\n",
              "      <td>0.0</td>\n",
              "    </tr>\n",
              "    <tr>\n",
              "      <th>31068</th>\n",
              "      <td>Österplana 056</td>\n",
              "      <td>0.0</td>\n",
              "    </tr>\n",
              "    <tr>\n",
              "      <th>31075</th>\n",
              "      <td>Österplana 063</td>\n",
              "      <td>0.0</td>\n",
              "    </tr>\n",
              "  </tbody>\n",
              "</table>\n",
              "<p>45582 rows × 2 columns</p>\n",
              "</div>"
            ],
            "text/plain": [
              "                  name        mass\n",
              "16383             Hoba  60000000.0\n",
              "5336         Cape York  58200000.0\n",
              "5329   Campo del Cielo  50000000.0\n",
              "5333     Canyon Diablo  30000000.0\n",
              "3433           Armanty  28000000.0\n",
              "...                ...         ...\n",
              "31065   Österplana 053         0.0\n",
              "31066   Österplana 054         0.0\n",
              "31067   Österplana 055         0.0\n",
              "31068   Österplana 056         0.0\n",
              "31075   Österplana 063         0.0\n",
              "\n",
              "[45582 rows x 2 columns]"
            ]
          },
          "execution_count": 12,
          "metadata": {},
          "output_type": "execute_result"
        }
      ],
      "source": [
        "ord_massa = df1[['name','mass']].sort_values(by='mass',ascending=False).dropna() #Os meteoritos com maiores massas registradas\n",
        "ord_massa"
      ]
    },
    {
      "attachments": {},
      "cell_type": "markdown",
      "id": "da05404c",
      "metadata": {},
      "source": [
        "- Os 5 meteoritos com maior massa em ordem descrescente são: Hoba com 60000000 gramas, Cape York com 58200000 gramas, Campo del Cielo 50000000 gramas, Canyon Diablo com 30000000 gramas e Armanty com 28000000 gramas. "
      ]
    },
    {
      "attachments": {},
      "cell_type": "markdown",
      "id": "f752a0d8",
      "metadata": {},
      "source": [
        "### Qual a média anual de meteoritos a atingirem o planeta?"
      ]
    },
    {
      "cell_type": "code",
      "execution_count": 13,
      "id": "3c76ec54",
      "metadata": {},
      "outputs": [
        {
          "data": {
            "text/plain": [
              "year  \n",
              "2003.0    3323\n",
              "1979.0    3046\n",
              "1998.0    2697\n",
              "2006.0    2456\n",
              "1988.0    2296\n",
              "          ... \n",
              "1628.0       1\n",
              "1741.0       1\n",
              "1623.0       1\n",
              "1575.0       1\n",
              "920.0        1\n",
              "Length: 263, dtype: int64"
            ]
          },
          "execution_count": 13,
          "metadata": {},
          "output_type": "execute_result"
        }
      ],
      "source": [
        "cont_years = df1[['year']].value_counts().sort_values(ascending=False) #contando os anos existentes para o cálculo da média.\n",
        "\n",
        "cont_years"
      ]
    },
    {
      "cell_type": "code",
      "execution_count": 14,
      "id": "7376e27e",
      "metadata": {},
      "outputs": [
        {
          "data": {
            "text/plain": [
              "173.31558935361215"
            ]
          },
          "execution_count": 14,
          "metadata": {},
          "output_type": "execute_result"
        }
      ],
      "source": [
        "#263 anos existentes e 45582 meteoritos registrados.\n",
        "\n",
        "met_por_ano = 45582/263\n",
        "\n",
        "met_por_ano\n",
        "\n",
        "# a média anual de meteoritos por ano é de 173. Podemos analisar que a média é afetada por anos onde a concentração de meteoritos foi maior, pois \"173 meteoritos p/ano\" \n",
        "# não expressa nitidamente a realidade, uma vez que existem anos onde apenas 1 meteorito foi registrado."
      ]
    },
    {
      "attachments": {},
      "cell_type": "markdown",
      "id": "74dc706c",
      "metadata": {},
      "source": [
        "- A média anual de meteoritos por ano é de 173. Podemos analisar que a média é afetada por anos onde a concentração de meteoritos foi maior, pois \"173 meteoritos p/ano\"  não expressa nitidamente a realidade, uma vez que existem anos onde apenas 1 meteorito foi registrado."
      ]
    }
  ],
  "metadata": {
    "colab": {
      "provenance": []
    },
    "kernelspec": {
      "display_name": "Python 3 (ipykernel)",
      "language": "python",
      "name": "python3"
    },
    "language_info": {
      "codemirror_mode": {
        "name": "ipython",
        "version": 3
      },
      "file_extension": ".py",
      "mimetype": "text/x-python",
      "name": "python",
      "nbconvert_exporter": "python",
      "pygments_lexer": "ipython3",
      "version": "3.9.7"
    }
  },
  "nbformat": 4,
  "nbformat_minor": 5
}
