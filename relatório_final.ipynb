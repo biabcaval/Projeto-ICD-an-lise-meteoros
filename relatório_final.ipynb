{
 "cells": [
  {
   "cell_type": "code",
   "execution_count": 7,
   "id": "dbe69e26",
   "metadata": {},
   "outputs": [],
   "source": [
    "import pandas as pd\n",
    "import numpy as np\n",
    "import math\n",
    "from math import log\n",
    "import seaborn as sns\n",
    "from scipy.stats import linregress\n",
    "import matplotlib.pyplot as plt"
   ]
  },
  {
   "cell_type": "code",
   "execution_count": 8,
   "id": "30a1a5f4",
   "metadata": {},
   "outputs": [],
   "source": [
    "df1 = pd.read_csv('datasets/meteorite_landings.csv', on_bad_lines='warn')\n",
    "df2 = pd.read_csv('datasets/meteorite_landings_on_earth.csv', on_bad_lines='warn')   #lendo os datasets\n",
    "df3 = pd.read_csv('datasets/cneos_fireball_data.csv', on_bad_lines='warn')"
   ]
  },
  {
   "attachments": {},
   "cell_type": "markdown",
   "id": "ad539840",
   "metadata": {},
   "source": [
    "# Pouso de meteoritos no planeta terra\n",
    "\n",
    "- Iara Araujo\n",
    "- Beatriz Barreto \n",
    "- Paloma Duarte"
   ]
  }
 ],
 "metadata": {
  "kernelspec": {
   "display_name": "Python 3 (ipykernel)",
   "language": "python",
   "name": "python3"
  },
  "language_info": {
   "codemirror_mode": {
    "name": "ipython",
    "version": 3
   },
   "file_extension": ".py",
   "mimetype": "text/x-python",
   "name": "python",
   "nbconvert_exporter": "python",
   "pygments_lexer": "ipython3",
   "version": "3.10.6"
  }
 },
 "nbformat": 4,
 "nbformat_minor": 5
}
