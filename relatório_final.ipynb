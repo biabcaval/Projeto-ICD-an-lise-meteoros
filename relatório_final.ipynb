{
 "cells": [
  {
   "attachments": {},
   "cell_type": "markdown",
   "id": "ad539840",
   "metadata": {},
   "source": [
    "# Pouso de meteoritos no planeta terra\n",
    "\n",
    "- Iara Araujo\n",
    "- Beatriz Barreto \n",
    "- Paloma Duarte"
   ]
  },
  {
   "attachments": {},
   "cell_type": "markdown",
   "id": "dfb16a9c",
   "metadata": {},
   "source": [
    "## Introdução"
   ]
  },
  {
   "attachments": {},
   "cell_type": "markdown",
   "id": "6b86c225",
   "metadata": {},
   "source": [
    "### Motivação e objetivo\n"
   ]
  },
  {
   "attachments": {},
   "cell_type": "markdown",
   "id": "c1fa8bc0",
   "metadata": {},
   "source": [
    "## Dados utilizados"
   ]
  },
  {
   "attachments": {},
   "cell_type": "markdown",
   "id": "c2db3d7e",
   "metadata": {},
   "source": [
    "### Dataset meteorite_landings\n",
    "- Dados coletados pela [meteorical society](https://meteoritical.org/), incluindo localizações, massas,composições e ano de queda \n",
    "para mais de 45.000 meteoritos que caíram no planeta terra.\n",
    "- Variáveis desse dataset:\n",
    "    - **name**: nome do meteorito(geralmente relacionado com a localização onde atingiu a terra).\n",
    "    - **id** : identificador unico para o meteorito no dataset.\n",
    "    - **nametype**: classificação do meteorito em **relict** ou **valid**\n",
    "    - **mass** : a massa do meteorito dada em gramas.\n",
    "    - **fell**: classificação do meteorito em:\n",
    "        - _Fall_: se foi identificado durante sua queda.\n",
    "        - _Fell_: se foi identificado após sua queda.\n",
    "    - **year**: ano em que o meteorito foi identificado.\n",
    "    - **reclat**: latitude da posição em que o meteoro foi encontrado.\n",
    "    - **reclong**:longitude da posição em que o meteoro foi encontrado.\n",
    "    - **GeoLocation**: junção da latitude e da longitude em uma variável, separadas por vírgula.    \n",
    "- Observações adicionais\n",
    "    - as variáveis 'reclat' e 'reclong' são \"valores recomendados\", isto é levemente alterados do valor inicialmente dado, isso se deve a uma reclassificação do meteorito ou alteração dos dados originais de sua coleta.\n",
    "    - alguns dados estão incorretos ou com difícil visualização, por isso faremos a limpeza na fase de pré processamento."
   ]
  },
  {
   "cell_type": "code",
   "execution_count": 7,
   "id": "dbe69e26",
   "metadata": {},
   "outputs": [],
   "source": [
    "import pandas as pd\n",
    "import numpy as np\n",
    "import math\n",
    "from math import log\n",
    "import seaborn as sns\n",
    "from scipy.stats import linregress\n",
    "import matplotlib.pyplot as plt"
   ]
  },
  {
   "cell_type": "code",
   "execution_count": 8,
   "id": "30a1a5f4",
   "metadata": {},
   "outputs": [],
   "source": [
    "df1 = pd.read_csv('datasets/meteorite_landings.csv', on_bad_lines='warn')\n",
    "df2 = pd.read_csv('datasets/meteorite_landings_on_earth.csv', on_bad_lines='warn')   #lendo os datasets\n",
    "df3 = pd.read_csv('datasets/cneos_fireball_data.csv', on_bad_lines='warn')"
   ]
  }
 ],
 "metadata": {
  "kernelspec": {
   "display_name": "Python 3 (ipykernel)",
   "language": "python",
   "name": "python3"
  },
  "language_info": {
   "codemirror_mode": {
    "name": "ipython",
    "version": 3
   },
   "file_extension": ".py",
   "mimetype": "text/x-python",
   "name": "python",
   "nbconvert_exporter": "python",
   "pygments_lexer": "ipython3",
   "version": "3.10.6"
  }
 },
 "nbformat": 4,
 "nbformat_minor": 5
}
