{
  "cells": [
    {
      "attachments": {},
      "cell_type": "markdown",
      "id": "ad539840",
      "metadata": {
        "id": "ad539840"
      },
      "source": [
        "# Pouso de meteoritos no planeta terra\n",
        "\n",
        "- Iara Araujo\n",
        "- Beatriz Barreto \n",
        "- Paloma Duarte"
      ]
    },
    {
      "attachments": {},
      "cell_type": "markdown",
      "id": "dfb16a9c",
      "metadata": {
        "id": "dfb16a9c"
      },
      "source": [
        "## Introdução"
      ]
    },
    {
      "attachments": {},
      "cell_type": "markdown",
      "id": "6b86c225",
      "metadata": {
        "id": "6b86c225"
      },
      "source": [
        "### Motivação e objetivo\n"
      ]
    },
    {
      "attachments": {},
      "cell_type": "markdown",
      "id": "c1fa8bc0",
      "metadata": {
        "id": "c1fa8bc0"
      },
      "source": [
        "## Dados utilizados"
      ]
    },
    {
      "attachments": {},
      "cell_type": "markdown",
      "id": "c2db3d7e",
      "metadata": {
        "id": "c2db3d7e"
      },
      "source": [
        "### Dataset meteorite_landings\n",
        "- Dados coletados pela [meteorical society](https://meteoritical.org/), incluindo localizações, massas,composições e ano de queda \n",
        "para mais de 45.000 meteoritos que caíram no planeta terra.\n",
        "- Variáveis desse dataset:\n",
        "    - **name**: nome do meteorito(geralmente relacionado com a localização onde atingiu a terra).\n",
        "    - **id** : identificador único para o meteorito no dataset.\n",
        "    - **nametype**: classificação do meteorito em **relict** ou **valid**\n",
        "    - **mass** : a massa do meteorito dada em gramas.\n",
        "    - **fell**: classificação do meteorito em:\n",
        "        - _Fall_: se foi identificado durante sua queda.\n",
        "        - _Fell_: se foi identificado após sua queda.\n",
        "    - **year**: ano em que o meteorito foi identificado.\n",
        "    - **reclat**: latitude da posição em que o meteoro foi encontrado.\n",
        "    - **reclong**: longitude da posição em que o meteoro foi encontrado.\n",
        "    - **GeoLocation**: junção da latitude e da longitude em uma variável, separadas por vírgula.    \n",
        "- Observações adicionais\n",
        "    - as variáveis 'reclat' e 'reclong' são \"valores recomendados\", isto é levemente alterados do valor inicialmente dado, isso se deve a uma reclassificação do meteorito ou alteração dos dados originais de sua coleta.\n",
        "    - alguns dados estão incorretos ou com difícil visualização, por isso faremos a limpeza na fase de pré processamento.\n",
        "\n",
        "\n",
        "---\n",
        "### Dataset meteorite_landings_on_earth\n",
        "- Dados coletados e disponibilizados pela [NASA](https://data.nasa.gov/), incluindo registros de 45.000 meteoritos com dados de detalhamento extras, como nome do país/oceano encontrado.\n",
        "- Variáveis do dataset:\n",
        "    - **id** : identificador único para o meteorito dentro do dataset.\n",
        "    - **meteorite_name**: nome do meteorito.\n",
        "    - **nametype**: classificação do meteorito em **relict** ou **valid**\n",
        "    - **recclass**: é o processo de passagem de uma classe, classificação ou categoria para outra.\n",
        "    - **fall**: classificação do meteorito em:\n",
        "        - _Fall_: se foi identificado durante sua queda.\n",
        "        - _Fell_: se foi identificado após sua queda.\n",
        "    - **year**: ano em que o meteorito foi identificado.\n",
        "    - **mass** : a massa do meteorito dada em gramas.\n",
        "    - **location**: nome do país ou oceano em que o meteorito foi encontrado.\n",
        "    - **location_code**: código de identificação do país ou oceano em que o meteorito foi encontrado.\n",
        "    - **location_type**: tipo de localização do local em que o meteoro foi encontrado, classificado em:\n",
        "        - _Land_: se foi identificado na terra.\n",
        "        - _Ocean_: se foi identificado no oceano.\n",
        "        - _Unknown_: se foi identificado em um local que pode ter mudado de classificação de terra para oceano, ou visse-versa, desde sua queda.\n",
        "    - **distance**: deslocamento do meteorito desde sua queda.\n",
        "    - **latitude**: latitude da posição em que o meteorito foi encontrado.\n",
        "    - **longitude**: longitude da posição em que o meteorito foi encontrado.\n",
        "    - **lat_lng**: junção da latitude e da longitude em uma variável, separadas por vírgula."
      ]
    },
    {
      "cell_type": "code",
      "execution_count": 2,
      "id": "dbe69e26",
      "metadata": {
        "id": "dbe69e26"
      },
      "outputs": [],
      "source": [
        "import pandas as pd\n",
        "import numpy as np\n",
        "import math\n",
        "from math import log\n",
        "import statistics\n",
        "import seaborn as sns\n",
        "from scipy.stats import linregress\n",
        "from sklearn.cluster import KMeans\n",
        "import matplotlib.pyplot as plt"
      ]
    },
    {
      "cell_type": "code",
      "execution_count": 3,
      "id": "30a1a5f4",
      "metadata": {
        "id": "30a1a5f4"
      },
      "outputs": [],
      "source": [
        "df1 = pd.read_csv('datasets/meteorite_landings.csv', on_bad_lines='warn')\n",
        "df2 = pd.read_csv('datasets/meteorite_landings_on_earth.csv', on_bad_lines='warn')   #lendo os datasets\n",
        "df3 = pd.read_csv('datasets/cneos_fireball_data.csv', on_bad_lines='warn')"
      ]
    },
    {
      "attachments": {},
      "cell_type": "markdown",
      "id": "2054ba1e",
      "metadata": {},
      "source": [
        "## Pré-processamento dos dados"
      ]
    },
    {
      "attachments": {},
      "cell_type": "markdown",
      "id": "4685a056",
      "metadata": {},
      "source": [
        "### Dataset meteorite_landings"
      ]
    },
    {
      "attachments": {},
      "cell_type": "markdown",
      "id": "220b4d64",
      "metadata": {},
      "source": [
        "#### Corrigindo dados na variável 'year'\n",
        "\n",
        "- Aqui faremos uma verificação do ano em que o meteorito foi descoberto, pois existem algumas incoerências. \n",
        "  \n",
        "  Faremos essa verificação utilizando como base o site [The Meteoritical Society](https://www.lpi.usra.edu/meteor/metbull.php).\n",
        "  "
      ]
    },
    {
      "cell_type": "code",
      "execution_count": 4,
      "id": "32614fb3",
      "metadata": {},
      "outputs": [
        {
          "name": "stdout",
          "output_type": "stream",
          "text": [
            "['Nogata', 'Havana', 'Northwest Africa 7701', 'Ur', 'Wietrzno-Bobrka']\n"
          ]
        },
        {
          "data": {
            "text/plain": [
              "[703, 16356, 30679, 38188, 38301]"
            ]
          },
          "execution_count": 4,
          "metadata": {},
          "output_type": "execute_result"
        }
      ],
      "source": [
        "\n",
        "years_bug = [i for i in df1['year'] if i >= 2016 or i <= 860 ] # pega os anos incoerentes\n",
        "\n",
        "index_bug = [i for i in df1.index if df1.loc[i, 'year'] in years_bug] # pega os índices dos elementos problemáticos \n",
        "\n",
        "name_years_bug = [df1['name'].loc[i] for i in df1.index if df1.loc[i, 'year'] in years_bug] # pega o nome dos elementos para a verificação no site\n",
        "\n",
        "print(name_years_bug)\n",
        "index_bug\n"
      ]
    },
    {
      "attachments": {},
      "cell_type": "markdown",
      "id": "f809c7e3",
      "metadata": {},
      "source": [
        "- Agora vamos corrigir as informações no dataframe:"
      ]
    },
    {
      "cell_type": "code",
      "execution_count": 5,
      "id": "19331db1",
      "metadata": {},
      "outputs": [],
      "source": [
        "years_bug = [i for i in df1['year'] if i >= 2016 or i <= 860 ] # pega os anos incoerentes\n",
        "\n",
        "index_bug = [i for i in df1.index if df1.loc[i, 'year'] in years_bug] # pega os índices dos elementos problemáticos \n",
        "\n",
        "\n",
        "\n",
        "df1 = df1.drop(index_bug) #removendo os rows em que os anos são problemáticos\n"
      ]
    },
    {
      "attachments": {},
      "cell_type": "markdown",
      "id": "c8142086",
      "metadata": {},
      "source": [
        "#### Corrigindo dados das variáveis 'reclat' e 'reclong'"
      ]
    },
    {
      "cell_type": "code",
      "execution_count": 6,
      "id": "7d1b69bc",
      "metadata": {},
      "outputs": [],
      "source": [
        "df1['reclong'] = df1['reclong'].map(lambda x : 61.074319 if (x > 180 or x < - 180) else x) #correção de incoerências das colunas 'reclat' e 'reclong'\n",
        "df1['reclat'] = df1['reclat'].map(lambda x : -39.122580 if (x == 0) else x)"
      ]
    }
  ],
  "metadata": {
    "colab": {
      "provenance": []
    },
    "kernelspec": {
      "display_name": "Python 3 (ipykernel)",
      "language": "python",
      "name": "python3"
    },
    "language_info": {
      "codemirror_mode": {
        "name": "ipython",
        "version": 3
      },
      "file_extension": ".py",
      "mimetype": "text/x-python",
      "name": "python",
      "nbconvert_exporter": "python",
      "pygments_lexer": "ipython3",
      "version": "3.10.6"
    }
  },
  "nbformat": 4,
  "nbformat_minor": 5
}
