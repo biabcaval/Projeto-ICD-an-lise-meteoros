{
  "cells": [
    {
      "cell_type": "markdown",
      "id": "ad539840",
      "metadata": {
        "id": "ad539840"
      },
      "source": [
        "# Pouso de meteoritos no planeta terra\n",
        "\n",
        "- Iara Araujo\n",
        "- Beatriz Barreto \n",
        "- Paloma Duarte"
      ]
    },
    {
      "cell_type": "markdown",
      "id": "dfb16a9c",
      "metadata": {
        "id": "dfb16a9c"
      },
      "source": [
        "## Introdução"
      ]
    },
    {
      "cell_type": "markdown",
      "id": "6b86c225",
      "metadata": {
        "id": "6b86c225"
      },
      "source": [
        "### Motivação e objetivo\n"
      ]
    },
    {
      "cell_type": "markdown",
      "id": "c1fa8bc0",
      "metadata": {
        "id": "c1fa8bc0"
      },
      "source": [
        "## Dados utilizados"
      ]
    },
    {
      "cell_type": "markdown",
      "id": "c2db3d7e",
      "metadata": {
        "id": "c2db3d7e"
      },
      "source": [
        "### Dataset meteorite_landings\n",
        "- Dados coletados pela [meteorical society](https://meteoritical.org/), incluindo localizações, massas,composições e ano de queda \n",
        "para mais de 45.000 meteoritos que caíram no planeta terra.\n",
        "- Variáveis desse dataset:\n",
        "    - **name**: nome do meteorito(geralmente relacionado com a localização onde atingiu a terra).\n",
        "    - **id** : identificador único para o meteorito no dataset.\n",
        "    - **nametype**: classificação do meteorito em **relict** ou **valid**\n",
        "    - **mass** : a massa do meteorito dada em gramas.\n",
        "    - **fell**: classificação do meteorito em:\n",
        "        - _Fall_: se foi identificado durante sua queda.\n",
        "        - _Fell_: se foi identificado após sua queda.\n",
        "    - **year**: ano em que o meteorito foi identificado.\n",
        "    - **reclat**: latitude da posição em que o meteoro foi encontrado.\n",
        "    - **reclong**: longitude da posição em que o meteoro foi encontrado.\n",
        "    - **GeoLocation**: junção da latitude e da longitude em uma variável, separadas por vírgula.    \n",
        "- Observações adicionais\n",
        "    - as variáveis 'reclat' e 'reclong' são \"valores recomendados\", isto é levemente alterados do valor inicialmente dado, isso se deve a uma reclassificação do meteorito ou alteração dos dados originais de sua coleta.\n",
        "    - alguns dados estão incorretos ou com difícil visualização, por isso faremos a limpeza na fase de pré processamento.\n",
        "\n",
        "\n",
        "---\n",
        "### Dataset meteorite_landings_on_earth\n",
        "- Dados coletados e disponibilizados pela [NASA](https://data.nasa.gov/), incluindo registros de 45.000 meteoritos com dados de detalhamento extras, como nome do país/oceano encontrado.\n",
        "- Variáveis do dataset:\n",
        "    - **id** : identificador único para o meteorito dentro do dataset.\n",
        "    - **meteorite_name**: nome do meteorito.\n",
        "    - **nametype**: classificação do meteorito em **relict** ou **valid**\n",
        "    - **recclass**: é o processo de passagem de uma classe, classificação ou categoria para outra.\n",
        "    - **fall**: classificação do meteorito em:\n",
        "        - _Fall_: se foi identificado durante sua queda.\n",
        "        - _Fell_: se foi identificado após sua queda.\n",
        "    - **year**: ano em que o meteorito foi identificado.\n",
        "    - **mass** : a massa do meteorito dada em gramas.\n",
        "    - **location**: nome do país ou oceano em que o meteorito foi encontrado.\n",
        "    - **location_code**: código de identificação do país ou oceano em que o meteorito foi encontrado.\n",
        "    - **location_type**: tipo de localização do local em que o meteoro foi encontrado, classificado em:\n",
        "        - _Land_: se foi identificado na terra.\n",
        "        - _Ocean_: se foi identificado no oceano.\n",
        "        - _Unknown_: se foi identificado em um local que pode ter mudado de classificação de terra para oceano, ou visse-versa, desde sua queda.\n",
        "    - **distance**: deslocamento do meteorito desde sua queda.\n",
        "    - **latitude**: latitude da posição em que o meteorito foi encontrado.\n",
        "    - **longitude**: longitude da posição em que o meteorito foi encontrado.\n",
        "    - **lat_lng**: junção da latitude e da longitude em uma variável, separadas por vírgula."
      ]
    },
    {
      "cell_type": "code",
      "execution_count": 1,
      "id": "dbe69e26",
      "metadata": {
        "id": "dbe69e26"
      },
      "outputs": [],
      "source": [
        "import pandas as pd\n",
        "import numpy as np\n",
        "import math\n",
        "from math import log\n",
        "import statistics\n",
        "import seaborn as sns\n",
        "from scipy.stats import linregress\n",
        "from sklearn.cluster import KMeans\n",
        "import matplotlib.pyplot as plt"
      ]
    },
    {
      "cell_type": "code",
      "execution_count": null,
      "id": "30a1a5f4",
      "metadata": {
        "id": "30a1a5f4"
      },
      "outputs": [],
      "source": [
        "df1 = pd.read_csv('datasets/meteorite_landings.csv', on_bad_lines='warn')\n",
        "df2 = pd.read_csv('datasets/meteorite_landings_on_earth.csv', on_bad_lines='warn')   #lendo os datasets\n",
        "df3 = pd.read_csv('datasets/cneos_fireball_data.csv', on_bad_lines='warn')"
      ]
    }
  ],
  "metadata": {
    "kernelspec": {
      "display_name": "Python 3 (ipykernel)",
      "language": "python",
      "name": "python3"
    },
    "language_info": {
      "codemirror_mode": {
        "name": "ipython",
        "version": 3
      },
      "file_extension": ".py",
      "mimetype": "text/x-python",
      "name": "python",
      "nbconvert_exporter": "python",
      "pygments_lexer": "ipython3",
      "version": "3.10.6"
    },
    "colab": {
      "provenance": []
    }
  },
  "nbformat": 4,
  "nbformat_minor": 5
}