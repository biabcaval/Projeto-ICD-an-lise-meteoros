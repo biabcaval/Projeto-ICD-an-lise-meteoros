{
 "cells": [
  {
   "cell_type": "code",
   "execution_count": 24,
   "id": "5a08dbd7",
   "metadata": {},
   "outputs": [],
   "source": [
    "# Notebook para exploração inicial do dataset \"Fireball Reports\"\n",
    "import numpy as np\n",
    "import pandas as pd"
   ]
  },
  {
   "cell_type": "code",
   "execution_count": 25,
   "id": "0a99cb84",
   "metadata": {},
   "outputs": [
    {
     "data": {
      "text/html": [
       "<div>\n",
       "<style scoped>\n",
       "    .dataframe tbody tr th:only-of-type {\n",
       "        vertical-align: middle;\n",
       "    }\n",
       "\n",
       "    .dataframe tbody tr th {\n",
       "        vertical-align: top;\n",
       "    }\n",
       "\n",
       "    .dataframe thead th {\n",
       "        text-align: right;\n",
       "    }\n",
       "</style>\n",
       "<table border=\"1\" class=\"dataframe\">\n",
       "  <thead>\n",
       "    <tr style=\"text-align: right;\">\n",
       "      <th></th>\n",
       "      <th>Peak Brightness Date/Time (UT)</th>\n",
       "      <th>Latitude (deg.)</th>\n",
       "      <th>Longitude (deg.)</th>\n",
       "      <th>Altitude (km)</th>\n",
       "      <th>Velocity (km/s)</th>\n",
       "      <th>vx</th>\n",
       "      <th>vy</th>\n",
       "      <th>vz</th>\n",
       "      <th>Total Radiated Energy (J)</th>\n",
       "      <th>Calculated Total Impact Energy (kt)</th>\n",
       "    </tr>\n",
       "  </thead>\n",
       "  <tbody>\n",
       "    <tr>\n",
       "      <th>0</th>\n",
       "      <td>2023-04-15 08:22:01</td>\n",
       "      <td>20.1S</td>\n",
       "      <td>36.0E</td>\n",
       "      <td>41.4</td>\n",
       "      <td>17.2</td>\n",
       "      <td>1.6</td>\n",
       "      <td>-14.7</td>\n",
       "      <td>8.8</td>\n",
       "      <td>3.097000e+12</td>\n",
       "      <td>6.300</td>\n",
       "    </tr>\n",
       "    <tr>\n",
       "      <th>1</th>\n",
       "      <td>2023-04-06 14:47:39</td>\n",
       "      <td>57.4N</td>\n",
       "      <td>109.9E</td>\n",
       "      <td>31.2</td>\n",
       "      <td>22.1</td>\n",
       "      <td>8.6</td>\n",
       "      <td>3.6</td>\n",
       "      <td>-20.0</td>\n",
       "      <td>7.200000e+10</td>\n",
       "      <td>0.230</td>\n",
       "    </tr>\n",
       "    <tr>\n",
       "      <th>2</th>\n",
       "      <td>2023-04-01 00:02:03</td>\n",
       "      <td>16.8S</td>\n",
       "      <td>76.0E</td>\n",
       "      <td>61.8</td>\n",
       "      <td>46.4</td>\n",
       "      <td>21.4</td>\n",
       "      <td>-40.6</td>\n",
       "      <td>7.1</td>\n",
       "      <td>2.400000e+10</td>\n",
       "      <td>0.086</td>\n",
       "    </tr>\n",
       "  </tbody>\n",
       "</table>\n",
       "</div>"
      ],
      "text/plain": [
       "  Peak Brightness Date/Time (UT) Latitude (deg.) Longitude (deg.)  \\\n",
       "0            2023-04-15 08:22:01           20.1S            36.0E   \n",
       "1            2023-04-06 14:47:39           57.4N           109.9E   \n",
       "2            2023-04-01 00:02:03           16.8S            76.0E   \n",
       "\n",
       "   Altitude (km)  Velocity (km/s)    vx    vy    vz  \\\n",
       "0           41.4             17.2   1.6 -14.7   8.8   \n",
       "1           31.2             22.1   8.6   3.6 -20.0   \n",
       "2           61.8             46.4  21.4 -40.6   7.1   \n",
       "\n",
       "   Total Radiated Energy (J)  Calculated Total Impact Energy (kt)  \n",
       "0               3.097000e+12                                6.300  \n",
       "1               7.200000e+10                                0.230  \n",
       "2               2.400000e+10                                0.086  "
      ]
     },
     "execution_count": 25,
     "metadata": {},
     "output_type": "execute_result"
    }
   ],
   "source": [
    "df = pd.read_csv(\"datasets/cneos_fireball_data.csv\", on_bad_lines='warn')\n",
    "df.head(3)"
   ]
  },
  {
   "cell_type": "code",
   "execution_count": 92,
   "id": "ee418268",
   "metadata": {},
   "outputs": [
    {
     "name": "stdout",
     "output_type": "stream",
     "text": [
      "<class 'pandas.core.frame.DataFrame'>\n",
      "RangeIndex: 953 entries, 0 to 952\n",
      "Data columns (total 10 columns):\n",
      " #   Column                               Non-Null Count  Dtype  \n",
      "---  ------                               --------------  -----  \n",
      " 0   Peak Brightness Date/Time (UT)       953 non-null    object \n",
      " 1   Latitude (deg.)                      763 non-null    object \n",
      " 2   Longitude (deg.)                     763 non-null    object \n",
      " 3   Altitude (km)                        495 non-null    float64\n",
      " 4   Velocity (km/s)                      290 non-null    float64\n",
      " 5   vx                                   290 non-null    float64\n",
      " 6   vy                                   290 non-null    float64\n",
      " 7   vz                                   290 non-null    float64\n",
      " 8   Total Radiated Energy (J)            953 non-null    float64\n",
      " 9   Calculated Total Impact Energy (kt)  953 non-null    float64\n",
      "dtypes: float64(7), object(3)\n",
      "memory usage: 74.6+ KB\n"
     ]
    }
   ],
   "source": [
    "df.info()"
   ]
  },
  {
   "cell_type": "markdown",
   "id": "27caa261",
   "metadata": {},
   "source": [
    "### Medidas de Centralidade de Algumas Variáveis"
   ]
  },
  {
   "cell_type": "markdown",
   "id": "27495342",
   "metadata": {},
   "source": [
    "#### Médias"
   ]
  },
  {
   "cell_type": "code",
   "execution_count": 27,
   "id": "2d410d32",
   "metadata": {},
   "outputs": [
    {
     "data": {
      "text/plain": [
       "Altitude (km)                          3.619717e+01\n",
       "Velocity (km/s)                        1.801448e+01\n",
       "vx                                    -4.931034e-02\n",
       "vy                                    -2.196897e+00\n",
       "vz                                    -7.882759e-01\n",
       "Total Radiated Energy (J)              7.456390e+11\n",
       "Calculated Total Impact Energy (kt)    1.215205e+00\n",
       "dtype: float64"
      ]
     },
     "execution_count": 27,
     "metadata": {},
     "output_type": "execute_result"
    }
   ],
   "source": [
    "df.mean(numeric_only=True)"
   ]
  },
  {
   "cell_type": "markdown",
   "id": "aba3f0b1",
   "metadata": {},
   "source": [
    "#### Medianas"
   ]
  },
  {
   "cell_type": "code",
   "execution_count": 28,
   "id": "12a26b49",
   "metadata": {},
   "outputs": [
    {
     "data": {
      "text/plain": [
       "Altitude (km)                          3.480000e+01\n",
       "Velocity (km/s)                        1.690000e+01\n",
       "vx                                    -5.500000e-01\n",
       "vy                                    -2.900000e+00\n",
       "vz                                     1.000000e-01\n",
       "Total Radiated Energy (J)              6.200000e+10\n",
       "Calculated Total Impact Energy (kt)    2.000000e-01\n",
       "dtype: float64"
      ]
     },
     "execution_count": 28,
     "metadata": {},
     "output_type": "execute_result"
    }
   ],
   "source": [
    "df.median(numeric_only=True)"
   ]
  },
  {
   "cell_type": "markdown",
   "id": "f8513f03",
   "metadata": {},
   "source": [
    "#### Modas"
   ]
  },
  {
   "cell_type": "code",
   "execution_count": 41,
   "id": "9dfeec33",
   "metadata": {},
   "outputs": [
    {
     "data": {
      "text/html": [
       "<div>\n",
       "<style scoped>\n",
       "    .dataframe tbody tr th:only-of-type {\n",
       "        vertical-align: middle;\n",
       "    }\n",
       "\n",
       "    .dataframe tbody tr th {\n",
       "        vertical-align: top;\n",
       "    }\n",
       "\n",
       "    .dataframe thead th {\n",
       "        text-align: right;\n",
       "    }\n",
       "</style>\n",
       "<table border=\"1\" class=\"dataframe\">\n",
       "  <thead>\n",
       "    <tr style=\"text-align: right;\">\n",
       "      <th></th>\n",
       "      <th>Altitude (km)</th>\n",
       "      <th>Velocity (km/s)</th>\n",
       "      <th>vx</th>\n",
       "      <th>vy</th>\n",
       "      <th>vz</th>\n",
       "      <th>Total Radiated Energy (J)</th>\n",
       "      <th>Calculated Total Impact Energy (kt)</th>\n",
       "    </tr>\n",
       "  </thead>\n",
       "  <tbody>\n",
       "    <tr>\n",
       "      <th>0</th>\n",
       "      <td>37.0</td>\n",
       "      <td>15.2</td>\n",
       "      <td>-10.0</td>\n",
       "      <td>-12.1</td>\n",
       "      <td>-10.5</td>\n",
       "      <td>2.000000e+10</td>\n",
       "      <td>0.11</td>\n",
       "    </tr>\n",
       "    <tr>\n",
       "      <th>1</th>\n",
       "      <td>NaN</td>\n",
       "      <td>16.9</td>\n",
       "      <td>NaN</td>\n",
       "      <td>2.2</td>\n",
       "      <td>2.5</td>\n",
       "      <td>NaN</td>\n",
       "      <td>NaN</td>\n",
       "    </tr>\n",
       "    <tr>\n",
       "      <th>2</th>\n",
       "      <td>NaN</td>\n",
       "      <td>NaN</td>\n",
       "      <td>NaN</td>\n",
       "      <td>NaN</td>\n",
       "      <td>8.8</td>\n",
       "      <td>NaN</td>\n",
       "      <td>NaN</td>\n",
       "    </tr>\n",
       "  </tbody>\n",
       "</table>\n",
       "</div>"
      ],
      "text/plain": [
       "   Altitude (km)  Velocity (km/s)    vx    vy    vz  \\\n",
       "0           37.0             15.2 -10.0 -12.1 -10.5   \n",
       "1            NaN             16.9   NaN   2.2   2.5   \n",
       "2            NaN              NaN   NaN   NaN   8.8   \n",
       "\n",
       "   Total Radiated Energy (J)  Calculated Total Impact Energy (kt)  \n",
       "0               2.000000e+10                                 0.11  \n",
       "1                        NaN                                  NaN  \n",
       "2                        NaN                                  NaN  "
      ]
     },
     "execution_count": 41,
     "metadata": {},
     "output_type": "execute_result"
    }
   ],
   "source": [
    "df.mode(axis=0, numeric_only=True, dropna=True)"
   ]
  },
  {
   "cell_type": "markdown",
   "id": "b5919ffa",
   "metadata": {},
   "source": [
    "### Medidas de Dispersão de Algumas Variáveis"
   ]
  },
  {
   "cell_type": "markdown",
   "id": "3f533232",
   "metadata": {},
   "source": [
    "#### Variâncias"
   ]
  },
  {
   "cell_type": "code",
   "execution_count": 45,
   "id": "39dc4c94",
   "metadata": {},
   "outputs": [
    {
     "data": {
      "text/plain": [
       "Altitude (km)                          1.113536e+02\n",
       "Velocity (km/s)                        3.332443e+01\n",
       "vx                                     1.202169e+02\n",
       "vy                                     1.277396e+02\n",
       "vz                                     1.095561e+02\n",
       "Total Radiated Energy (J)              1.501886e+26\n",
       "Calculated Total Impact Energy (kt)    2.106559e+02\n",
       "dtype: float64"
      ]
     },
     "execution_count": 45,
     "metadata": {},
     "output_type": "execute_result"
    }
   ],
   "source": [
    "df.var(skipna=True, numeric_only=True)"
   ]
  },
  {
   "cell_type": "markdown",
   "id": "fb51fb7d",
   "metadata": {},
   "source": [
    "#### Desvios-padrões"
   ]
  },
  {
   "cell_type": "code",
   "execution_count": 46,
   "id": "cd7b86f0",
   "metadata": {},
   "outputs": [
    {
     "data": {
      "text/plain": [
       "Altitude (km)                          1.055242e+01\n",
       "Velocity (km/s)                        5.772731e+00\n",
       "vx                                     1.096435e+01\n",
       "vy                                     1.130219e+01\n",
       "vz                                     1.046690e+01\n",
       "Total Radiated Energy (J)              1.225514e+13\n",
       "Calculated Total Impact Energy (kt)    1.451399e+01\n",
       "dtype: float64"
      ]
     },
     "execution_count": 46,
     "metadata": {},
     "output_type": "execute_result"
    }
   ],
   "source": [
    "df.std(skipna=True, numeric_only=True)"
   ]
  },
  {
   "cell_type": "markdown",
   "id": "59249c19",
   "metadata": {},
   "source": [
    "### Algumas Correlações"
   ]
  },
  {
   "cell_type": "code",
   "execution_count": 48,
   "id": "bfee35b7",
   "metadata": {},
   "outputs": [
    {
     "data": {
      "text/html": [
       "<div>\n",
       "<style scoped>\n",
       "    .dataframe tbody tr th:only-of-type {\n",
       "        vertical-align: middle;\n",
       "    }\n",
       "\n",
       "    .dataframe tbody tr th {\n",
       "        vertical-align: top;\n",
       "    }\n",
       "\n",
       "    .dataframe thead th {\n",
       "        text-align: right;\n",
       "    }\n",
       "</style>\n",
       "<table border=\"1\" class=\"dataframe\">\n",
       "  <thead>\n",
       "    <tr style=\"text-align: right;\">\n",
       "      <th></th>\n",
       "      <th>Altitude (km)</th>\n",
       "      <th>Velocity (km/s)</th>\n",
       "      <th>vx</th>\n",
       "      <th>vy</th>\n",
       "      <th>vz</th>\n",
       "      <th>Total Radiated Energy (J)</th>\n",
       "      <th>Calculated Total Impact Energy (kt)</th>\n",
       "    </tr>\n",
       "  </thead>\n",
       "  <tbody>\n",
       "    <tr>\n",
       "      <th>Altitude (km)</th>\n",
       "      <td>1.000000</td>\n",
       "      <td>0.158080</td>\n",
       "      <td>-0.042589</td>\n",
       "      <td>-0.011952</td>\n",
       "      <td>-0.058933</td>\n",
       "      <td>-0.071156</td>\n",
       "      <td>-0.078851</td>\n",
       "    </tr>\n",
       "    <tr>\n",
       "      <th>Velocity (km/s)</th>\n",
       "      <td>0.158080</td>\n",
       "      <td>1.000000</td>\n",
       "      <td>0.042015</td>\n",
       "      <td>-0.155725</td>\n",
       "      <td>-0.166425</td>\n",
       "      <td>0.003765</td>\n",
       "      <td>0.002862</td>\n",
       "    </tr>\n",
       "    <tr>\n",
       "      <th>vx</th>\n",
       "      <td>-0.042589</td>\n",
       "      <td>0.042015</td>\n",
       "      <td>1.000000</td>\n",
       "      <td>-0.122349</td>\n",
       "      <td>0.001900</td>\n",
       "      <td>0.081249</td>\n",
       "      <td>0.086136</td>\n",
       "    </tr>\n",
       "    <tr>\n",
       "      <th>vy</th>\n",
       "      <td>-0.011952</td>\n",
       "      <td>-0.155725</td>\n",
       "      <td>-0.122349</td>\n",
       "      <td>1.000000</td>\n",
       "      <td>0.076239</td>\n",
       "      <td>-0.060104</td>\n",
       "      <td>-0.059950</td>\n",
       "    </tr>\n",
       "    <tr>\n",
       "      <th>vz</th>\n",
       "      <td>-0.058933</td>\n",
       "      <td>-0.166425</td>\n",
       "      <td>0.001900</td>\n",
       "      <td>0.076239</td>\n",
       "      <td>1.000000</td>\n",
       "      <td>-0.019473</td>\n",
       "      <td>-0.021706</td>\n",
       "    </tr>\n",
       "    <tr>\n",
       "      <th>Total Radiated Energy (J)</th>\n",
       "      <td>-0.071156</td>\n",
       "      <td>0.003765</td>\n",
       "      <td>0.081249</td>\n",
       "      <td>-0.060104</td>\n",
       "      <td>-0.019473</td>\n",
       "      <td>1.000000</td>\n",
       "      <td>0.998149</td>\n",
       "    </tr>\n",
       "    <tr>\n",
       "      <th>Calculated Total Impact Energy (kt)</th>\n",
       "      <td>-0.078851</td>\n",
       "      <td>0.002862</td>\n",
       "      <td>0.086136</td>\n",
       "      <td>-0.059950</td>\n",
       "      <td>-0.021706</td>\n",
       "      <td>0.998149</td>\n",
       "      <td>1.000000</td>\n",
       "    </tr>\n",
       "  </tbody>\n",
       "</table>\n",
       "</div>"
      ],
      "text/plain": [
       "                                     Altitude (km)  Velocity (km/s)        vx  \\\n",
       "Altitude (km)                             1.000000         0.158080 -0.042589   \n",
       "Velocity (km/s)                           0.158080         1.000000  0.042015   \n",
       "vx                                       -0.042589         0.042015  1.000000   \n",
       "vy                                       -0.011952        -0.155725 -0.122349   \n",
       "vz                                       -0.058933        -0.166425  0.001900   \n",
       "Total Radiated Energy (J)                -0.071156         0.003765  0.081249   \n",
       "Calculated Total Impact Energy (kt)      -0.078851         0.002862  0.086136   \n",
       "\n",
       "                                           vy        vz  \\\n",
       "Altitude (km)                       -0.011952 -0.058933   \n",
       "Velocity (km/s)                     -0.155725 -0.166425   \n",
       "vx                                  -0.122349  0.001900   \n",
       "vy                                   1.000000  0.076239   \n",
       "vz                                   0.076239  1.000000   \n",
       "Total Radiated Energy (J)           -0.060104 -0.019473   \n",
       "Calculated Total Impact Energy (kt) -0.059950 -0.021706   \n",
       "\n",
       "                                     Total Radiated Energy (J)  \\\n",
       "Altitude (km)                                        -0.071156   \n",
       "Velocity (km/s)                                       0.003765   \n",
       "vx                                                    0.081249   \n",
       "vy                                                   -0.060104   \n",
       "vz                                                   -0.019473   \n",
       "Total Radiated Energy (J)                             1.000000   \n",
       "Calculated Total Impact Energy (kt)                   0.998149   \n",
       "\n",
       "                                     Calculated Total Impact Energy (kt)  \n",
       "Altitude (km)                                                  -0.078851  \n",
       "Velocity (km/s)                                                 0.002862  \n",
       "vx                                                              0.086136  \n",
       "vy                                                             -0.059950  \n",
       "vz                                                             -0.021706  \n",
       "Total Radiated Energy (J)                                       0.998149  \n",
       "Calculated Total Impact Energy (kt)                             1.000000  "
      ]
     },
     "execution_count": 48,
     "metadata": {},
     "output_type": "execute_result"
    }
   ],
   "source": [
    "df.corr(method='pearson', numeric_only=True)"
   ]
  },
  {
   "cell_type": "markdown",
   "id": "09db7c78",
   "metadata": {},
   "source": [
    "- Correlação muito forte entre Total Radiated Energy (J) e Calculated Total Impact Energy (kt)\n",
    "- Demais pares de variáveis não apresentam corrrelação entre si"
   ]
  },
  {
   "cell_type": "code",
   "execution_count": 55,
   "id": "93c25c86",
   "metadata": {},
   "outputs": [
    {
     "data": {
      "text/plain": [
       "<Axes: xlabel='Total Radiated Energy (J)', ylabel='Calculated Total Impact Energy (kt)'>"
      ]
     },
     "execution_count": 55,
     "metadata": {},
     "output_type": "execute_result"
    },
    {
     "data": {
      "image/png": "[encoded data removed]",
      "text/plain": [
       "<Figure size 640x480 with 2 Axes>"
      ]
     },
     "metadata": {},
     "output_type": "display_data"
    }
   ],
   "source": [
    "df.plot.scatter(x='Total Radiated Energy (J)',\n",
    "                y='Calculated Total Impact Energy (kt)',\n",
    "                c='Total Radiated Energy (J)',\n",
    "                colormap='viridis')"
   ]
  },
  {
   "cell_type": "markdown",
   "id": "2f019614",
   "metadata": {},
   "source": [
    "### Alguns Boxplots"
   ]
  },
  {
   "cell_type": "markdown",
   "id": "6a3056cd",
   "metadata": {},
   "source": [
    "#### Altitude"
   ]
  },
  {
   "cell_type": "code",
   "execution_count": 64,
   "id": "18447e7d",
   "metadata": {},
   "outputs": [
    {
     "data": {
      "text/plain": [
       "<Axes: >"
      ]
     },
     "execution_count": 64,
     "metadata": {},
     "output_type": "execute_result"
    },
    {
     "data": {
      "image/png": "[encoded data removed]",
      "text/plain": [
       "<Figure size 640x480 with 1 Axes>"
      ]
     },
     "metadata": {},
     "output_type": "display_data"
    }
   ],
   "source": [
    "df.boxplot(column='Altitude (km)')"
   ]
  },
  {
   "cell_type": "markdown",
   "id": "7e765205",
   "metadata": {},
   "source": [
    "#### Velocidade e suas componentes "
   ]
  },
  {
   "cell_type": "code",
   "execution_count": 65,
   "id": "dc7a733e",
   "metadata": {},
   "outputs": [
    {
     "data": {
      "text/plain": [
       "<Axes: >"
      ]
     },
     "execution_count": 65,
     "metadata": {},
     "output_type": "execute_result"
    },
    {
     "data": {
      "image/png": "[encoded data removed]",
      "text/plain": [
       "<Figure size 640x480 with 1 Axes>"
      ]
     },
     "metadata": {},
     "output_type": "display_data"
    }
   ],
   "source": [
    "df.boxplot(column=['Velocity (km/s)', 'vx', 'vy', 'vz'])"
   ]
  },
  {
   "cell_type": "markdown",
   "id": "2674a9a9",
   "metadata": {},
   "source": [
    "#### Total Radiated Energy (J)"
   ]
  },
  {
   "cell_type": "code",
   "execution_count": 72,
   "id": "ab871b38",
   "metadata": {},
   "outputs": [
    {
     "data": {
      "text/plain": [
       "<Axes: >"
      ]
     },
     "execution_count": 72,
     "metadata": {},
     "output_type": "execute_result"
    },
    {
     "data": {
      "image/png": "[encoded data removed]",
      "text/plain": [
       "<Figure size 640x480 with 1 Axes>"
      ]
     },
     "metadata": {},
     "output_type": "display_data"
    }
   ],
   "source": [
    "df.boxplot(column=['Total Radiated Energy (J)'])"
   ]
  },
  {
   "cell_type": "code",
   "execution_count": 91,
   "id": "204c0ccf",
   "metadata": {},
   "outputs": [
    {
     "data": {
      "text/html": [
       "<div>\n",
       "<style scoped>\n",
       "    .dataframe tbody tr th:only-of-type {\n",
       "        vertical-align: middle;\n",
       "    }\n",
       "\n",
       "    .dataframe tbody tr th {\n",
       "        vertical-align: top;\n",
       "    }\n",
       "\n",
       "    .dataframe thead th {\n",
       "        text-align: right;\n",
       "    }\n",
       "</style>\n",
       "<table border=\"1\" class=\"dataframe\">\n",
       "  <thead>\n",
       "    <tr style=\"text-align: right;\">\n",
       "      <th></th>\n",
       "      <th>Peak Brightness Date/Time (UT)</th>\n",
       "      <th>Latitude (deg.)</th>\n",
       "      <th>Longitude (deg.)</th>\n",
       "      <th>Altitude (km)</th>\n",
       "      <th>Velocity (km/s)</th>\n",
       "      <th>vx</th>\n",
       "      <th>vy</th>\n",
       "      <th>vz</th>\n",
       "      <th>Total Radiated Energy (J)</th>\n",
       "      <th>Calculated Total Impact Energy (kt)</th>\n",
       "    </tr>\n",
       "  </thead>\n",
       "  <tbody>\n",
       "    <tr>\n",
       "      <th>369</th>\n",
       "      <td>2013-02-15 03:20:33</td>\n",
       "      <td>54.8N</td>\n",
       "      <td>61.1E</td>\n",
       "      <td>23.3</td>\n",
       "      <td>18.6</td>\n",
       "      <td>12.8</td>\n",
       "      <td>-13.3</td>\n",
       "      <td>-2.4</td>\n",
       "      <td>3.750000e+14</td>\n",
       "      <td>440.0</td>\n",
       "    </tr>\n",
       "  </tbody>\n",
       "</table>\n",
       "</div>"
      ],
      "text/plain": [
       "    Peak Brightness Date/Time (UT) Latitude (deg.) Longitude (deg.)  \\\n",
       "369            2013-02-15 03:20:33           54.8N            61.1E   \n",
       "\n",
       "     Altitude (km)  Velocity (km/s)    vx    vy   vz  \\\n",
       "369           23.3             18.6  12.8 -13.3 -2.4   \n",
       "\n",
       "     Total Radiated Energy (J)  Calculated Total Impact Energy (kt)  \n",
       "369               3.750000e+14                                440.0  "
      ]
     },
     "execution_count": 91,
     "metadata": {},
     "output_type": "execute_result"
    }
   ],
   "source": [
    "df[df['Total Radiated Energy (J)']> 3.5e14 ] # verificar dados do outlier "
   ]
  },
  {
   "cell_type": "markdown",
   "id": "6e2cb09d",
   "metadata": {},
   "source": [
    "#### Calculated Total Impact Energy (kt)"
   ]
  },
  {
   "cell_type": "code",
   "execution_count": 70,
   "id": "2425bad7",
   "metadata": {},
   "outputs": [
    {
     "data": {
      "text/plain": [
       "<Axes: >"
      ]
     },
     "execution_count": 70,
     "metadata": {},
     "output_type": "execute_result"
    },
    {
     "data": {
      "image/png": "[encoded data removed]",
      "text/plain": [
       "<Figure size 640x480 with 1 Axes>"
      ]
     },
     "metadata": {},
     "output_type": "display_data"
    }
   ],
   "source": [
    "df.boxplot(column='Calculated Total Impact Energy (kt)')"
   ]
  },
  {
   "cell_type": "code",
   "execution_count": 75,
   "id": "4d49cd38",
   "metadata": {},
   "outputs": [
    {
     "data": {
      "text/html": [
       "<div>\n",
       "<style scoped>\n",
       "    .dataframe tbody tr th:only-of-type {\n",
       "        vertical-align: middle;\n",
       "    }\n",
       "\n",
       "    .dataframe tbody tr th {\n",
       "        vertical-align: top;\n",
       "    }\n",
       "\n",
       "    .dataframe thead th {\n",
       "        text-align: right;\n",
       "    }\n",
       "</style>\n",
       "<table border=\"1\" class=\"dataframe\">\n",
       "  <thead>\n",
       "    <tr style=\"text-align: right;\">\n",
       "      <th></th>\n",
       "      <th>Peak Brightness Date/Time (UT)</th>\n",
       "      <th>Latitude (deg.)</th>\n",
       "      <th>Longitude (deg.)</th>\n",
       "      <th>Altitude (km)</th>\n",
       "      <th>Velocity (km/s)</th>\n",
       "      <th>vx</th>\n",
       "      <th>vy</th>\n",
       "      <th>vz</th>\n",
       "      <th>Total Radiated Energy (J)</th>\n",
       "      <th>Calculated Total Impact Energy (kt)</th>\n",
       "    </tr>\n",
       "  </thead>\n",
       "  <tbody>\n",
       "    <tr>\n",
       "      <th>369</th>\n",
       "      <td>2013-02-15 03:20:33</td>\n",
       "      <td>54.8N</td>\n",
       "      <td>61.1E</td>\n",
       "      <td>23.3</td>\n",
       "      <td>18.6</td>\n",
       "      <td>12.8</td>\n",
       "      <td>-13.3</td>\n",
       "      <td>-2.4</td>\n",
       "      <td>3.750000e+14</td>\n",
       "      <td>440.0</td>\n",
       "    </tr>\n",
       "  </tbody>\n",
       "</table>\n",
       "</div>"
      ],
      "text/plain": [
       "    Peak Brightness Date/Time (UT) Latitude (deg.) Longitude (deg.)  \\\n",
       "369            2013-02-15 03:20:33           54.8N            61.1E   \n",
       "\n",
       "     Altitude (km)  Velocity (km/s)    vx    vy   vz  \\\n",
       "369           23.3             18.6  12.8 -13.3 -2.4   \n",
       "\n",
       "     Total Radiated Energy (J)  Calculated Total Impact Energy (kt)  \n",
       "369               3.750000e+14                                440.0  "
      ]
     },
     "execution_count": 75,
     "metadata": {},
     "output_type": "execute_result"
    }
   ],
   "source": [
    "df[df['Calculated Total Impact Energy (kt)']> 400] # verificar dados do outlier "
   ]
  },
  {
   "cell_type": "code",
   "execution_count": null,
   "id": "dd9ee272",
   "metadata": {},
   "outputs": [],
   "source": []
  }
 ],
 "metadata": {
  "kernelspec": {
   "display_name": "Python 3 (ipykernel)",
   "language": "python",
   "name": "python3"
  },
  "language_info": {
   "codemirror_mode": {
    "name": "ipython",
    "version": 3
   },
   "file_extension": ".py",
   "mimetype": "text/x-python",
   "name": "python",
   "nbconvert_exporter": "python",
   "pygments_lexer": "ipython3",
   "version": "3.11.1"
  }
 },
 "nbformat": 4,
 "nbformat_minor": 5
}
